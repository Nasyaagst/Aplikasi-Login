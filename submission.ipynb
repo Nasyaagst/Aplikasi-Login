{
  "cells": [
    {
      "cell_type": "markdown",
      "metadata": {
        "id": "view-in-github",
        "colab_type": "text"
      },
      "source": [
        "<a href=\"https://colab.research.google.com/github/Nasyaagst/Aplikasi-Login/blob/main/submission.ipynb\" target=\"_parent\"><img src=\"https://colab.research.google.com/assets/colab-badge.svg\" alt=\"Open In Colab\"/></a>"
      ]
    },
    {
      "cell_type": "markdown",
      "metadata": {
        "id": "H9wADwK78DCz"
      },
      "source": [
        "# Proyek Analisis Data: [Input Nama Dataset]\n",
        "- **Nama:** Nasya Fatika Augusta\n",
        "- **Email:** nasyaagst@gmail.com\n",
        "- **ID Dicoding:** nasyafatikaa"
      ]
    },
    {
      "cell_type": "markdown",
      "metadata": {
        "id": "eE0raob58DC0"
      },
      "source": [
        "## Menentukan Pertanyaan Bisnis"
      ]
    },
    {
      "cell_type": "markdown",
      "metadata": {
        "id": "GmQeQ5YF8DC0"
      },
      "source": [
        "1. Which pollutants are most prevalent in the Shunyi area?\n",
        "2. How is the impact of weather variables on each pollutant concentrations in Shunyi?\n"
      ]
    },
    {
      "cell_type": "markdown",
      "metadata": {
        "id": "H-z4QGlO8DC1"
      },
      "source": [
        "## Import Semua Packages/Library yang Digunakan"
      ]
    },
    {
      "cell_type": "code",
      "execution_count": 83,
      "metadata": {
        "id": "FVYwaObI8DC1"
      },
      "outputs": [],
      "source": [
        "import numpy as np\n",
        "import pandas as pd\n",
        "import matplotlib.pyplot as plt\n",
        "import matplotlib.colors as mcolors\n",
        "import seaborn as sns"
      ]
    },
    {
      "cell_type": "markdown",
      "metadata": {
        "id": "h_Sh51Xy8DC1"
      },
      "source": [
        "## Data Wrangling"
      ]
    },
    {
      "cell_type": "markdown",
      "source": [
        "### Gathering Data"
      ],
      "metadata": {
        "id": "ai6YfhGyAyBL"
      }
    },
    {
      "cell_type": "markdown",
      "source": [
        "Data used in this analysis is the Air Quality Dataset which can be accesssed in Dicoding's Google Drive."
      ],
      "metadata": {
        "id": "7uxGf4F__rLz"
      }
    },
    {
      "cell_type": "code",
      "source": [
        "#Load the Air Quality dataset into a dataframe\n",
        "df = pd.read_csv('PRSA_Data_Shunyi_20130301-20170228.csv')"
      ],
      "metadata": {
        "id": "Xd3dH-Gh9kr6"
      },
      "execution_count": 2,
      "outputs": []
    },
    {
      "cell_type": "markdown",
      "source": [
        "Below is the snippet of PRSA_Data_Shunyi_20130301-20170228.csv"
      ],
      "metadata": {
        "id": "FJW_N-KPARjH"
      }
    },
    {
      "cell_type": "code",
      "source": [
        "df.head()"
      ],
      "metadata": {
        "colab": {
          "base_uri": "https://localhost:8080/",
          "height": 226
        },
        "id": "1uztZEMsAckm",
        "outputId": "79054672-ea79-4689-f588-63e48fe629d5"
      },
      "execution_count": 3,
      "outputs": [
        {
          "output_type": "execute_result",
          "data": {
            "text/plain": [
              "   No  year  month  day  hour  PM2.5  PM10  SO2  NO2     CO    O3  TEMP  \\\n",
              "0   1  2013      3    1     0    3.0   6.0  3.0  8.0  300.0  44.0  -0.9   \n",
              "1   2  2013      3    1     1   12.0  12.0  3.0  7.0  300.0  47.0  -1.1   \n",
              "2   3  2013      3    1     2   14.0  14.0  NaN  7.0  200.0  22.0  -1.7   \n",
              "3   4  2013      3    1     3   12.0  12.0  3.0  5.0    NaN   NaN  -2.1   \n",
              "4   5  2013      3    1     4   12.0  12.0  3.0  NaN  200.0  11.0  -2.4   \n",
              "\n",
              "     PRES  DEWP  RAIN  wd  WSPM station  \n",
              "0  1025.8 -20.5   0.0  NW   9.3  Shunyi  \n",
              "1  1026.1 -21.3   0.0  NW   9.4  Shunyi  \n",
              "2  1026.2 -23.0   0.0  NW   8.6  Shunyi  \n",
              "3  1027.3 -23.3   0.0  NW   6.6  Shunyi  \n",
              "4  1027.7 -22.9   0.0  NW   4.5  Shunyi  "
            ],
            "text/html": [
              "\n",
              "  <div id=\"df-965b2b10-5d17-483d-9762-2e5741426c79\" class=\"colab-df-container\">\n",
              "    <div>\n",
              "<style scoped>\n",
              "    .dataframe tbody tr th:only-of-type {\n",
              "        vertical-align: middle;\n",
              "    }\n",
              "\n",
              "    .dataframe tbody tr th {\n",
              "        vertical-align: top;\n",
              "    }\n",
              "\n",
              "    .dataframe thead th {\n",
              "        text-align: right;\n",
              "    }\n",
              "</style>\n",
              "<table border=\"1\" class=\"dataframe\">\n",
              "  <thead>\n",
              "    <tr style=\"text-align: right;\">\n",
              "      <th></th>\n",
              "      <th>No</th>\n",
              "      <th>year</th>\n",
              "      <th>month</th>\n",
              "      <th>day</th>\n",
              "      <th>hour</th>\n",
              "      <th>PM2.5</th>\n",
              "      <th>PM10</th>\n",
              "      <th>SO2</th>\n",
              "      <th>NO2</th>\n",
              "      <th>CO</th>\n",
              "      <th>O3</th>\n",
              "      <th>TEMP</th>\n",
              "      <th>PRES</th>\n",
              "      <th>DEWP</th>\n",
              "      <th>RAIN</th>\n",
              "      <th>wd</th>\n",
              "      <th>WSPM</th>\n",
              "      <th>station</th>\n",
              "    </tr>\n",
              "  </thead>\n",
              "  <tbody>\n",
              "    <tr>\n",
              "      <th>0</th>\n",
              "      <td>1</td>\n",
              "      <td>2013</td>\n",
              "      <td>3</td>\n",
              "      <td>1</td>\n",
              "      <td>0</td>\n",
              "      <td>3.0</td>\n",
              "      <td>6.0</td>\n",
              "      <td>3.0</td>\n",
              "      <td>8.0</td>\n",
              "      <td>300.0</td>\n",
              "      <td>44.0</td>\n",
              "      <td>-0.9</td>\n",
              "      <td>1025.8</td>\n",
              "      <td>-20.5</td>\n",
              "      <td>0.0</td>\n",
              "      <td>NW</td>\n",
              "      <td>9.3</td>\n",
              "      <td>Shunyi</td>\n",
              "    </tr>\n",
              "    <tr>\n",
              "      <th>1</th>\n",
              "      <td>2</td>\n",
              "      <td>2013</td>\n",
              "      <td>3</td>\n",
              "      <td>1</td>\n",
              "      <td>1</td>\n",
              "      <td>12.0</td>\n",
              "      <td>12.0</td>\n",
              "      <td>3.0</td>\n",
              "      <td>7.0</td>\n",
              "      <td>300.0</td>\n",
              "      <td>47.0</td>\n",
              "      <td>-1.1</td>\n",
              "      <td>1026.1</td>\n",
              "      <td>-21.3</td>\n",
              "      <td>0.0</td>\n",
              "      <td>NW</td>\n",
              "      <td>9.4</td>\n",
              "      <td>Shunyi</td>\n",
              "    </tr>\n",
              "    <tr>\n",
              "      <th>2</th>\n",
              "      <td>3</td>\n",
              "      <td>2013</td>\n",
              "      <td>3</td>\n",
              "      <td>1</td>\n",
              "      <td>2</td>\n",
              "      <td>14.0</td>\n",
              "      <td>14.0</td>\n",
              "      <td>NaN</td>\n",
              "      <td>7.0</td>\n",
              "      <td>200.0</td>\n",
              "      <td>22.0</td>\n",
              "      <td>-1.7</td>\n",
              "      <td>1026.2</td>\n",
              "      <td>-23.0</td>\n",
              "      <td>0.0</td>\n",
              "      <td>NW</td>\n",
              "      <td>8.6</td>\n",
              "      <td>Shunyi</td>\n",
              "    </tr>\n",
              "    <tr>\n",
              "      <th>3</th>\n",
              "      <td>4</td>\n",
              "      <td>2013</td>\n",
              "      <td>3</td>\n",
              "      <td>1</td>\n",
              "      <td>3</td>\n",
              "      <td>12.0</td>\n",
              "      <td>12.0</td>\n",
              "      <td>3.0</td>\n",
              "      <td>5.0</td>\n",
              "      <td>NaN</td>\n",
              "      <td>NaN</td>\n",
              "      <td>-2.1</td>\n",
              "      <td>1027.3</td>\n",
              "      <td>-23.3</td>\n",
              "      <td>0.0</td>\n",
              "      <td>NW</td>\n",
              "      <td>6.6</td>\n",
              "      <td>Shunyi</td>\n",
              "    </tr>\n",
              "    <tr>\n",
              "      <th>4</th>\n",
              "      <td>5</td>\n",
              "      <td>2013</td>\n",
              "      <td>3</td>\n",
              "      <td>1</td>\n",
              "      <td>4</td>\n",
              "      <td>12.0</td>\n",
              "      <td>12.0</td>\n",
              "      <td>3.0</td>\n",
              "      <td>NaN</td>\n",
              "      <td>200.0</td>\n",
              "      <td>11.0</td>\n",
              "      <td>-2.4</td>\n",
              "      <td>1027.7</td>\n",
              "      <td>-22.9</td>\n",
              "      <td>0.0</td>\n",
              "      <td>NW</td>\n",
              "      <td>4.5</td>\n",
              "      <td>Shunyi</td>\n",
              "    </tr>\n",
              "  </tbody>\n",
              "</table>\n",
              "</div>\n",
              "    <div class=\"colab-df-buttons\">\n",
              "\n",
              "  <div class=\"colab-df-container\">\n",
              "    <button class=\"colab-df-convert\" onclick=\"convertToInteractive('df-965b2b10-5d17-483d-9762-2e5741426c79')\"\n",
              "            title=\"Convert this dataframe to an interactive table.\"\n",
              "            style=\"display:none;\">\n",
              "\n",
              "  <svg xmlns=\"http://www.w3.org/2000/svg\" height=\"24px\" viewBox=\"0 -960 960 960\">\n",
              "    <path d=\"M120-120v-720h720v720H120Zm60-500h600v-160H180v160Zm220 220h160v-160H400v160Zm0 220h160v-160H400v160ZM180-400h160v-160H180v160Zm440 0h160v-160H620v160ZM180-180h160v-160H180v160Zm440 0h160v-160H620v160Z\"/>\n",
              "  </svg>\n",
              "    </button>\n",
              "\n",
              "  <style>\n",
              "    .colab-df-container {\n",
              "      display:flex;\n",
              "      gap: 12px;\n",
              "    }\n",
              "\n",
              "    .colab-df-convert {\n",
              "      background-color: #E8F0FE;\n",
              "      border: none;\n",
              "      border-radius: 50%;\n",
              "      cursor: pointer;\n",
              "      display: none;\n",
              "      fill: #1967D2;\n",
              "      height: 32px;\n",
              "      padding: 0 0 0 0;\n",
              "      width: 32px;\n",
              "    }\n",
              "\n",
              "    .colab-df-convert:hover {\n",
              "      background-color: #E2EBFA;\n",
              "      box-shadow: 0px 1px 2px rgba(60, 64, 67, 0.3), 0px 1px 3px 1px rgba(60, 64, 67, 0.15);\n",
              "      fill: #174EA6;\n",
              "    }\n",
              "\n",
              "    .colab-df-buttons div {\n",
              "      margin-bottom: 4px;\n",
              "    }\n",
              "\n",
              "    [theme=dark] .colab-df-convert {\n",
              "      background-color: #3B4455;\n",
              "      fill: #D2E3FC;\n",
              "    }\n",
              "\n",
              "    [theme=dark] .colab-df-convert:hover {\n",
              "      background-color: #434B5C;\n",
              "      box-shadow: 0px 1px 3px 1px rgba(0, 0, 0, 0.15);\n",
              "      filter: drop-shadow(0px 1px 2px rgba(0, 0, 0, 0.3));\n",
              "      fill: #FFFFFF;\n",
              "    }\n",
              "  </style>\n",
              "\n",
              "    <script>\n",
              "      const buttonEl =\n",
              "        document.querySelector('#df-965b2b10-5d17-483d-9762-2e5741426c79 button.colab-df-convert');\n",
              "      buttonEl.style.display =\n",
              "        google.colab.kernel.accessAllowed ? 'block' : 'none';\n",
              "\n",
              "      async function convertToInteractive(key) {\n",
              "        const element = document.querySelector('#df-965b2b10-5d17-483d-9762-2e5741426c79');\n",
              "        const dataTable =\n",
              "          await google.colab.kernel.invokeFunction('convertToInteractive',\n",
              "                                                    [key], {});\n",
              "        if (!dataTable) return;\n",
              "\n",
              "        const docLinkHtml = 'Like what you see? Visit the ' +\n",
              "          '<a target=\"_blank\" href=https://colab.research.google.com/notebooks/data_table.ipynb>data table notebook</a>'\n",
              "          + ' to learn more about interactive tables.';\n",
              "        element.innerHTML = '';\n",
              "        dataTable['output_type'] = 'display_data';\n",
              "        await google.colab.output.renderOutput(dataTable, element);\n",
              "        const docLink = document.createElement('div');\n",
              "        docLink.innerHTML = docLinkHtml;\n",
              "        element.appendChild(docLink);\n",
              "      }\n",
              "    </script>\n",
              "  </div>\n",
              "\n",
              "\n",
              "<div id=\"df-482eda6e-7ef8-42f4-8468-515d2e23bc16\">\n",
              "  <button class=\"colab-df-quickchart\" onclick=\"quickchart('df-482eda6e-7ef8-42f4-8468-515d2e23bc16')\"\n",
              "            title=\"Suggest charts\"\n",
              "            style=\"display:none;\">\n",
              "\n",
              "<svg xmlns=\"http://www.w3.org/2000/svg\" height=\"24px\"viewBox=\"0 0 24 24\"\n",
              "     width=\"24px\">\n",
              "    <g>\n",
              "        <path d=\"M19 3H5c-1.1 0-2 .9-2 2v14c0 1.1.9 2 2 2h14c1.1 0 2-.9 2-2V5c0-1.1-.9-2-2-2zM9 17H7v-7h2v7zm4 0h-2V7h2v10zm4 0h-2v-4h2v4z\"/>\n",
              "    </g>\n",
              "</svg>\n",
              "  </button>\n",
              "\n",
              "<style>\n",
              "  .colab-df-quickchart {\n",
              "      --bg-color: #E8F0FE;\n",
              "      --fill-color: #1967D2;\n",
              "      --hover-bg-color: #E2EBFA;\n",
              "      --hover-fill-color: #174EA6;\n",
              "      --disabled-fill-color: #AAA;\n",
              "      --disabled-bg-color: #DDD;\n",
              "  }\n",
              "\n",
              "  [theme=dark] .colab-df-quickchart {\n",
              "      --bg-color: #3B4455;\n",
              "      --fill-color: #D2E3FC;\n",
              "      --hover-bg-color: #434B5C;\n",
              "      --hover-fill-color: #FFFFFF;\n",
              "      --disabled-bg-color: #3B4455;\n",
              "      --disabled-fill-color: #666;\n",
              "  }\n",
              "\n",
              "  .colab-df-quickchart {\n",
              "    background-color: var(--bg-color);\n",
              "    border: none;\n",
              "    border-radius: 50%;\n",
              "    cursor: pointer;\n",
              "    display: none;\n",
              "    fill: var(--fill-color);\n",
              "    height: 32px;\n",
              "    padding: 0;\n",
              "    width: 32px;\n",
              "  }\n",
              "\n",
              "  .colab-df-quickchart:hover {\n",
              "    background-color: var(--hover-bg-color);\n",
              "    box-shadow: 0 1px 2px rgba(60, 64, 67, 0.3), 0 1px 3px 1px rgba(60, 64, 67, 0.15);\n",
              "    fill: var(--button-hover-fill-color);\n",
              "  }\n",
              "\n",
              "  .colab-df-quickchart-complete:disabled,\n",
              "  .colab-df-quickchart-complete:disabled:hover {\n",
              "    background-color: var(--disabled-bg-color);\n",
              "    fill: var(--disabled-fill-color);\n",
              "    box-shadow: none;\n",
              "  }\n",
              "\n",
              "  .colab-df-spinner {\n",
              "    border: 2px solid var(--fill-color);\n",
              "    border-color: transparent;\n",
              "    border-bottom-color: var(--fill-color);\n",
              "    animation:\n",
              "      spin 1s steps(1) infinite;\n",
              "  }\n",
              "\n",
              "  @keyframes spin {\n",
              "    0% {\n",
              "      border-color: transparent;\n",
              "      border-bottom-color: var(--fill-color);\n",
              "      border-left-color: var(--fill-color);\n",
              "    }\n",
              "    20% {\n",
              "      border-color: transparent;\n",
              "      border-left-color: var(--fill-color);\n",
              "      border-top-color: var(--fill-color);\n",
              "    }\n",
              "    30% {\n",
              "      border-color: transparent;\n",
              "      border-left-color: var(--fill-color);\n",
              "      border-top-color: var(--fill-color);\n",
              "      border-right-color: var(--fill-color);\n",
              "    }\n",
              "    40% {\n",
              "      border-color: transparent;\n",
              "      border-right-color: var(--fill-color);\n",
              "      border-top-color: var(--fill-color);\n",
              "    }\n",
              "    60% {\n",
              "      border-color: transparent;\n",
              "      border-right-color: var(--fill-color);\n",
              "    }\n",
              "    80% {\n",
              "      border-color: transparent;\n",
              "      border-right-color: var(--fill-color);\n",
              "      border-bottom-color: var(--fill-color);\n",
              "    }\n",
              "    90% {\n",
              "      border-color: transparent;\n",
              "      border-bottom-color: var(--fill-color);\n",
              "    }\n",
              "  }\n",
              "</style>\n",
              "\n",
              "  <script>\n",
              "    async function quickchart(key) {\n",
              "      const quickchartButtonEl =\n",
              "        document.querySelector('#' + key + ' button');\n",
              "      quickchartButtonEl.disabled = true;  // To prevent multiple clicks.\n",
              "      quickchartButtonEl.classList.add('colab-df-spinner');\n",
              "      try {\n",
              "        const charts = await google.colab.kernel.invokeFunction(\n",
              "            'suggestCharts', [key], {});\n",
              "      } catch (error) {\n",
              "        console.error('Error during call to suggestCharts:', error);\n",
              "      }\n",
              "      quickchartButtonEl.classList.remove('colab-df-spinner');\n",
              "      quickchartButtonEl.classList.add('colab-df-quickchart-complete');\n",
              "    }\n",
              "    (() => {\n",
              "      let quickchartButtonEl =\n",
              "        document.querySelector('#df-482eda6e-7ef8-42f4-8468-515d2e23bc16 button');\n",
              "      quickchartButtonEl.style.display =\n",
              "        google.colab.kernel.accessAllowed ? 'block' : 'none';\n",
              "    })();\n",
              "  </script>\n",
              "</div>\n",
              "    </div>\n",
              "  </div>\n"
            ],
            "application/vnd.google.colaboratory.intrinsic+json": {
              "type": "dataframe",
              "variable_name": "df",
              "summary": "{\n  \"name\": \"df\",\n  \"rows\": 35064,\n  \"fields\": [\n    {\n      \"column\": \"No\",\n      \"properties\": {\n        \"dtype\": \"number\",\n        \"std\": 10122,\n        \"min\": 1,\n        \"max\": 35064,\n        \"num_unique_values\": 35064,\n        \"samples\": [\n          6071,\n          32601,\n          8847\n        ],\n        \"semantic_type\": \"\",\n        \"description\": \"\"\n      }\n    },\n    {\n      \"column\": \"year\",\n      \"properties\": {\n        \"dtype\": \"number\",\n        \"std\": 1,\n        \"min\": 2013,\n        \"max\": 2017,\n        \"num_unique_values\": 5,\n        \"samples\": [\n          2014,\n          2017,\n          2015\n        ],\n        \"semantic_type\": \"\",\n        \"description\": \"\"\n      }\n    },\n    {\n      \"column\": \"month\",\n      \"properties\": {\n        \"dtype\": \"number\",\n        \"std\": 3,\n        \"min\": 1,\n        \"max\": 12,\n        \"num_unique_values\": 12,\n        \"samples\": [\n          1,\n          12,\n          3\n        ],\n        \"semantic_type\": \"\",\n        \"description\": \"\"\n      }\n    },\n    {\n      \"column\": \"day\",\n      \"properties\": {\n        \"dtype\": \"number\",\n        \"std\": 8,\n        \"min\": 1,\n        \"max\": 31,\n        \"num_unique_values\": 31,\n        \"samples\": [\n          28,\n          16,\n          24\n        ],\n        \"semantic_type\": \"\",\n        \"description\": \"\"\n      }\n    },\n    {\n      \"column\": \"hour\",\n      \"properties\": {\n        \"dtype\": \"number\",\n        \"std\": 6,\n        \"min\": 0,\n        \"max\": 23,\n        \"num_unique_values\": 24,\n        \"samples\": [\n          8,\n          16,\n          0\n        ],\n        \"semantic_type\": \"\",\n        \"description\": \"\"\n      }\n    },\n    {\n      \"column\": \"PM2.5\",\n      \"properties\": {\n        \"dtype\": \"number\",\n        \"std\": 81.2317393903172,\n        \"min\": 2.0,\n        \"max\": 941.0,\n        \"num_unique_values\": 567,\n        \"samples\": [\n          433.0,\n          570.0,\n          86.0\n        ],\n        \"semantic_type\": \"\",\n        \"description\": \"\"\n      }\n    },\n    {\n      \"column\": \"PM10\",\n      \"properties\": {\n        \"dtype\": \"number\",\n        \"std\": 89.1437184830847,\n        \"min\": 2.0,\n        \"max\": 999.0,\n        \"num_unique_values\": 605,\n        \"samples\": [\n          398.0,\n          2.0,\n          156.0\n        ],\n        \"semantic_type\": \"\",\n        \"description\": \"\"\n      }\n    },\n    {\n      \"column\": \"SO2\",\n      \"properties\": {\n        \"dtype\": \"number\",\n        \"std\": 19.57206812996085,\n        \"min\": 0.2856,\n        \"max\": 239.0,\n        \"num_unique_values\": 267,\n        \"samples\": [\n          74.256,\n          87.0,\n          16.8504\n        ],\n        \"semantic_type\": \"\",\n        \"description\": \"\"\n      }\n    },\n    {\n      \"column\": \"NO2\",\n      \"properties\": {\n        \"dtype\": \"number\",\n        \"std\": 30.996827538499847,\n        \"min\": 2.0,\n        \"max\": 258.0,\n        \"num_unique_values\": 517,\n        \"samples\": [\n          35.9275,\n          207.0,\n          46.3978\n        ],\n        \"semantic_type\": \"\",\n        \"description\": \"\"\n      }\n    },\n    {\n      \"column\": \"CO\",\n      \"properties\": {\n        \"dtype\": \"number\",\n        \"std\": 1156.374101567485,\n        \"min\": 100.0,\n        \"max\": 10000.0,\n        \"num_unique_values\": 115,\n        \"samples\": [\n          7700.0,\n          700.0,\n          4099.0\n        ],\n        \"semantic_type\": \"\",\n        \"description\": \"\"\n      }\n    },\n    {\n      \"column\": \"O3\",\n      \"properties\": {\n        \"dtype\": \"number\",\n        \"std\": 54.87372582064849,\n        \"min\": 0.2142,\n        \"max\": 351.7164,\n        \"num_unique_values\": 961,\n        \"samples\": [\n          225.0,\n          155.9376,\n          278.0\n        ],\n        \"semantic_type\": \"\",\n        \"description\": \"\"\n      }\n    },\n    {\n      \"column\": \"TEMP\",\n      \"properties\": {\n        \"dtype\": \"number\",\n        \"std\": 11.483587805643856,\n        \"min\": -16.8,\n        \"max\": 40.6,\n        \"num_unique_values\": 985,\n        \"samples\": [\n          19.35,\n          -7.4,\n          6.46\n        ],\n        \"semantic_type\": \"\",\n        \"description\": \"\"\n      }\n    },\n    {\n      \"column\": \"PRES\",\n      \"properties\": {\n        \"dtype\": \"number\",\n        \"std\": 10.177339261301771,\n        \"min\": 988.0,\n        \"max\": 1042.8,\n        \"num_unique_values\": 602,\n        \"samples\": [\n          1000.3,\n          1028.8,\n          1019.75\n        ],\n        \"semantic_type\": \"\",\n        \"description\": \"\"\n      }\n    },\n    {\n      \"column\": \"DEWP\",\n      \"properties\": {\n        \"dtype\": \"number\",\n        \"std\": 13.72662210951981,\n        \"min\": -36.0,\n        \"max\": 27.5,\n        \"num_unique_values\": 608,\n        \"samples\": [\n          -2.1,\n          -20.6,\n          0.2\n        ],\n        \"semantic_type\": \"\",\n        \"description\": \"\"\n      }\n    },\n    {\n      \"column\": \"RAIN\",\n      \"properties\": {\n        \"dtype\": \"number\",\n        \"std\": 0.7616684917048265,\n        \"min\": 0.0,\n        \"max\": 37.3,\n        \"num_unique_values\": 120,\n        \"samples\": [\n          4.7,\n          4.0,\n          1.2\n        ],\n        \"semantic_type\": \"\",\n        \"description\": \"\"\n      }\n    },\n    {\n      \"column\": \"wd\",\n      \"properties\": {\n        \"dtype\": \"category\",\n        \"num_unique_values\": 16,\n        \"samples\": [\n          \"NW\",\n          \"NNW\",\n          \"ENE\"\n        ],\n        \"semantic_type\": \"\",\n        \"description\": \"\"\n      }\n    },\n    {\n      \"column\": \"WSPM\",\n      \"properties\": {\n        \"dtype\": \"number\",\n        \"std\": 1.2878169996145796,\n        \"min\": 0.0,\n        \"max\": 12.8,\n        \"num_unique_values\": 103,\n        \"samples\": [\n          0.1,\n          3.9,\n          5.1\n        ],\n        \"semantic_type\": \"\",\n        \"description\": \"\"\n      }\n    },\n    {\n      \"column\": \"station\",\n      \"properties\": {\n        \"dtype\": \"category\",\n        \"num_unique_values\": 1,\n        \"samples\": [\n          \"Shunyi\"\n        ],\n        \"semantic_type\": \"\",\n        \"description\": \"\"\n      }\n    }\n  ]\n}"
            }
          },
          "metadata": {},
          "execution_count": 3
        }
      ]
    },
    {
      "cell_type": "markdown",
      "metadata": {
        "id": "FHSiqaZp8DC1"
      },
      "source": [
        "### Assessing Data"
      ]
    },
    {
      "cell_type": "markdown",
      "source": [
        "Now, let's assess the data by using info() function"
      ],
      "metadata": {
        "id": "wmsKPSSFBONk"
      }
    },
    {
      "cell_type": "code",
      "source": [
        "df.info()"
      ],
      "metadata": {
        "id": "ax-3tEjc9Cj1",
        "colab": {
          "base_uri": "https://localhost:8080/"
        },
        "outputId": "c3f31d81-3f33-40bb-b2bb-029b8ef1f362"
      },
      "execution_count": 4,
      "outputs": [
        {
          "output_type": "stream",
          "name": "stdout",
          "text": [
            "<class 'pandas.core.frame.DataFrame'>\n",
            "RangeIndex: 35064 entries, 0 to 35063\n",
            "Data columns (total 18 columns):\n",
            " #   Column   Non-Null Count  Dtype  \n",
            "---  ------   --------------  -----  \n",
            " 0   No       35064 non-null  int64  \n",
            " 1   year     35064 non-null  int64  \n",
            " 2   month    35064 non-null  int64  \n",
            " 3   day      35064 non-null  int64  \n",
            " 4   hour     35064 non-null  int64  \n",
            " 5   PM2.5    34151 non-null  float64\n",
            " 6   PM10     34516 non-null  float64\n",
            " 7   SO2      33768 non-null  float64\n",
            " 8   NO2      33699 non-null  float64\n",
            " 9   CO       32886 non-null  float64\n",
            " 10  O3       33575 non-null  float64\n",
            " 11  TEMP     35013 non-null  float64\n",
            " 12  PRES     35013 non-null  float64\n",
            " 13  DEWP     35010 non-null  float64\n",
            " 14  RAIN     35013 non-null  float64\n",
            " 15  wd       34581 non-null  object \n",
            " 16  WSPM     35020 non-null  float64\n",
            " 17  station  35064 non-null  object \n",
            "dtypes: float64(11), int64(5), object(2)\n",
            "memory usage: 4.8+ MB\n"
          ]
        }
      ]
    },
    {
      "cell_type": "markdown",
      "source": [
        "It can be seen that the dataset contains 35064 rows and 18 columns.\n",
        "\n",
        "Confused about all the attributes? Here is the glossarium you might need:\n",
        "\n",
        "\n",
        "1.  **No**: A unique identifier for each data entry.\n",
        "2.  **Year**: The year in which the data was recorded: 20130301 - 20170228\n",
        "3.  **Month**: The month in which the data was recorded: 20130301 - 20170228\n",
        "4.  **Day**: The day of the month in which the data was recorded.\n",
        "5.  **Hour**: The hour of the day in which the data was recorded: 24\n",
        "6.  **PM2.5**: Particulate Matter with diameter less than 2.5 micrometers, measured in micrograms per cubic meter (µg/m³):\n",
        "7.  **PM10**: Particulate Matter with diameter less than 10 micrometers, measured in micrograms per cubic meter (µg/m³).\n",
        "8.  **SO2**: Sulfur Dioxide concentration, measured in micrograms per cubic meter (µg/m³).\n",
        "9.  **NO2**: Nitrogen Dioxide concentration, measured in micrograms per cubic meter (µg/m³).\n",
        "10.  **CO**: Carbon Monoxide concentration, measured in milligrams per cubic meter (mg/m³).\n",
        "11.  **O3**: Ozone concentration, measured in micrograms per cubic meter (µg/m³).\n",
        "12.  **TEMP**: Temperature, measured in degrees Celsius (°C).\n",
        "13.  **PRES**: Atmospheric Pressure, measured in hectopascals (hPa).\n",
        "14.  **DEWP**: Dew Point Temperature, measured in degrees Celsius (°C).\n",
        "15.  **RAIN**: Amount of precipitation, measured in millimeters (mm).\n",
        "16.  **wd**: Wind Direction, represented as cardinal directions (e.g., N for North, S for South).\n",
        "17.  **WSPM**: Wind Speed, measured in meters per second (m/s).\n",
        "18.  **station**: The name or identifier of the monitoring station where the data was recorded.\n",
        "\n",
        "\n"
      ],
      "metadata": {
        "id": "zVbdOzJYZft0"
      }
    },
    {
      "cell_type": "markdown",
      "source": [
        "Check if there are any missing values"
      ],
      "metadata": {
        "id": "PJaR0gXPBqOU"
      }
    },
    {
      "cell_type": "code",
      "source": [
        "df.isnull().sum()"
      ],
      "metadata": {
        "colab": {
          "base_uri": "https://localhost:8080/"
        },
        "id": "pN_U_uUWByYo",
        "outputId": "3fb32ee5-ba6d-4adb-d16e-e17beeaab452"
      },
      "execution_count": 5,
      "outputs": [
        {
          "output_type": "execute_result",
          "data": {
            "text/plain": [
              "No            0\n",
              "year          0\n",
              "month         0\n",
              "day           0\n",
              "hour          0\n",
              "PM2.5       913\n",
              "PM10        548\n",
              "SO2        1296\n",
              "NO2        1365\n",
              "CO         2178\n",
              "O3         1489\n",
              "TEMP         51\n",
              "PRES         51\n",
              "DEWP         54\n",
              "RAIN         51\n",
              "wd          483\n",
              "WSPM         44\n",
              "station       0\n",
              "dtype: int64"
            ]
          },
          "metadata": {},
          "execution_count": 5
        }
      ]
    },
    {
      "cell_type": "markdown",
      "source": [
        "The output of df.isnull().sum() indicates the number of missing values (NaN) in each column of the DataFrame.\n",
        "\n",
        "1. There are no missing values in the \"No\" column.\n",
        "2. There are no missing values in the date and time columns.\n",
        "3. In the air polluntants concentration columns, they have varying numbers of missing values, with CO having the highest number of missing values (2178).\n",
        "4. The columns which represent weather variables such as temperature, pressure, dew point, rainfall, and wind speed. They have a relatively small number of missing values.\n",
        "5. This column \"wd\" represents wind direction. It has a moderate number of missing values.\n",
        "6. There are no missing values in the \"station\" column.\n",
        "\n",
        "These missing values may need to be handled before further analysis."
      ],
      "metadata": {
        "id": "iGhRMcUcC-Qr"
      }
    },
    {
      "cell_type": "markdown",
      "source": [
        "Now, check if there are any duplicated data:"
      ],
      "metadata": {
        "id": "u5kFAl5BEz_r"
      }
    },
    {
      "cell_type": "code",
      "source": [
        "df.duplicated().sum()"
      ],
      "metadata": {
        "colab": {
          "base_uri": "https://localhost:8080/"
        },
        "id": "qJtJxuWgEoZu",
        "outputId": "04b9f821-84df-4c43-c7c7-f5477f2cb093"
      },
      "execution_count": 6,
      "outputs": [
        {
          "output_type": "execute_result",
          "data": {
            "text/plain": [
              "0"
            ]
          },
          "metadata": {},
          "execution_count": 6
        }
      ]
    },
    {
      "cell_type": "markdown",
      "source": [
        "It can be seen that there is no duplicated data."
      ],
      "metadata": {
        "id": "ERDiX7XoE5ti"
      }
    },
    {
      "cell_type": "markdown",
      "source": [
        "Let's see the summary statisctics of the provided dataset:"
      ],
      "metadata": {
        "id": "pt7Q9jELG5FA"
      }
    },
    {
      "cell_type": "code",
      "source": [
        "df.describe()"
      ],
      "metadata": {
        "colab": {
          "base_uri": "https://localhost:8080/",
          "height": 320
        },
        "id": "5YObapCbEtKA",
        "outputId": "ca8594e8-ea3c-4c1b-e786-b1050eaa475a"
      },
      "execution_count": 7,
      "outputs": [
        {
          "output_type": "execute_result",
          "data": {
            "text/plain": [
              "                 No          year         month           day          hour  \\\n",
              "count  35064.000000  35064.000000  35064.000000  35064.000000  35064.000000   \n",
              "mean   17532.500000   2014.662560      6.522930     15.729637     11.500000   \n",
              "std    10122.249256      1.177213      3.448752      8.800218      6.922285   \n",
              "min        1.000000   2013.000000      1.000000      1.000000      0.000000   \n",
              "25%     8766.750000   2014.000000      4.000000      8.000000      5.750000   \n",
              "50%    17532.500000   2015.000000      7.000000     16.000000     11.500000   \n",
              "75%    26298.250000   2016.000000     10.000000     23.000000     17.250000   \n",
              "max    35064.000000   2017.000000     12.000000     31.000000     23.000000   \n",
              "\n",
              "              PM2.5          PM10           SO2           NO2            CO  \\\n",
              "count  34151.000000  34516.000000  33768.000000  33699.000000  32886.000000   \n",
              "mean      79.491602     98.737026     13.572039     43.908865   1187.063979   \n",
              "std       81.231739     89.143718     19.572068     30.996828   1156.374102   \n",
              "min        2.000000      2.000000      0.285600      2.000000    100.000000   \n",
              "25%       19.000000     31.000000      2.000000     19.000000    400.000000   \n",
              "50%       55.000000     77.000000      5.000000     37.000000    800.000000   \n",
              "75%      112.000000    138.000000     17.000000     62.000000   1500.000000   \n",
              "max      941.000000    999.000000    239.000000    258.000000  10000.000000   \n",
              "\n",
              "                 O3          TEMP          PRES          DEWP          RAIN  \\\n",
              "count  33575.000000  35013.000000  35013.000000  35010.000000  35013.000000   \n",
              "mean      55.201321     13.387969   1013.061938      2.465036      0.061094   \n",
              "std       54.873726     11.483588     10.177339     13.726622      0.761668   \n",
              "min        0.214200    -16.800000    988.000000    -36.000000      0.000000   \n",
              "25%       10.000000      3.000000   1004.700000     -8.800000      0.000000   \n",
              "50%       43.000000     14.400000   1012.700000      3.100000      0.000000   \n",
              "75%       77.000000     23.200000   1021.000000     15.100000      0.000000   \n",
              "max      351.716400     40.600000   1042.800000     27.500000     37.300000   \n",
              "\n",
              "               WSPM  \n",
              "count  35020.000000  \n",
              "mean       1.807533  \n",
              "std        1.287817  \n",
              "min        0.000000  \n",
              "25%        1.000000  \n",
              "50%        1.500000  \n",
              "75%        2.300000  \n",
              "max       12.800000  "
            ],
            "text/html": [
              "\n",
              "  <div id=\"df-81ce4dbf-e3e6-4ddd-b307-fafdb437aacc\" class=\"colab-df-container\">\n",
              "    <div>\n",
              "<style scoped>\n",
              "    .dataframe tbody tr th:only-of-type {\n",
              "        vertical-align: middle;\n",
              "    }\n",
              "\n",
              "    .dataframe tbody tr th {\n",
              "        vertical-align: top;\n",
              "    }\n",
              "\n",
              "    .dataframe thead th {\n",
              "        text-align: right;\n",
              "    }\n",
              "</style>\n",
              "<table border=\"1\" class=\"dataframe\">\n",
              "  <thead>\n",
              "    <tr style=\"text-align: right;\">\n",
              "      <th></th>\n",
              "      <th>No</th>\n",
              "      <th>year</th>\n",
              "      <th>month</th>\n",
              "      <th>day</th>\n",
              "      <th>hour</th>\n",
              "      <th>PM2.5</th>\n",
              "      <th>PM10</th>\n",
              "      <th>SO2</th>\n",
              "      <th>NO2</th>\n",
              "      <th>CO</th>\n",
              "      <th>O3</th>\n",
              "      <th>TEMP</th>\n",
              "      <th>PRES</th>\n",
              "      <th>DEWP</th>\n",
              "      <th>RAIN</th>\n",
              "      <th>WSPM</th>\n",
              "    </tr>\n",
              "  </thead>\n",
              "  <tbody>\n",
              "    <tr>\n",
              "      <th>count</th>\n",
              "      <td>35064.000000</td>\n",
              "      <td>35064.000000</td>\n",
              "      <td>35064.000000</td>\n",
              "      <td>35064.000000</td>\n",
              "      <td>35064.000000</td>\n",
              "      <td>34151.000000</td>\n",
              "      <td>34516.000000</td>\n",
              "      <td>33768.000000</td>\n",
              "      <td>33699.000000</td>\n",
              "      <td>32886.000000</td>\n",
              "      <td>33575.000000</td>\n",
              "      <td>35013.000000</td>\n",
              "      <td>35013.000000</td>\n",
              "      <td>35010.000000</td>\n",
              "      <td>35013.000000</td>\n",
              "      <td>35020.000000</td>\n",
              "    </tr>\n",
              "    <tr>\n",
              "      <th>mean</th>\n",
              "      <td>17532.500000</td>\n",
              "      <td>2014.662560</td>\n",
              "      <td>6.522930</td>\n",
              "      <td>15.729637</td>\n",
              "      <td>11.500000</td>\n",
              "      <td>79.491602</td>\n",
              "      <td>98.737026</td>\n",
              "      <td>13.572039</td>\n",
              "      <td>43.908865</td>\n",
              "      <td>1187.063979</td>\n",
              "      <td>55.201321</td>\n",
              "      <td>13.387969</td>\n",
              "      <td>1013.061938</td>\n",
              "      <td>2.465036</td>\n",
              "      <td>0.061094</td>\n",
              "      <td>1.807533</td>\n",
              "    </tr>\n",
              "    <tr>\n",
              "      <th>std</th>\n",
              "      <td>10122.249256</td>\n",
              "      <td>1.177213</td>\n",
              "      <td>3.448752</td>\n",
              "      <td>8.800218</td>\n",
              "      <td>6.922285</td>\n",
              "      <td>81.231739</td>\n",
              "      <td>89.143718</td>\n",
              "      <td>19.572068</td>\n",
              "      <td>30.996828</td>\n",
              "      <td>1156.374102</td>\n",
              "      <td>54.873726</td>\n",
              "      <td>11.483588</td>\n",
              "      <td>10.177339</td>\n",
              "      <td>13.726622</td>\n",
              "      <td>0.761668</td>\n",
              "      <td>1.287817</td>\n",
              "    </tr>\n",
              "    <tr>\n",
              "      <th>min</th>\n",
              "      <td>1.000000</td>\n",
              "      <td>2013.000000</td>\n",
              "      <td>1.000000</td>\n",
              "      <td>1.000000</td>\n",
              "      <td>0.000000</td>\n",
              "      <td>2.000000</td>\n",
              "      <td>2.000000</td>\n",
              "      <td>0.285600</td>\n",
              "      <td>2.000000</td>\n",
              "      <td>100.000000</td>\n",
              "      <td>0.214200</td>\n",
              "      <td>-16.800000</td>\n",
              "      <td>988.000000</td>\n",
              "      <td>-36.000000</td>\n",
              "      <td>0.000000</td>\n",
              "      <td>0.000000</td>\n",
              "    </tr>\n",
              "    <tr>\n",
              "      <th>25%</th>\n",
              "      <td>8766.750000</td>\n",
              "      <td>2014.000000</td>\n",
              "      <td>4.000000</td>\n",
              "      <td>8.000000</td>\n",
              "      <td>5.750000</td>\n",
              "      <td>19.000000</td>\n",
              "      <td>31.000000</td>\n",
              "      <td>2.000000</td>\n",
              "      <td>19.000000</td>\n",
              "      <td>400.000000</td>\n",
              "      <td>10.000000</td>\n",
              "      <td>3.000000</td>\n",
              "      <td>1004.700000</td>\n",
              "      <td>-8.800000</td>\n",
              "      <td>0.000000</td>\n",
              "      <td>1.000000</td>\n",
              "    </tr>\n",
              "    <tr>\n",
              "      <th>50%</th>\n",
              "      <td>17532.500000</td>\n",
              "      <td>2015.000000</td>\n",
              "      <td>7.000000</td>\n",
              "      <td>16.000000</td>\n",
              "      <td>11.500000</td>\n",
              "      <td>55.000000</td>\n",
              "      <td>77.000000</td>\n",
              "      <td>5.000000</td>\n",
              "      <td>37.000000</td>\n",
              "      <td>800.000000</td>\n",
              "      <td>43.000000</td>\n",
              "      <td>14.400000</td>\n",
              "      <td>1012.700000</td>\n",
              "      <td>3.100000</td>\n",
              "      <td>0.000000</td>\n",
              "      <td>1.500000</td>\n",
              "    </tr>\n",
              "    <tr>\n",
              "      <th>75%</th>\n",
              "      <td>26298.250000</td>\n",
              "      <td>2016.000000</td>\n",
              "      <td>10.000000</td>\n",
              "      <td>23.000000</td>\n",
              "      <td>17.250000</td>\n",
              "      <td>112.000000</td>\n",
              "      <td>138.000000</td>\n",
              "      <td>17.000000</td>\n",
              "      <td>62.000000</td>\n",
              "      <td>1500.000000</td>\n",
              "      <td>77.000000</td>\n",
              "      <td>23.200000</td>\n",
              "      <td>1021.000000</td>\n",
              "      <td>15.100000</td>\n",
              "      <td>0.000000</td>\n",
              "      <td>2.300000</td>\n",
              "    </tr>\n",
              "    <tr>\n",
              "      <th>max</th>\n",
              "      <td>35064.000000</td>\n",
              "      <td>2017.000000</td>\n",
              "      <td>12.000000</td>\n",
              "      <td>31.000000</td>\n",
              "      <td>23.000000</td>\n",
              "      <td>941.000000</td>\n",
              "      <td>999.000000</td>\n",
              "      <td>239.000000</td>\n",
              "      <td>258.000000</td>\n",
              "      <td>10000.000000</td>\n",
              "      <td>351.716400</td>\n",
              "      <td>40.600000</td>\n",
              "      <td>1042.800000</td>\n",
              "      <td>27.500000</td>\n",
              "      <td>37.300000</td>\n",
              "      <td>12.800000</td>\n",
              "    </tr>\n",
              "  </tbody>\n",
              "</table>\n",
              "</div>\n",
              "    <div class=\"colab-df-buttons\">\n",
              "\n",
              "  <div class=\"colab-df-container\">\n",
              "    <button class=\"colab-df-convert\" onclick=\"convertToInteractive('df-81ce4dbf-e3e6-4ddd-b307-fafdb437aacc')\"\n",
              "            title=\"Convert this dataframe to an interactive table.\"\n",
              "            style=\"display:none;\">\n",
              "\n",
              "  <svg xmlns=\"http://www.w3.org/2000/svg\" height=\"24px\" viewBox=\"0 -960 960 960\">\n",
              "    <path d=\"M120-120v-720h720v720H120Zm60-500h600v-160H180v160Zm220 220h160v-160H400v160Zm0 220h160v-160H400v160ZM180-400h160v-160H180v160Zm440 0h160v-160H620v160ZM180-180h160v-160H180v160Zm440 0h160v-160H620v160Z\"/>\n",
              "  </svg>\n",
              "    </button>\n",
              "\n",
              "  <style>\n",
              "    .colab-df-container {\n",
              "      display:flex;\n",
              "      gap: 12px;\n",
              "    }\n",
              "\n",
              "    .colab-df-convert {\n",
              "      background-color: #E8F0FE;\n",
              "      border: none;\n",
              "      border-radius: 50%;\n",
              "      cursor: pointer;\n",
              "      display: none;\n",
              "      fill: #1967D2;\n",
              "      height: 32px;\n",
              "      padding: 0 0 0 0;\n",
              "      width: 32px;\n",
              "    }\n",
              "\n",
              "    .colab-df-convert:hover {\n",
              "      background-color: #E2EBFA;\n",
              "      box-shadow: 0px 1px 2px rgba(60, 64, 67, 0.3), 0px 1px 3px 1px rgba(60, 64, 67, 0.15);\n",
              "      fill: #174EA6;\n",
              "    }\n",
              "\n",
              "    .colab-df-buttons div {\n",
              "      margin-bottom: 4px;\n",
              "    }\n",
              "\n",
              "    [theme=dark] .colab-df-convert {\n",
              "      background-color: #3B4455;\n",
              "      fill: #D2E3FC;\n",
              "    }\n",
              "\n",
              "    [theme=dark] .colab-df-convert:hover {\n",
              "      background-color: #434B5C;\n",
              "      box-shadow: 0px 1px 3px 1px rgba(0, 0, 0, 0.15);\n",
              "      filter: drop-shadow(0px 1px 2px rgba(0, 0, 0, 0.3));\n",
              "      fill: #FFFFFF;\n",
              "    }\n",
              "  </style>\n",
              "\n",
              "    <script>\n",
              "      const buttonEl =\n",
              "        document.querySelector('#df-81ce4dbf-e3e6-4ddd-b307-fafdb437aacc button.colab-df-convert');\n",
              "      buttonEl.style.display =\n",
              "        google.colab.kernel.accessAllowed ? 'block' : 'none';\n",
              "\n",
              "      async function convertToInteractive(key) {\n",
              "        const element = document.querySelector('#df-81ce4dbf-e3e6-4ddd-b307-fafdb437aacc');\n",
              "        const dataTable =\n",
              "          await google.colab.kernel.invokeFunction('convertToInteractive',\n",
              "                                                    [key], {});\n",
              "        if (!dataTable) return;\n",
              "\n",
              "        const docLinkHtml = 'Like what you see? Visit the ' +\n",
              "          '<a target=\"_blank\" href=https://colab.research.google.com/notebooks/data_table.ipynb>data table notebook</a>'\n",
              "          + ' to learn more about interactive tables.';\n",
              "        element.innerHTML = '';\n",
              "        dataTable['output_type'] = 'display_data';\n",
              "        await google.colab.output.renderOutput(dataTable, element);\n",
              "        const docLink = document.createElement('div');\n",
              "        docLink.innerHTML = docLinkHtml;\n",
              "        element.appendChild(docLink);\n",
              "      }\n",
              "    </script>\n",
              "  </div>\n",
              "\n",
              "\n",
              "<div id=\"df-d9eb8790-587a-4b5b-9afb-226396cdce57\">\n",
              "  <button class=\"colab-df-quickchart\" onclick=\"quickchart('df-d9eb8790-587a-4b5b-9afb-226396cdce57')\"\n",
              "            title=\"Suggest charts\"\n",
              "            style=\"display:none;\">\n",
              "\n",
              "<svg xmlns=\"http://www.w3.org/2000/svg\" height=\"24px\"viewBox=\"0 0 24 24\"\n",
              "     width=\"24px\">\n",
              "    <g>\n",
              "        <path d=\"M19 3H5c-1.1 0-2 .9-2 2v14c0 1.1.9 2 2 2h14c1.1 0 2-.9 2-2V5c0-1.1-.9-2-2-2zM9 17H7v-7h2v7zm4 0h-2V7h2v10zm4 0h-2v-4h2v4z\"/>\n",
              "    </g>\n",
              "</svg>\n",
              "  </button>\n",
              "\n",
              "<style>\n",
              "  .colab-df-quickchart {\n",
              "      --bg-color: #E8F0FE;\n",
              "      --fill-color: #1967D2;\n",
              "      --hover-bg-color: #E2EBFA;\n",
              "      --hover-fill-color: #174EA6;\n",
              "      --disabled-fill-color: #AAA;\n",
              "      --disabled-bg-color: #DDD;\n",
              "  }\n",
              "\n",
              "  [theme=dark] .colab-df-quickchart {\n",
              "      --bg-color: #3B4455;\n",
              "      --fill-color: #D2E3FC;\n",
              "      --hover-bg-color: #434B5C;\n",
              "      --hover-fill-color: #FFFFFF;\n",
              "      --disabled-bg-color: #3B4455;\n",
              "      --disabled-fill-color: #666;\n",
              "  }\n",
              "\n",
              "  .colab-df-quickchart {\n",
              "    background-color: var(--bg-color);\n",
              "    border: none;\n",
              "    border-radius: 50%;\n",
              "    cursor: pointer;\n",
              "    display: none;\n",
              "    fill: var(--fill-color);\n",
              "    height: 32px;\n",
              "    padding: 0;\n",
              "    width: 32px;\n",
              "  }\n",
              "\n",
              "  .colab-df-quickchart:hover {\n",
              "    background-color: var(--hover-bg-color);\n",
              "    box-shadow: 0 1px 2px rgba(60, 64, 67, 0.3), 0 1px 3px 1px rgba(60, 64, 67, 0.15);\n",
              "    fill: var(--button-hover-fill-color);\n",
              "  }\n",
              "\n",
              "  .colab-df-quickchart-complete:disabled,\n",
              "  .colab-df-quickchart-complete:disabled:hover {\n",
              "    background-color: var(--disabled-bg-color);\n",
              "    fill: var(--disabled-fill-color);\n",
              "    box-shadow: none;\n",
              "  }\n",
              "\n",
              "  .colab-df-spinner {\n",
              "    border: 2px solid var(--fill-color);\n",
              "    border-color: transparent;\n",
              "    border-bottom-color: var(--fill-color);\n",
              "    animation:\n",
              "      spin 1s steps(1) infinite;\n",
              "  }\n",
              "\n",
              "  @keyframes spin {\n",
              "    0% {\n",
              "      border-color: transparent;\n",
              "      border-bottom-color: var(--fill-color);\n",
              "      border-left-color: var(--fill-color);\n",
              "    }\n",
              "    20% {\n",
              "      border-color: transparent;\n",
              "      border-left-color: var(--fill-color);\n",
              "      border-top-color: var(--fill-color);\n",
              "    }\n",
              "    30% {\n",
              "      border-color: transparent;\n",
              "      border-left-color: var(--fill-color);\n",
              "      border-top-color: var(--fill-color);\n",
              "      border-right-color: var(--fill-color);\n",
              "    }\n",
              "    40% {\n",
              "      border-color: transparent;\n",
              "      border-right-color: var(--fill-color);\n",
              "      border-top-color: var(--fill-color);\n",
              "    }\n",
              "    60% {\n",
              "      border-color: transparent;\n",
              "      border-right-color: var(--fill-color);\n",
              "    }\n",
              "    80% {\n",
              "      border-color: transparent;\n",
              "      border-right-color: var(--fill-color);\n",
              "      border-bottom-color: var(--fill-color);\n",
              "    }\n",
              "    90% {\n",
              "      border-color: transparent;\n",
              "      border-bottom-color: var(--fill-color);\n",
              "    }\n",
              "  }\n",
              "</style>\n",
              "\n",
              "  <script>\n",
              "    async function quickchart(key) {\n",
              "      const quickchartButtonEl =\n",
              "        document.querySelector('#' + key + ' button');\n",
              "      quickchartButtonEl.disabled = true;  // To prevent multiple clicks.\n",
              "      quickchartButtonEl.classList.add('colab-df-spinner');\n",
              "      try {\n",
              "        const charts = await google.colab.kernel.invokeFunction(\n",
              "            'suggestCharts', [key], {});\n",
              "      } catch (error) {\n",
              "        console.error('Error during call to suggestCharts:', error);\n",
              "      }\n",
              "      quickchartButtonEl.classList.remove('colab-df-spinner');\n",
              "      quickchartButtonEl.classList.add('colab-df-quickchart-complete');\n",
              "    }\n",
              "    (() => {\n",
              "      let quickchartButtonEl =\n",
              "        document.querySelector('#df-d9eb8790-587a-4b5b-9afb-226396cdce57 button');\n",
              "      quickchartButtonEl.style.display =\n",
              "        google.colab.kernel.accessAllowed ? 'block' : 'none';\n",
              "    })();\n",
              "  </script>\n",
              "</div>\n",
              "    </div>\n",
              "  </div>\n"
            ],
            "application/vnd.google.colaboratory.intrinsic+json": {
              "type": "dataframe",
              "summary": "{\n  \"name\": \"df\",\n  \"rows\": 8,\n  \"fields\": [\n    {\n      \"column\": \"No\",\n      \"properties\": {\n        \"dtype\": \"number\",\n        \"std\": 12636.930448670224,\n        \"min\": 1.0,\n        \"max\": 35064.0,\n        \"num_unique_values\": 6,\n        \"samples\": [\n          35064.0,\n          17532.5,\n          26298.25\n        ],\n        \"semantic_type\": \"\",\n        \"description\": \"\"\n      }\n    },\n    {\n      \"column\": \"year\",\n      \"properties\": {\n        \"dtype\": \"number\",\n        \"std\": 11807.362916902399,\n        \"min\": 1.1772134318198135,\n        \"max\": 35064.0,\n        \"num_unique_values\": 8,\n        \"samples\": [\n          2014.662559890486,\n          2015.0,\n          35064.0\n        ],\n        \"semantic_type\": \"\",\n        \"description\": \"\"\n      }\n    },\n    {\n      \"column\": \"month\",\n      \"properties\": {\n        \"dtype\": \"number\",\n        \"std\": 12394.775690880602,\n        \"min\": 1.0,\n        \"max\": 35064.0,\n        \"num_unique_values\": 8,\n        \"samples\": [\n          6.522929500342231,\n          7.0,\n          35064.0\n        ],\n        \"semantic_type\": \"\",\n        \"description\": \"\"\n      }\n    },\n    {\n      \"column\": \"day\",\n      \"properties\": {\n        \"dtype\": \"number\",\n        \"std\": 12391.770525834587,\n        \"min\": 1.0,\n        \"max\": 35064.0,\n        \"num_unique_values\": 8,\n        \"samples\": [\n          15.729637234770705,\n          16.0,\n          35064.0\n        ],\n        \"semantic_type\": \"\",\n        \"description\": \"\"\n      }\n    },\n    {\n      \"column\": \"hour\",\n      \"properties\": {\n        \"dtype\": \"number\",\n        \"std\": 12393.163442376766,\n        \"min\": 0.0,\n        \"max\": 35064.0,\n        \"num_unique_values\": 7,\n        \"samples\": [\n          35064.0,\n          11.5,\n          17.25\n        ],\n        \"semantic_type\": \"\",\n        \"description\": \"\"\n      }\n    },\n    {\n      \"column\": \"PM2.5\",\n      \"properties\": {\n        \"dtype\": \"number\",\n        \"std\": 12013.085274222123,\n        \"min\": 2.0,\n        \"max\": 34151.0,\n        \"num_unique_values\": 8,\n        \"samples\": [\n          79.49160200286961,\n          55.0,\n          34151.0\n        ],\n        \"semantic_type\": \"\",\n        \"description\": \"\"\n      }\n    },\n    {\n      \"column\": \"PM10\",\n      \"properties\": {\n        \"dtype\": \"number\",\n        \"std\": 12135.177097490156,\n        \"min\": 2.0,\n        \"max\": 34516.0,\n        \"num_unique_values\": 8,\n        \"samples\": [\n          98.7370263066404,\n          77.0,\n          34516.0\n        ],\n        \"semantic_type\": \"\",\n        \"description\": \"\"\n      }\n    },\n    {\n      \"column\": \"SO2\",\n      \"properties\": {\n        \"dtype\": \"number\",\n        \"std\": 11924.091213896785,\n        \"min\": 0.2856,\n        \"max\": 33768.0,\n        \"num_unique_values\": 8,\n        \"samples\": [\n          13.572038687514807,\n          5.0,\n          33768.0\n        ],\n        \"semantic_type\": \"\",\n        \"description\": \"\"\n      }\n    },\n    {\n      \"column\": \"NO2\",\n      \"properties\": {\n        \"dtype\": \"number\",\n        \"std\": 11891.795184615754,\n        \"min\": 2.0,\n        \"max\": 33699.0,\n        \"num_unique_values\": 8,\n        \"samples\": [\n          43.90886473782605,\n          37.0,\n          33699.0\n        ],\n        \"semantic_type\": \"\",\n        \"description\": \"\"\n      }\n    },\n    {\n      \"column\": \"CO\",\n      \"properties\": {\n        \"dtype\": \"number\",\n        \"std\": 11332.267158523524,\n        \"min\": 100.0,\n        \"max\": 32886.0,\n        \"num_unique_values\": 8,\n        \"samples\": [\n          1187.0639785927142,\n          800.0,\n          32886.0\n        ],\n        \"semantic_type\": \"\",\n        \"description\": \"\"\n      }\n    },\n    {\n      \"column\": \"O3\",\n      \"properties\": {\n        \"dtype\": \"number\",\n        \"std\": 11841.182562968259,\n        \"min\": 0.2142,\n        \"max\": 33575.0,\n        \"num_unique_values\": 8,\n        \"samples\": [\n          55.20132076247208,\n          43.0,\n          33575.0\n        ],\n        \"semantic_type\": \"\",\n        \"description\": \"\"\n      }\n    },\n    {\n      \"column\": \"TEMP\",\n      \"properties\": {\n        \"dtype\": \"number\",\n        \"std\": 12374.466694157718,\n        \"min\": -16.8,\n        \"max\": 35013.0,\n        \"num_unique_values\": 8,\n        \"samples\": [\n          13.387969092205662,\n          14.4,\n          35013.0\n        ],\n        \"semantic_type\": \"\",\n        \"description\": \"\"\n      }\n    },\n    {\n      \"column\": \"PRES\",\n      \"properties\": {\n        \"dtype\": \"number\",\n        \"std\": 12076.36667814194,\n        \"min\": 10.177339261301771,\n        \"max\": 35013.0,\n        \"num_unique_values\": 8,\n        \"samples\": [\n          1013.0619382209263,\n          1012.7,\n          35013.0\n        ],\n        \"semantic_type\": \"\",\n        \"description\": \"\"\n      }\n    },\n    {\n      \"column\": \"DEWP\",\n      \"properties\": {\n        \"dtype\": \"number\",\n        \"std\": 12377.055489066084,\n        \"min\": -36.0,\n        \"max\": 35010.0,\n        \"num_unique_values\": 8,\n        \"samples\": [\n          2.465035704084547,\n          3.1,\n          35010.0\n        ],\n        \"semantic_type\": \"\",\n        \"description\": \"\"\n      }\n    },\n    {\n      \"column\": \"RAIN\",\n      \"properties\": {\n        \"dtype\": \"number\",\n        \"std\": 12377.04620893055,\n        \"min\": 0.0,\n        \"max\": 35013.0,\n        \"num_unique_values\": 5,\n        \"samples\": [\n          0.061094450632622165,\n          37.3,\n          0.7616684917048265\n        ],\n        \"semantic_type\": \"\",\n        \"description\": \"\"\n      }\n    },\n    {\n      \"column\": \"WSPM\",\n      \"properties\": {\n        \"dtype\": \"number\",\n        \"std\": 12380.395135516404,\n        \"min\": 0.0,\n        \"max\": 35020.0,\n        \"num_unique_values\": 8,\n        \"samples\": [\n          1.8075328383780698,\n          1.5,\n          35020.0\n        ],\n        \"semantic_type\": \"\",\n        \"description\": \"\"\n      }\n    }\n  ]\n}"
            }
          },
          "metadata": {},
          "execution_count": 7
        }
      ]
    },
    {
      "cell_type": "markdown",
      "metadata": {
        "id": "EhN5R4hr8DC1"
      },
      "source": [
        "### Cleaning Data"
      ]
    },
    {
      "cell_type": "markdown",
      "source": [
        "Let's count the number of null values in each attributes before we clean all it up:"
      ],
      "metadata": {
        "id": "F0T9Vy0EA3zv"
      }
    },
    {
      "cell_type": "code",
      "source": [
        "df.isnull().sum()"
      ],
      "metadata": {
        "id": "jVnYpprE9Evz",
        "colab": {
          "base_uri": "https://localhost:8080/"
        },
        "outputId": "c509f752-3bd8-45b8-c4a0-b9961201f6bf"
      },
      "execution_count": 8,
      "outputs": [
        {
          "output_type": "execute_result",
          "data": {
            "text/plain": [
              "No            0\n",
              "year          0\n",
              "month         0\n",
              "day           0\n",
              "hour          0\n",
              "PM2.5       913\n",
              "PM10        548\n",
              "SO2        1296\n",
              "NO2        1365\n",
              "CO         2178\n",
              "O3         1489\n",
              "TEMP         51\n",
              "PRES         51\n",
              "DEWP         54\n",
              "RAIN         51\n",
              "wd          483\n",
              "WSPM         44\n",
              "station       0\n",
              "dtype: int64"
            ]
          },
          "metadata": {},
          "execution_count": 8
        }
      ]
    },
    {
      "cell_type": "markdown",
      "source": [
        "### **Cleaning Pollutant Concentrations**"
      ],
      "metadata": {
        "id": "CtznaU4Q6hOX"
      }
    },
    {
      "cell_type": "markdown",
      "source": [
        "#####**PM2.5**"
      ],
      "metadata": {
        "id": "RRNoIZ9n4Muv"
      }
    },
    {
      "cell_type": "markdown",
      "source": [
        "\n",
        "Shunyi is a district located in Beijing, China. Shunyi District is situated in the northeastern part of Beijing Municipality and is known for its suburban environment. Shunyi categorized as the Category II zone. The Chinese government set China Category II's PM2.5 level should be controlled below 35 µg/m3 by 2025 as the annual average concentration limit value for PM2.5 concentration in the air (https://www.mee.gov.cn/) and 75 µg/m3 per cubic metre for the short-term standard (24-hour or daily average)(https://www.nature.com/articles/srep14884)"
      ],
      "metadata": {
        "id": "rJzDpf-6icUR"
      }
    },
    {
      "cell_type": "code",
      "source": [
        "min_pm25 = df['PM2.5'].min()\n",
        "print(\"Minimum PM2.5 value:\", min_pm25)"
      ],
      "metadata": {
        "colab": {
          "base_uri": "https://localhost:8080/"
        },
        "id": "CK1p4cW1dmpa",
        "outputId": "e0bfe121-6c46-470e-97f2-1b050f9e6851"
      },
      "execution_count": 9,
      "outputs": [
        {
          "output_type": "stream",
          "name": "stdout",
          "text": [
            "Minimum PM2.5 value: 2.0\n"
          ]
        }
      ]
    },
    {
      "cell_type": "code",
      "source": [
        "max_pm25 = df['PM2.5'].max()\n",
        "print(\"Maximum PM2.5 value:\", max_pm25)"
      ],
      "metadata": {
        "colab": {
          "base_uri": "https://localhost:8080/"
        },
        "id": "urrV2SrcgVw0",
        "outputId": "745c1e4e-3154-42de-81d7-fed231ac0522"
      },
      "execution_count": 10,
      "outputs": [
        {
          "output_type": "stream",
          "name": "stdout",
          "text": [
            "Maximum PM2.5 value: 941.0\n"
          ]
        }
      ]
    },
    {
      "cell_type": "code",
      "source": [
        "null_pm25_rows = df[df[\"PM2.5\"].isnull()]\n",
        "print(null_pm25_rows)\n"
      ],
      "metadata": {
        "colab": {
          "base_uri": "https://localhost:8080/"
        },
        "id": "QWq6O-c0z1vO",
        "outputId": "d7d18668-8ed2-4e8b-c614-a6ac9563a5a4"
      },
      "execution_count": 11,
      "outputs": [
        {
          "output_type": "stream",
          "name": "stdout",
          "text": [
            "          No  year  month  day  hour  PM2.5  PM10  SO2   NO2     CO    O3  \\\n",
            "204      205  2013      3    9    12    NaN   NaN  NaN   NaN    NaN  90.0   \n",
            "205      206  2013      3    9    13    NaN   NaN  NaN   NaN    NaN  90.0   \n",
            "206      207  2013      3    9    14    NaN   NaN  NaN   NaN    NaN  90.0   \n",
            "207      208  2013      3    9    15    NaN   NaN  NaN   NaN    NaN  90.0   \n",
            "208      209  2013      3    9    16    NaN   NaN  NaN   NaN    NaN  90.0   \n",
            "...      ...   ...    ...  ...   ...    ...   ...  ...   ...    ...   ...   \n",
            "34880  34881  2017      2   21     8    NaN   NaN  NaN   NaN    NaN   NaN   \n",
            "34883  34884  2017      2   21    11    NaN   NaN  NaN   NaN    NaN   NaN   \n",
            "34885  34886  2017      2   21    13    NaN   NaN  NaN   NaN    NaN   NaN   \n",
            "34936  34937  2017      2   23    16    NaN   NaN  2.0  14.0  300.0  84.0   \n",
            "34937  34938  2017      2   23    17    NaN   NaN  2.0  17.0  300.0   NaN   \n",
            "\n",
            "       TEMP    PRES  DEWP  RAIN   wd  WSPM station  \n",
            "204    12.7  1006.6 -15.1   0.0  NNW   9.9  Shunyi  \n",
            "205    10.4  1009.0 -16.0   0.0   NW   7.6  Shunyi  \n",
            "206     9.8  1010.4 -17.4   0.0   NW   6.2  Shunyi  \n",
            "207     9.7  1011.7 -17.5   0.0  NNW   5.9  Shunyi  \n",
            "208    10.3  1013.1 -17.9   0.0  NNW   6.2  Shunyi  \n",
            "...     ...     ...   ...   ...  ...   ...     ...  \n",
            "34880  -2.1  1029.7 -15.5   0.0    E   0.6  Shunyi  \n",
            "34883  -0.2  1028.9 -14.2   0.0   SE   1.3  Shunyi  \n",
            "34885  -0.1  1027.8  -8.5   0.0    S   3.6  Shunyi  \n",
            "34936   8.1  1022.5 -15.5   0.0  WNW   3.9  Shunyi  \n",
            "34937   7.5  1022.2 -16.0   0.0    W   4.7  Shunyi  \n",
            "\n",
            "[913 rows x 18 columns]\n"
          ]
        }
      ]
    },
    {
      "cell_type": "markdown",
      "source": [
        "#####**PM10**"
      ],
      "metadata": {
        "id": "AvobA2uc4F--"
      }
    },
    {
      "cell_type": "markdown",
      "source": [
        "The Chinese government set China Category II's PM10 level should be controlled below 70 µg/m3 as the annual average concentration limit value for PM10 concentration in the air (https://www.sciencedirect.com/science/article/pii/S0147651321011994) and  µg/m3 per cubic metre for the short-term standard (24-hour or daily average)"
      ],
      "metadata": {
        "id": "ngWbxjVD2HCO"
      }
    },
    {
      "cell_type": "code",
      "source": [
        "min_pm10 = df[\"PM10\"].min()\n",
        "print(\"Minimum PM10 value:\", min_pm10)"
      ],
      "metadata": {
        "colab": {
          "base_uri": "https://localhost:8080/"
        },
        "id": "sHju1-BW40-T",
        "outputId": "05a86cb5-ac91-47ea-a691-2f8f9861bd53"
      },
      "execution_count": 12,
      "outputs": [
        {
          "output_type": "stream",
          "name": "stdout",
          "text": [
            "Minimum PM10 value: 2.0\n"
          ]
        }
      ]
    },
    {
      "cell_type": "code",
      "source": [
        "max_pm10 = df['PM10'].max()\n",
        "print(\"Maximum PM10 value:\", max_pm10)"
      ],
      "metadata": {
        "colab": {
          "base_uri": "https://localhost:8080/"
        },
        "id": "yo75Ni8xQ76u",
        "outputId": "4c31350b-77e7-40a3-abcd-9f38bd9898ca"
      },
      "execution_count": 13,
      "outputs": [
        {
          "output_type": "stream",
          "name": "stdout",
          "text": [
            "Maximum PM10 value: 999.0\n"
          ]
        }
      ]
    },
    {
      "cell_type": "markdown",
      "source": [
        "Table below shows in which rows the PM10 reached the maximum."
      ],
      "metadata": {
        "id": "byO11iN4zxew"
      }
    },
    {
      "cell_type": "code",
      "source": [
        "df[df.PM10 == df.PM10.max()]"
      ],
      "metadata": {
        "colab": {
          "base_uri": "https://localhost:8080/",
          "height": 101
        },
        "id": "jjMt8MVq1rpm",
        "outputId": "6042ec5e-a9be-4feb-e87e-173cd274fbc4"
      },
      "execution_count": 14,
      "outputs": [
        {
          "output_type": "execute_result",
          "data": {
            "text/plain": [
              "          No  year  month  day  hour  PM2.5   PM10  SO2   NO2     CO    O3  \\\n",
              "18620  18621  2015      4   15    20   88.0  999.0  2.0  13.0  300.0  79.0   \n",
              "\n",
              "       TEMP    PRES  DEWP  RAIN   wd  WSPM station  \n",
              "18620  18.9  1000.0  -1.0   0.0  NNW   4.3  Shunyi  "
            ],
            "text/html": [
              "\n",
              "  <div id=\"df-1ba1995b-d12a-4404-832c-770cc6dcb7a2\" class=\"colab-df-container\">\n",
              "    <div>\n",
              "<style scoped>\n",
              "    .dataframe tbody tr th:only-of-type {\n",
              "        vertical-align: middle;\n",
              "    }\n",
              "\n",
              "    .dataframe tbody tr th {\n",
              "        vertical-align: top;\n",
              "    }\n",
              "\n",
              "    .dataframe thead th {\n",
              "        text-align: right;\n",
              "    }\n",
              "</style>\n",
              "<table border=\"1\" class=\"dataframe\">\n",
              "  <thead>\n",
              "    <tr style=\"text-align: right;\">\n",
              "      <th></th>\n",
              "      <th>No</th>\n",
              "      <th>year</th>\n",
              "      <th>month</th>\n",
              "      <th>day</th>\n",
              "      <th>hour</th>\n",
              "      <th>PM2.5</th>\n",
              "      <th>PM10</th>\n",
              "      <th>SO2</th>\n",
              "      <th>NO2</th>\n",
              "      <th>CO</th>\n",
              "      <th>O3</th>\n",
              "      <th>TEMP</th>\n",
              "      <th>PRES</th>\n",
              "      <th>DEWP</th>\n",
              "      <th>RAIN</th>\n",
              "      <th>wd</th>\n",
              "      <th>WSPM</th>\n",
              "      <th>station</th>\n",
              "    </tr>\n",
              "  </thead>\n",
              "  <tbody>\n",
              "    <tr>\n",
              "      <th>18620</th>\n",
              "      <td>18621</td>\n",
              "      <td>2015</td>\n",
              "      <td>4</td>\n",
              "      <td>15</td>\n",
              "      <td>20</td>\n",
              "      <td>88.0</td>\n",
              "      <td>999.0</td>\n",
              "      <td>2.0</td>\n",
              "      <td>13.0</td>\n",
              "      <td>300.0</td>\n",
              "      <td>79.0</td>\n",
              "      <td>18.9</td>\n",
              "      <td>1000.0</td>\n",
              "      <td>-1.0</td>\n",
              "      <td>0.0</td>\n",
              "      <td>NNW</td>\n",
              "      <td>4.3</td>\n",
              "      <td>Shunyi</td>\n",
              "    </tr>\n",
              "  </tbody>\n",
              "</table>\n",
              "</div>\n",
              "    <div class=\"colab-df-buttons\">\n",
              "\n",
              "  <div class=\"colab-df-container\">\n",
              "    <button class=\"colab-df-convert\" onclick=\"convertToInteractive('df-1ba1995b-d12a-4404-832c-770cc6dcb7a2')\"\n",
              "            title=\"Convert this dataframe to an interactive table.\"\n",
              "            style=\"display:none;\">\n",
              "\n",
              "  <svg xmlns=\"http://www.w3.org/2000/svg\" height=\"24px\" viewBox=\"0 -960 960 960\">\n",
              "    <path d=\"M120-120v-720h720v720H120Zm60-500h600v-160H180v160Zm220 220h160v-160H400v160Zm0 220h160v-160H400v160ZM180-400h160v-160H180v160Zm440 0h160v-160H620v160ZM180-180h160v-160H180v160Zm440 0h160v-160H620v160Z\"/>\n",
              "  </svg>\n",
              "    </button>\n",
              "\n",
              "  <style>\n",
              "    .colab-df-container {\n",
              "      display:flex;\n",
              "      gap: 12px;\n",
              "    }\n",
              "\n",
              "    .colab-df-convert {\n",
              "      background-color: #E8F0FE;\n",
              "      border: none;\n",
              "      border-radius: 50%;\n",
              "      cursor: pointer;\n",
              "      display: none;\n",
              "      fill: #1967D2;\n",
              "      height: 32px;\n",
              "      padding: 0 0 0 0;\n",
              "      width: 32px;\n",
              "    }\n",
              "\n",
              "    .colab-df-convert:hover {\n",
              "      background-color: #E2EBFA;\n",
              "      box-shadow: 0px 1px 2px rgba(60, 64, 67, 0.3), 0px 1px 3px 1px rgba(60, 64, 67, 0.15);\n",
              "      fill: #174EA6;\n",
              "    }\n",
              "\n",
              "    .colab-df-buttons div {\n",
              "      margin-bottom: 4px;\n",
              "    }\n",
              "\n",
              "    [theme=dark] .colab-df-convert {\n",
              "      background-color: #3B4455;\n",
              "      fill: #D2E3FC;\n",
              "    }\n",
              "\n",
              "    [theme=dark] .colab-df-convert:hover {\n",
              "      background-color: #434B5C;\n",
              "      box-shadow: 0px 1px 3px 1px rgba(0, 0, 0, 0.15);\n",
              "      filter: drop-shadow(0px 1px 2px rgba(0, 0, 0, 0.3));\n",
              "      fill: #FFFFFF;\n",
              "    }\n",
              "  </style>\n",
              "\n",
              "    <script>\n",
              "      const buttonEl =\n",
              "        document.querySelector('#df-1ba1995b-d12a-4404-832c-770cc6dcb7a2 button.colab-df-convert');\n",
              "      buttonEl.style.display =\n",
              "        google.colab.kernel.accessAllowed ? 'block' : 'none';\n",
              "\n",
              "      async function convertToInteractive(key) {\n",
              "        const element = document.querySelector('#df-1ba1995b-d12a-4404-832c-770cc6dcb7a2');\n",
              "        const dataTable =\n",
              "          await google.colab.kernel.invokeFunction('convertToInteractive',\n",
              "                                                    [key], {});\n",
              "        if (!dataTable) return;\n",
              "\n",
              "        const docLinkHtml = 'Like what you see? Visit the ' +\n",
              "          '<a target=\"_blank\" href=https://colab.research.google.com/notebooks/data_table.ipynb>data table notebook</a>'\n",
              "          + ' to learn more about interactive tables.';\n",
              "        element.innerHTML = '';\n",
              "        dataTable['output_type'] = 'display_data';\n",
              "        await google.colab.output.renderOutput(dataTable, element);\n",
              "        const docLink = document.createElement('div');\n",
              "        docLink.innerHTML = docLinkHtml;\n",
              "        element.appendChild(docLink);\n",
              "      }\n",
              "    </script>\n",
              "  </div>\n",
              "\n",
              "    </div>\n",
              "  </div>\n"
            ],
            "application/vnd.google.colaboratory.intrinsic+json": {
              "type": "dataframe",
              "summary": "{\n  \"name\": \"df[df\",\n  \"rows\": 1,\n  \"fields\": [\n    {\n      \"column\": \"No\",\n      \"properties\": {\n        \"dtype\": \"number\",\n        \"std\": null,\n        \"min\": 18621,\n        \"max\": 18621,\n        \"num_unique_values\": 1,\n        \"samples\": [\n          18621\n        ],\n        \"semantic_type\": \"\",\n        \"description\": \"\"\n      }\n    },\n    {\n      \"column\": \"year\",\n      \"properties\": {\n        \"dtype\": \"number\",\n        \"std\": null,\n        \"min\": 2015,\n        \"max\": 2015,\n        \"num_unique_values\": 1,\n        \"samples\": [\n          2015\n        ],\n        \"semantic_type\": \"\",\n        \"description\": \"\"\n      }\n    },\n    {\n      \"column\": \"month\",\n      \"properties\": {\n        \"dtype\": \"number\",\n        \"std\": null,\n        \"min\": 4,\n        \"max\": 4,\n        \"num_unique_values\": 1,\n        \"samples\": [\n          4\n        ],\n        \"semantic_type\": \"\",\n        \"description\": \"\"\n      }\n    },\n    {\n      \"column\": \"day\",\n      \"properties\": {\n        \"dtype\": \"number\",\n        \"std\": null,\n        \"min\": 15,\n        \"max\": 15,\n        \"num_unique_values\": 1,\n        \"samples\": [\n          15\n        ],\n        \"semantic_type\": \"\",\n        \"description\": \"\"\n      }\n    },\n    {\n      \"column\": \"hour\",\n      \"properties\": {\n        \"dtype\": \"number\",\n        \"std\": null,\n        \"min\": 20,\n        \"max\": 20,\n        \"num_unique_values\": 1,\n        \"samples\": [\n          20\n        ],\n        \"semantic_type\": \"\",\n        \"description\": \"\"\n      }\n    },\n    {\n      \"column\": \"PM2.5\",\n      \"properties\": {\n        \"dtype\": \"number\",\n        \"std\": null,\n        \"min\": 88.0,\n        \"max\": 88.0,\n        \"num_unique_values\": 1,\n        \"samples\": [\n          88.0\n        ],\n        \"semantic_type\": \"\",\n        \"description\": \"\"\n      }\n    },\n    {\n      \"column\": \"PM10\",\n      \"properties\": {\n        \"dtype\": \"number\",\n        \"std\": null,\n        \"min\": 999.0,\n        \"max\": 999.0,\n        \"num_unique_values\": 1,\n        \"samples\": [\n          999.0\n        ],\n        \"semantic_type\": \"\",\n        \"description\": \"\"\n      }\n    },\n    {\n      \"column\": \"SO2\",\n      \"properties\": {\n        \"dtype\": \"number\",\n        \"std\": null,\n        \"min\": 2.0,\n        \"max\": 2.0,\n        \"num_unique_values\": 1,\n        \"samples\": [\n          2.0\n        ],\n        \"semantic_type\": \"\",\n        \"description\": \"\"\n      }\n    },\n    {\n      \"column\": \"NO2\",\n      \"properties\": {\n        \"dtype\": \"number\",\n        \"std\": null,\n        \"min\": 13.0,\n        \"max\": 13.0,\n        \"num_unique_values\": 1,\n        \"samples\": [\n          13.0\n        ],\n        \"semantic_type\": \"\",\n        \"description\": \"\"\n      }\n    },\n    {\n      \"column\": \"CO\",\n      \"properties\": {\n        \"dtype\": \"number\",\n        \"std\": null,\n        \"min\": 300.0,\n        \"max\": 300.0,\n        \"num_unique_values\": 1,\n        \"samples\": [\n          300.0\n        ],\n        \"semantic_type\": \"\",\n        \"description\": \"\"\n      }\n    },\n    {\n      \"column\": \"O3\",\n      \"properties\": {\n        \"dtype\": \"number\",\n        \"std\": null,\n        \"min\": 79.0,\n        \"max\": 79.0,\n        \"num_unique_values\": 1,\n        \"samples\": [\n          79.0\n        ],\n        \"semantic_type\": \"\",\n        \"description\": \"\"\n      }\n    },\n    {\n      \"column\": \"TEMP\",\n      \"properties\": {\n        \"dtype\": \"number\",\n        \"std\": null,\n        \"min\": 18.9,\n        \"max\": 18.9,\n        \"num_unique_values\": 1,\n        \"samples\": [\n          18.9\n        ],\n        \"semantic_type\": \"\",\n        \"description\": \"\"\n      }\n    },\n    {\n      \"column\": \"PRES\",\n      \"properties\": {\n        \"dtype\": \"number\",\n        \"std\": null,\n        \"min\": 1000.0,\n        \"max\": 1000.0,\n        \"num_unique_values\": 1,\n        \"samples\": [\n          1000.0\n        ],\n        \"semantic_type\": \"\",\n        \"description\": \"\"\n      }\n    },\n    {\n      \"column\": \"DEWP\",\n      \"properties\": {\n        \"dtype\": \"number\",\n        \"std\": null,\n        \"min\": -1.0,\n        \"max\": -1.0,\n        \"num_unique_values\": 1,\n        \"samples\": [\n          -1.0\n        ],\n        \"semantic_type\": \"\",\n        \"description\": \"\"\n      }\n    },\n    {\n      \"column\": \"RAIN\",\n      \"properties\": {\n        \"dtype\": \"number\",\n        \"std\": null,\n        \"min\": 0.0,\n        \"max\": 0.0,\n        \"num_unique_values\": 1,\n        \"samples\": [\n          0.0\n        ],\n        \"semantic_type\": \"\",\n        \"description\": \"\"\n      }\n    },\n    {\n      \"column\": \"wd\",\n      \"properties\": {\n        \"dtype\": \"string\",\n        \"num_unique_values\": 1,\n        \"samples\": [\n          \"NNW\"\n        ],\n        \"semantic_type\": \"\",\n        \"description\": \"\"\n      }\n    },\n    {\n      \"column\": \"WSPM\",\n      \"properties\": {\n        \"dtype\": \"number\",\n        \"std\": null,\n        \"min\": 4.3,\n        \"max\": 4.3,\n        \"num_unique_values\": 1,\n        \"samples\": [\n          4.3\n        ],\n        \"semantic_type\": \"\",\n        \"description\": \"\"\n      }\n    },\n    {\n      \"column\": \"station\",\n      \"properties\": {\n        \"dtype\": \"string\",\n        \"num_unique_values\": 1,\n        \"samples\": [\n          \"Shunyi\"\n        ],\n        \"semantic_type\": \"\",\n        \"description\": \"\"\n      }\n    }\n  ]\n}"
            }
          },
          "metadata": {},
          "execution_count": 14
        }
      ]
    },
    {
      "cell_type": "code",
      "source": [
        "df[df.PM10.isnull()]"
      ],
      "metadata": {
        "colab": {
          "base_uri": "https://localhost:8080/",
          "height": 443
        },
        "id": "snFwWixn3-VS",
        "outputId": "fcfaf0a8-da6b-4f9b-87bb-ae921ef4e1b8"
      },
      "execution_count": 15,
      "outputs": [
        {
          "output_type": "execute_result",
          "data": {
            "text/plain": [
              "          No  year  month  day  hour  PM2.5  PM10   SO2   NO2     CO    O3  \\\n",
              "31        32  2013      3    2     7   13.0   NaN  12.0  31.0  700.0  49.0   \n",
              "88        89  2013      3    4    16   13.0   NaN   8.0  21.0  500.0  84.0   \n",
              "204      205  2013      3    9    12    NaN   NaN   NaN   NaN    NaN  90.0   \n",
              "205      206  2013      3    9    13    NaN   NaN   NaN   NaN    NaN  90.0   \n",
              "206      207  2013      3    9    14    NaN   NaN   NaN   NaN    NaN  90.0   \n",
              "...      ...   ...    ...  ...   ...    ...   ...   ...   ...    ...   ...   \n",
              "34880  34881  2017      2   21     8    NaN   NaN   NaN   NaN    NaN   NaN   \n",
              "34883  34884  2017      2   21    11    NaN   NaN   NaN   NaN    NaN   NaN   \n",
              "34885  34886  2017      2   21    13    NaN   NaN   NaN   NaN    NaN   NaN   \n",
              "34936  34937  2017      2   23    16    NaN   NaN   2.0  14.0  300.0  84.0   \n",
              "34937  34938  2017      2   23    17    NaN   NaN   2.0  17.0  300.0   NaN   \n",
              "\n",
              "       TEMP    PRES  DEWP  RAIN   wd  WSPM station  \n",
              "31     -2.7  1032.3 -16.4   0.0    N   1.3  Shunyi  \n",
              "88     14.9  1017.9 -13.3   0.0  SSW   3.0  Shunyi  \n",
              "204    12.7  1006.6 -15.1   0.0  NNW   9.9  Shunyi  \n",
              "205    10.4  1009.0 -16.0   0.0   NW   7.6  Shunyi  \n",
              "206     9.8  1010.4 -17.4   0.0   NW   6.2  Shunyi  \n",
              "...     ...     ...   ...   ...  ...   ...     ...  \n",
              "34880  -2.1  1029.7 -15.5   0.0    E   0.6  Shunyi  \n",
              "34883  -0.2  1028.9 -14.2   0.0   SE   1.3  Shunyi  \n",
              "34885  -0.1  1027.8  -8.5   0.0    S   3.6  Shunyi  \n",
              "34936   8.1  1022.5 -15.5   0.0  WNW   3.9  Shunyi  \n",
              "34937   7.5  1022.2 -16.0   0.0    W   4.7  Shunyi  \n",
              "\n",
              "[548 rows x 18 columns]"
            ],
            "text/html": [
              "\n",
              "  <div id=\"df-a84e78f5-7233-48e5-934b-a2bbf1469fbe\" class=\"colab-df-container\">\n",
              "    <div>\n",
              "<style scoped>\n",
              "    .dataframe tbody tr th:only-of-type {\n",
              "        vertical-align: middle;\n",
              "    }\n",
              "\n",
              "    .dataframe tbody tr th {\n",
              "        vertical-align: top;\n",
              "    }\n",
              "\n",
              "    .dataframe thead th {\n",
              "        text-align: right;\n",
              "    }\n",
              "</style>\n",
              "<table border=\"1\" class=\"dataframe\">\n",
              "  <thead>\n",
              "    <tr style=\"text-align: right;\">\n",
              "      <th></th>\n",
              "      <th>No</th>\n",
              "      <th>year</th>\n",
              "      <th>month</th>\n",
              "      <th>day</th>\n",
              "      <th>hour</th>\n",
              "      <th>PM2.5</th>\n",
              "      <th>PM10</th>\n",
              "      <th>SO2</th>\n",
              "      <th>NO2</th>\n",
              "      <th>CO</th>\n",
              "      <th>O3</th>\n",
              "      <th>TEMP</th>\n",
              "      <th>PRES</th>\n",
              "      <th>DEWP</th>\n",
              "      <th>RAIN</th>\n",
              "      <th>wd</th>\n",
              "      <th>WSPM</th>\n",
              "      <th>station</th>\n",
              "    </tr>\n",
              "  </thead>\n",
              "  <tbody>\n",
              "    <tr>\n",
              "      <th>31</th>\n",
              "      <td>32</td>\n",
              "      <td>2013</td>\n",
              "      <td>3</td>\n",
              "      <td>2</td>\n",
              "      <td>7</td>\n",
              "      <td>13.0</td>\n",
              "      <td>NaN</td>\n",
              "      <td>12.0</td>\n",
              "      <td>31.0</td>\n",
              "      <td>700.0</td>\n",
              "      <td>49.0</td>\n",
              "      <td>-2.7</td>\n",
              "      <td>1032.3</td>\n",
              "      <td>-16.4</td>\n",
              "      <td>0.0</td>\n",
              "      <td>N</td>\n",
              "      <td>1.3</td>\n",
              "      <td>Shunyi</td>\n",
              "    </tr>\n",
              "    <tr>\n",
              "      <th>88</th>\n",
              "      <td>89</td>\n",
              "      <td>2013</td>\n",
              "      <td>3</td>\n",
              "      <td>4</td>\n",
              "      <td>16</td>\n",
              "      <td>13.0</td>\n",
              "      <td>NaN</td>\n",
              "      <td>8.0</td>\n",
              "      <td>21.0</td>\n",
              "      <td>500.0</td>\n",
              "      <td>84.0</td>\n",
              "      <td>14.9</td>\n",
              "      <td>1017.9</td>\n",
              "      <td>-13.3</td>\n",
              "      <td>0.0</td>\n",
              "      <td>SSW</td>\n",
              "      <td>3.0</td>\n",
              "      <td>Shunyi</td>\n",
              "    </tr>\n",
              "    <tr>\n",
              "      <th>204</th>\n",
              "      <td>205</td>\n",
              "      <td>2013</td>\n",
              "      <td>3</td>\n",
              "      <td>9</td>\n",
              "      <td>12</td>\n",
              "      <td>NaN</td>\n",
              "      <td>NaN</td>\n",
              "      <td>NaN</td>\n",
              "      <td>NaN</td>\n",
              "      <td>NaN</td>\n",
              "      <td>90.0</td>\n",
              "      <td>12.7</td>\n",
              "      <td>1006.6</td>\n",
              "      <td>-15.1</td>\n",
              "      <td>0.0</td>\n",
              "      <td>NNW</td>\n",
              "      <td>9.9</td>\n",
              "      <td>Shunyi</td>\n",
              "    </tr>\n",
              "    <tr>\n",
              "      <th>205</th>\n",
              "      <td>206</td>\n",
              "      <td>2013</td>\n",
              "      <td>3</td>\n",
              "      <td>9</td>\n",
              "      <td>13</td>\n",
              "      <td>NaN</td>\n",
              "      <td>NaN</td>\n",
              "      <td>NaN</td>\n",
              "      <td>NaN</td>\n",
              "      <td>NaN</td>\n",
              "      <td>90.0</td>\n",
              "      <td>10.4</td>\n",
              "      <td>1009.0</td>\n",
              "      <td>-16.0</td>\n",
              "      <td>0.0</td>\n",
              "      <td>NW</td>\n",
              "      <td>7.6</td>\n",
              "      <td>Shunyi</td>\n",
              "    </tr>\n",
              "    <tr>\n",
              "      <th>206</th>\n",
              "      <td>207</td>\n",
              "      <td>2013</td>\n",
              "      <td>3</td>\n",
              "      <td>9</td>\n",
              "      <td>14</td>\n",
              "      <td>NaN</td>\n",
              "      <td>NaN</td>\n",
              "      <td>NaN</td>\n",
              "      <td>NaN</td>\n",
              "      <td>NaN</td>\n",
              "      <td>90.0</td>\n",
              "      <td>9.8</td>\n",
              "      <td>1010.4</td>\n",
              "      <td>-17.4</td>\n",
              "      <td>0.0</td>\n",
              "      <td>NW</td>\n",
              "      <td>6.2</td>\n",
              "      <td>Shunyi</td>\n",
              "    </tr>\n",
              "    <tr>\n",
              "      <th>...</th>\n",
              "      <td>...</td>\n",
              "      <td>...</td>\n",
              "      <td>...</td>\n",
              "      <td>...</td>\n",
              "      <td>...</td>\n",
              "      <td>...</td>\n",
              "      <td>...</td>\n",
              "      <td>...</td>\n",
              "      <td>...</td>\n",
              "      <td>...</td>\n",
              "      <td>...</td>\n",
              "      <td>...</td>\n",
              "      <td>...</td>\n",
              "      <td>...</td>\n",
              "      <td>...</td>\n",
              "      <td>...</td>\n",
              "      <td>...</td>\n",
              "      <td>...</td>\n",
              "    </tr>\n",
              "    <tr>\n",
              "      <th>34880</th>\n",
              "      <td>34881</td>\n",
              "      <td>2017</td>\n",
              "      <td>2</td>\n",
              "      <td>21</td>\n",
              "      <td>8</td>\n",
              "      <td>NaN</td>\n",
              "      <td>NaN</td>\n",
              "      <td>NaN</td>\n",
              "      <td>NaN</td>\n",
              "      <td>NaN</td>\n",
              "      <td>NaN</td>\n",
              "      <td>-2.1</td>\n",
              "      <td>1029.7</td>\n",
              "      <td>-15.5</td>\n",
              "      <td>0.0</td>\n",
              "      <td>E</td>\n",
              "      <td>0.6</td>\n",
              "      <td>Shunyi</td>\n",
              "    </tr>\n",
              "    <tr>\n",
              "      <th>34883</th>\n",
              "      <td>34884</td>\n",
              "      <td>2017</td>\n",
              "      <td>2</td>\n",
              "      <td>21</td>\n",
              "      <td>11</td>\n",
              "      <td>NaN</td>\n",
              "      <td>NaN</td>\n",
              "      <td>NaN</td>\n",
              "      <td>NaN</td>\n",
              "      <td>NaN</td>\n",
              "      <td>NaN</td>\n",
              "      <td>-0.2</td>\n",
              "      <td>1028.9</td>\n",
              "      <td>-14.2</td>\n",
              "      <td>0.0</td>\n",
              "      <td>SE</td>\n",
              "      <td>1.3</td>\n",
              "      <td>Shunyi</td>\n",
              "    </tr>\n",
              "    <tr>\n",
              "      <th>34885</th>\n",
              "      <td>34886</td>\n",
              "      <td>2017</td>\n",
              "      <td>2</td>\n",
              "      <td>21</td>\n",
              "      <td>13</td>\n",
              "      <td>NaN</td>\n",
              "      <td>NaN</td>\n",
              "      <td>NaN</td>\n",
              "      <td>NaN</td>\n",
              "      <td>NaN</td>\n",
              "      <td>NaN</td>\n",
              "      <td>-0.1</td>\n",
              "      <td>1027.8</td>\n",
              "      <td>-8.5</td>\n",
              "      <td>0.0</td>\n",
              "      <td>S</td>\n",
              "      <td>3.6</td>\n",
              "      <td>Shunyi</td>\n",
              "    </tr>\n",
              "    <tr>\n",
              "      <th>34936</th>\n",
              "      <td>34937</td>\n",
              "      <td>2017</td>\n",
              "      <td>2</td>\n",
              "      <td>23</td>\n",
              "      <td>16</td>\n",
              "      <td>NaN</td>\n",
              "      <td>NaN</td>\n",
              "      <td>2.0</td>\n",
              "      <td>14.0</td>\n",
              "      <td>300.0</td>\n",
              "      <td>84.0</td>\n",
              "      <td>8.1</td>\n",
              "      <td>1022.5</td>\n",
              "      <td>-15.5</td>\n",
              "      <td>0.0</td>\n",
              "      <td>WNW</td>\n",
              "      <td>3.9</td>\n",
              "      <td>Shunyi</td>\n",
              "    </tr>\n",
              "    <tr>\n",
              "      <th>34937</th>\n",
              "      <td>34938</td>\n",
              "      <td>2017</td>\n",
              "      <td>2</td>\n",
              "      <td>23</td>\n",
              "      <td>17</td>\n",
              "      <td>NaN</td>\n",
              "      <td>NaN</td>\n",
              "      <td>2.0</td>\n",
              "      <td>17.0</td>\n",
              "      <td>300.0</td>\n",
              "      <td>NaN</td>\n",
              "      <td>7.5</td>\n",
              "      <td>1022.2</td>\n",
              "      <td>-16.0</td>\n",
              "      <td>0.0</td>\n",
              "      <td>W</td>\n",
              "      <td>4.7</td>\n",
              "      <td>Shunyi</td>\n",
              "    </tr>\n",
              "  </tbody>\n",
              "</table>\n",
              "<p>548 rows × 18 columns</p>\n",
              "</div>\n",
              "    <div class=\"colab-df-buttons\">\n",
              "\n",
              "  <div class=\"colab-df-container\">\n",
              "    <button class=\"colab-df-convert\" onclick=\"convertToInteractive('df-a84e78f5-7233-48e5-934b-a2bbf1469fbe')\"\n",
              "            title=\"Convert this dataframe to an interactive table.\"\n",
              "            style=\"display:none;\">\n",
              "\n",
              "  <svg xmlns=\"http://www.w3.org/2000/svg\" height=\"24px\" viewBox=\"0 -960 960 960\">\n",
              "    <path d=\"M120-120v-720h720v720H120Zm60-500h600v-160H180v160Zm220 220h160v-160H400v160Zm0 220h160v-160H400v160ZM180-400h160v-160H180v160Zm440 0h160v-160H620v160ZM180-180h160v-160H180v160Zm440 0h160v-160H620v160Z\"/>\n",
              "  </svg>\n",
              "    </button>\n",
              "\n",
              "  <style>\n",
              "    .colab-df-container {\n",
              "      display:flex;\n",
              "      gap: 12px;\n",
              "    }\n",
              "\n",
              "    .colab-df-convert {\n",
              "      background-color: #E8F0FE;\n",
              "      border: none;\n",
              "      border-radius: 50%;\n",
              "      cursor: pointer;\n",
              "      display: none;\n",
              "      fill: #1967D2;\n",
              "      height: 32px;\n",
              "      padding: 0 0 0 0;\n",
              "      width: 32px;\n",
              "    }\n",
              "\n",
              "    .colab-df-convert:hover {\n",
              "      background-color: #E2EBFA;\n",
              "      box-shadow: 0px 1px 2px rgba(60, 64, 67, 0.3), 0px 1px 3px 1px rgba(60, 64, 67, 0.15);\n",
              "      fill: #174EA6;\n",
              "    }\n",
              "\n",
              "    .colab-df-buttons div {\n",
              "      margin-bottom: 4px;\n",
              "    }\n",
              "\n",
              "    [theme=dark] .colab-df-convert {\n",
              "      background-color: #3B4455;\n",
              "      fill: #D2E3FC;\n",
              "    }\n",
              "\n",
              "    [theme=dark] .colab-df-convert:hover {\n",
              "      background-color: #434B5C;\n",
              "      box-shadow: 0px 1px 3px 1px rgba(0, 0, 0, 0.15);\n",
              "      filter: drop-shadow(0px 1px 2px rgba(0, 0, 0, 0.3));\n",
              "      fill: #FFFFFF;\n",
              "    }\n",
              "  </style>\n",
              "\n",
              "    <script>\n",
              "      const buttonEl =\n",
              "        document.querySelector('#df-a84e78f5-7233-48e5-934b-a2bbf1469fbe button.colab-df-convert');\n",
              "      buttonEl.style.display =\n",
              "        google.colab.kernel.accessAllowed ? 'block' : 'none';\n",
              "\n",
              "      async function convertToInteractive(key) {\n",
              "        const element = document.querySelector('#df-a84e78f5-7233-48e5-934b-a2bbf1469fbe');\n",
              "        const dataTable =\n",
              "          await google.colab.kernel.invokeFunction('convertToInteractive',\n",
              "                                                    [key], {});\n",
              "        if (!dataTable) return;\n",
              "\n",
              "        const docLinkHtml = 'Like what you see? Visit the ' +\n",
              "          '<a target=\"_blank\" href=https://colab.research.google.com/notebooks/data_table.ipynb>data table notebook</a>'\n",
              "          + ' to learn more about interactive tables.';\n",
              "        element.innerHTML = '';\n",
              "        dataTable['output_type'] = 'display_data';\n",
              "        await google.colab.output.renderOutput(dataTable, element);\n",
              "        const docLink = document.createElement('div');\n",
              "        docLink.innerHTML = docLinkHtml;\n",
              "        element.appendChild(docLink);\n",
              "      }\n",
              "    </script>\n",
              "  </div>\n",
              "\n",
              "\n",
              "<div id=\"df-147140a7-652d-4a93-a672-c325c9e466c2\">\n",
              "  <button class=\"colab-df-quickchart\" onclick=\"quickchart('df-147140a7-652d-4a93-a672-c325c9e466c2')\"\n",
              "            title=\"Suggest charts\"\n",
              "            style=\"display:none;\">\n",
              "\n",
              "<svg xmlns=\"http://www.w3.org/2000/svg\" height=\"24px\"viewBox=\"0 0 24 24\"\n",
              "     width=\"24px\">\n",
              "    <g>\n",
              "        <path d=\"M19 3H5c-1.1 0-2 .9-2 2v14c0 1.1.9 2 2 2h14c1.1 0 2-.9 2-2V5c0-1.1-.9-2-2-2zM9 17H7v-7h2v7zm4 0h-2V7h2v10zm4 0h-2v-4h2v4z\"/>\n",
              "    </g>\n",
              "</svg>\n",
              "  </button>\n",
              "\n",
              "<style>\n",
              "  .colab-df-quickchart {\n",
              "      --bg-color: #E8F0FE;\n",
              "      --fill-color: #1967D2;\n",
              "      --hover-bg-color: #E2EBFA;\n",
              "      --hover-fill-color: #174EA6;\n",
              "      --disabled-fill-color: #AAA;\n",
              "      --disabled-bg-color: #DDD;\n",
              "  }\n",
              "\n",
              "  [theme=dark] .colab-df-quickchart {\n",
              "      --bg-color: #3B4455;\n",
              "      --fill-color: #D2E3FC;\n",
              "      --hover-bg-color: #434B5C;\n",
              "      --hover-fill-color: #FFFFFF;\n",
              "      --disabled-bg-color: #3B4455;\n",
              "      --disabled-fill-color: #666;\n",
              "  }\n",
              "\n",
              "  .colab-df-quickchart {\n",
              "    background-color: var(--bg-color);\n",
              "    border: none;\n",
              "    border-radius: 50%;\n",
              "    cursor: pointer;\n",
              "    display: none;\n",
              "    fill: var(--fill-color);\n",
              "    height: 32px;\n",
              "    padding: 0;\n",
              "    width: 32px;\n",
              "  }\n",
              "\n",
              "  .colab-df-quickchart:hover {\n",
              "    background-color: var(--hover-bg-color);\n",
              "    box-shadow: 0 1px 2px rgba(60, 64, 67, 0.3), 0 1px 3px 1px rgba(60, 64, 67, 0.15);\n",
              "    fill: var(--button-hover-fill-color);\n",
              "  }\n",
              "\n",
              "  .colab-df-quickchart-complete:disabled,\n",
              "  .colab-df-quickchart-complete:disabled:hover {\n",
              "    background-color: var(--disabled-bg-color);\n",
              "    fill: var(--disabled-fill-color);\n",
              "    box-shadow: none;\n",
              "  }\n",
              "\n",
              "  .colab-df-spinner {\n",
              "    border: 2px solid var(--fill-color);\n",
              "    border-color: transparent;\n",
              "    border-bottom-color: var(--fill-color);\n",
              "    animation:\n",
              "      spin 1s steps(1) infinite;\n",
              "  }\n",
              "\n",
              "  @keyframes spin {\n",
              "    0% {\n",
              "      border-color: transparent;\n",
              "      border-bottom-color: var(--fill-color);\n",
              "      border-left-color: var(--fill-color);\n",
              "    }\n",
              "    20% {\n",
              "      border-color: transparent;\n",
              "      border-left-color: var(--fill-color);\n",
              "      border-top-color: var(--fill-color);\n",
              "    }\n",
              "    30% {\n",
              "      border-color: transparent;\n",
              "      border-left-color: var(--fill-color);\n",
              "      border-top-color: var(--fill-color);\n",
              "      border-right-color: var(--fill-color);\n",
              "    }\n",
              "    40% {\n",
              "      border-color: transparent;\n",
              "      border-right-color: var(--fill-color);\n",
              "      border-top-color: var(--fill-color);\n",
              "    }\n",
              "    60% {\n",
              "      border-color: transparent;\n",
              "      border-right-color: var(--fill-color);\n",
              "    }\n",
              "    80% {\n",
              "      border-color: transparent;\n",
              "      border-right-color: var(--fill-color);\n",
              "      border-bottom-color: var(--fill-color);\n",
              "    }\n",
              "    90% {\n",
              "      border-color: transparent;\n",
              "      border-bottom-color: var(--fill-color);\n",
              "    }\n",
              "  }\n",
              "</style>\n",
              "\n",
              "  <script>\n",
              "    async function quickchart(key) {\n",
              "      const quickchartButtonEl =\n",
              "        document.querySelector('#' + key + ' button');\n",
              "      quickchartButtonEl.disabled = true;  // To prevent multiple clicks.\n",
              "      quickchartButtonEl.classList.add('colab-df-spinner');\n",
              "      try {\n",
              "        const charts = await google.colab.kernel.invokeFunction(\n",
              "            'suggestCharts', [key], {});\n",
              "      } catch (error) {\n",
              "        console.error('Error during call to suggestCharts:', error);\n",
              "      }\n",
              "      quickchartButtonEl.classList.remove('colab-df-spinner');\n",
              "      quickchartButtonEl.classList.add('colab-df-quickchart-complete');\n",
              "    }\n",
              "    (() => {\n",
              "      let quickchartButtonEl =\n",
              "        document.querySelector('#df-147140a7-652d-4a93-a672-c325c9e466c2 button');\n",
              "      quickchartButtonEl.style.display =\n",
              "        google.colab.kernel.accessAllowed ? 'block' : 'none';\n",
              "    })();\n",
              "  </script>\n",
              "</div>\n",
              "    </div>\n",
              "  </div>\n"
            ],
            "application/vnd.google.colaboratory.intrinsic+json": {
              "type": "dataframe",
              "summary": "{\n  \"name\": \"df[df\",\n  \"rows\": 548,\n  \"fields\": [\n    {\n      \"column\": \"No\",\n      \"properties\": {\n        \"dtype\": \"number\",\n        \"std\": 10136,\n        \"min\": 32,\n        \"max\": 34938,\n        \"num_unique_values\": 548,\n        \"samples\": [\n          23947,\n          8092,\n          23903\n        ],\n        \"semantic_type\": \"\",\n        \"description\": \"\"\n      }\n    },\n    {\n      \"column\": \"year\",\n      \"properties\": {\n        \"dtype\": \"number\",\n        \"std\": 1,\n        \"min\": 2013,\n        \"max\": 2017,\n        \"num_unique_values\": 5,\n        \"samples\": [\n          2014,\n          2017,\n          2015\n        ],\n        \"semantic_type\": \"\",\n        \"description\": \"\"\n      }\n    },\n    {\n      \"column\": \"month\",\n      \"properties\": {\n        \"dtype\": \"number\",\n        \"std\": 3,\n        \"min\": 1,\n        \"max\": 12,\n        \"num_unique_values\": 12,\n        \"samples\": [\n          8,\n          2,\n          3\n        ],\n        \"semantic_type\": \"\",\n        \"description\": \"\"\n      }\n    },\n    {\n      \"column\": \"day\",\n      \"properties\": {\n        \"dtype\": \"number\",\n        \"std\": 8,\n        \"min\": 1,\n        \"max\": 31,\n        \"num_unique_values\": 31,\n        \"samples\": [\n          3,\n          28,\n          26\n        ],\n        \"semantic_type\": \"\",\n        \"description\": \"\"\n      }\n    },\n    {\n      \"column\": \"hour\",\n      \"properties\": {\n        \"dtype\": \"number\",\n        \"std\": 6,\n        \"min\": 0,\n        \"max\": 23,\n        \"num_unique_values\": 24,\n        \"samples\": [\n          19,\n          3,\n          7\n        ],\n        \"semantic_type\": \"\",\n        \"description\": \"\"\n      }\n    },\n    {\n      \"column\": \"PM2.5\",\n      \"properties\": {\n        \"dtype\": \"number\",\n        \"std\": 247.1554934543516,\n        \"min\": 3.0,\n        \"max\": 941.0,\n        \"num_unique_values\": 22,\n        \"samples\": [\n          13.0,\n          124.0,\n          3.0\n        ],\n        \"semantic_type\": \"\",\n        \"description\": \"\"\n      }\n    },\n    {\n      \"column\": \"PM10\",\n      \"properties\": {\n        \"dtype\": \"number\",\n        \"std\": null,\n        \"min\": null,\n        \"max\": null,\n        \"num_unique_values\": 0,\n        \"samples\": [],\n        \"semantic_type\": \"\",\n        \"description\": \"\"\n      }\n    },\n    {\n      \"column\": \"SO2\",\n      \"properties\": {\n        \"dtype\": \"number\",\n        \"std\": 27.93195498262328,\n        \"min\": 0.5712,\n        \"max\": 239.0,\n        \"num_unique_values\": 45,\n        \"samples\": [],\n        \"semantic_type\": \"\",\n        \"description\": \"\"\n      }\n    },\n    {\n      \"column\": \"NO2\",\n      \"properties\": {\n        \"dtype\": \"number\",\n        \"std\": 26.34908987256801,\n        \"min\": 2.0,\n        \"max\": 147.0,\n        \"num_unique_values\": 78,\n        \"samples\": [],\n        \"semantic_type\": \"\",\n        \"description\": \"\"\n      }\n    },\n    {\n      \"column\": \"CO\",\n      \"properties\": {\n        \"dtype\": \"number\",\n        \"std\": 1694.5653313584248,\n        \"min\": 100.0,\n        \"max\": 9500.0,\n        \"num_unique_values\": 38,\n        \"samples\": [],\n        \"semantic_type\": \"\",\n        \"description\": \"\"\n      }\n    },\n    {\n      \"column\": \"O3\",\n      \"properties\": {\n        \"dtype\": \"number\",\n        \"std\": 50.1450578919406,\n        \"min\": 0.8568,\n        \"max\": 330.0,\n        \"num_unique_values\": 107,\n        \"samples\": [],\n        \"semantic_type\": \"\",\n        \"description\": \"\"\n      }\n    },\n    {\n      \"column\": \"TEMP\",\n      \"properties\": {\n        \"dtype\": \"number\",\n        \"std\": 11.197261407876802,\n        \"min\": -9.7,\n        \"max\": 39.8,\n        \"num_unique_values\": 321,\n        \"samples\": [],\n        \"semantic_type\": \"\",\n        \"description\": \"\"\n      }\n    },\n    {\n      \"column\": \"PRES\",\n      \"properties\": {\n        \"dtype\": \"number\",\n        \"std\": 10.305741241408152,\n        \"min\": 991.1,\n        \"max\": 1037.5,\n        \"num_unique_values\": 281,\n        \"samples\": [],\n        \"semantic_type\": \"\",\n        \"description\": \"\"\n      }\n    },\n    {\n      \"column\": \"DEWP\",\n      \"properties\": {\n        \"dtype\": \"number\",\n        \"std\": 13.51555957023415,\n        \"min\": -25.3,\n        \"max\": 25.0,\n        \"num_unique_values\": 314,\n        \"samples\": [],\n        \"semantic_type\": \"\",\n        \"description\": \"\"\n      }\n    },\n    {\n      \"column\": \"RAIN\",\n      \"properties\": {\n        \"dtype\": \"number\",\n        \"std\": 1.1649698609715025,\n        \"min\": 0.0,\n        \"max\": 18.5,\n        \"num_unique_values\": 24,\n        \"samples\": [],\n        \"semantic_type\": \"\",\n        \"description\": \"\"\n      }\n    },\n    {\n      \"column\": \"wd\",\n      \"properties\": {\n        \"dtype\": \"category\",\n        \"num_unique_values\": 16,\n        \"samples\": [],\n        \"semantic_type\": \"\",\n        \"description\": \"\"\n      }\n    },\n    {\n      \"column\": \"WSPM\",\n      \"properties\": {\n        \"dtype\": \"number\",\n        \"std\": 1.474743337290437,\n        \"min\": 0.0,\n        \"max\": 9.9,\n        \"num_unique_values\": 68,\n        \"samples\": [],\n        \"semantic_type\": \"\",\n        \"description\": \"\"\n      }\n    },\n    {\n      \"column\": \"station\",\n      \"properties\": {\n        \"dtype\": \"category\",\n        \"num_unique_values\": 1,\n        \"samples\": [],\n        \"semantic_type\": \"\",\n        \"description\": \"\"\n      }\n    }\n  ]\n}"
            }
          },
          "metadata": {},
          "execution_count": 15
        }
      ]
    },
    {
      "cell_type": "markdown",
      "source": [
        "#####**SO2**"
      ],
      "metadata": {
        "id": "Iqso4dWg4Prx"
      }
    },
    {
      "cell_type": "code",
      "source": [
        "min_so2 = df[\"SO2\"].min()\n",
        "print(\"Minimum SO2 value:\", min_so2)"
      ],
      "metadata": {
        "colab": {
          "base_uri": "https://localhost:8080/"
        },
        "id": "00C2G_qb5TSi",
        "outputId": "7c23ee3f-5cc9-4c38-bc3e-6a4d75681414"
      },
      "execution_count": 16,
      "outputs": [
        {
          "output_type": "stream",
          "name": "stdout",
          "text": [
            "Minimum SO2 value: 0.2856\n"
          ]
        }
      ]
    },
    {
      "cell_type": "code",
      "source": [
        "max_so2 = df['SO2'].max()\n",
        "print(\"Maximum SO2 value:\", max_so2)"
      ],
      "metadata": {
        "colab": {
          "base_uri": "https://localhost:8080/"
        },
        "id": "p6Lo8BtSRBci",
        "outputId": "51548f1c-6418-41a1-80e5-4739216b5a3c"
      },
      "execution_count": 17,
      "outputs": [
        {
          "output_type": "stream",
          "name": "stdout",
          "text": [
            "Maximum SO2 value: 239.0\n"
          ]
        }
      ]
    },
    {
      "cell_type": "markdown",
      "source": [
        "Table below shows in which rows the SO2 reached the maximum."
      ],
      "metadata": {
        "id": "zaqBgvoyz_hS"
      }
    },
    {
      "cell_type": "code",
      "source": [
        "df[df.SO2 == df.SO2.max()]"
      ],
      "metadata": {
        "colab": {
          "base_uri": "https://localhost:8080/",
          "height": 101
        },
        "id": "CkxRWGGU6CKt",
        "outputId": "6d245f28-3fc8-44bf-a65b-9b87cfa3a630"
      },
      "execution_count": 18,
      "outputs": [
        {
          "output_type": "execute_result",
          "data": {
            "text/plain": [
              "          No  year  month  day  hour  PM2.5  PM10    SO2   NO2      CO   O3  \\\n",
              "25777  25778  2016      2    8     1  816.0   NaN  239.0  75.0  1700.0  5.0   \n",
              "\n",
              "       TEMP    PRES  DEWP  RAIN   wd  WSPM station  \n",
              "25777  -3.9  1011.4 -13.8   0.0  NNE   1.1  Shunyi  "
            ],
            "text/html": [
              "\n",
              "  <div id=\"df-1a810aa3-1629-41d8-a793-8773d49775ca\" class=\"colab-df-container\">\n",
              "    <div>\n",
              "<style scoped>\n",
              "    .dataframe tbody tr th:only-of-type {\n",
              "        vertical-align: middle;\n",
              "    }\n",
              "\n",
              "    .dataframe tbody tr th {\n",
              "        vertical-align: top;\n",
              "    }\n",
              "\n",
              "    .dataframe thead th {\n",
              "        text-align: right;\n",
              "    }\n",
              "</style>\n",
              "<table border=\"1\" class=\"dataframe\">\n",
              "  <thead>\n",
              "    <tr style=\"text-align: right;\">\n",
              "      <th></th>\n",
              "      <th>No</th>\n",
              "      <th>year</th>\n",
              "      <th>month</th>\n",
              "      <th>day</th>\n",
              "      <th>hour</th>\n",
              "      <th>PM2.5</th>\n",
              "      <th>PM10</th>\n",
              "      <th>SO2</th>\n",
              "      <th>NO2</th>\n",
              "      <th>CO</th>\n",
              "      <th>O3</th>\n",
              "      <th>TEMP</th>\n",
              "      <th>PRES</th>\n",
              "      <th>DEWP</th>\n",
              "      <th>RAIN</th>\n",
              "      <th>wd</th>\n",
              "      <th>WSPM</th>\n",
              "      <th>station</th>\n",
              "    </tr>\n",
              "  </thead>\n",
              "  <tbody>\n",
              "    <tr>\n",
              "      <th>25777</th>\n",
              "      <td>25778</td>\n",
              "      <td>2016</td>\n",
              "      <td>2</td>\n",
              "      <td>8</td>\n",
              "      <td>1</td>\n",
              "      <td>816.0</td>\n",
              "      <td>NaN</td>\n",
              "      <td>239.0</td>\n",
              "      <td>75.0</td>\n",
              "      <td>1700.0</td>\n",
              "      <td>5.0</td>\n",
              "      <td>-3.9</td>\n",
              "      <td>1011.4</td>\n",
              "      <td>-13.8</td>\n",
              "      <td>0.0</td>\n",
              "      <td>NNE</td>\n",
              "      <td>1.1</td>\n",
              "      <td>Shunyi</td>\n",
              "    </tr>\n",
              "  </tbody>\n",
              "</table>\n",
              "</div>\n",
              "    <div class=\"colab-df-buttons\">\n",
              "\n",
              "  <div class=\"colab-df-container\">\n",
              "    <button class=\"colab-df-convert\" onclick=\"convertToInteractive('df-1a810aa3-1629-41d8-a793-8773d49775ca')\"\n",
              "            title=\"Convert this dataframe to an interactive table.\"\n",
              "            style=\"display:none;\">\n",
              "\n",
              "  <svg xmlns=\"http://www.w3.org/2000/svg\" height=\"24px\" viewBox=\"0 -960 960 960\">\n",
              "    <path d=\"M120-120v-720h720v720H120Zm60-500h600v-160H180v160Zm220 220h160v-160H400v160Zm0 220h160v-160H400v160ZM180-400h160v-160H180v160Zm440 0h160v-160H620v160ZM180-180h160v-160H180v160Zm440 0h160v-160H620v160Z\"/>\n",
              "  </svg>\n",
              "    </button>\n",
              "\n",
              "  <style>\n",
              "    .colab-df-container {\n",
              "      display:flex;\n",
              "      gap: 12px;\n",
              "    }\n",
              "\n",
              "    .colab-df-convert {\n",
              "      background-color: #E8F0FE;\n",
              "      border: none;\n",
              "      border-radius: 50%;\n",
              "      cursor: pointer;\n",
              "      display: none;\n",
              "      fill: #1967D2;\n",
              "      height: 32px;\n",
              "      padding: 0 0 0 0;\n",
              "      width: 32px;\n",
              "    }\n",
              "\n",
              "    .colab-df-convert:hover {\n",
              "      background-color: #E2EBFA;\n",
              "      box-shadow: 0px 1px 2px rgba(60, 64, 67, 0.3), 0px 1px 3px 1px rgba(60, 64, 67, 0.15);\n",
              "      fill: #174EA6;\n",
              "    }\n",
              "\n",
              "    .colab-df-buttons div {\n",
              "      margin-bottom: 4px;\n",
              "    }\n",
              "\n",
              "    [theme=dark] .colab-df-convert {\n",
              "      background-color: #3B4455;\n",
              "      fill: #D2E3FC;\n",
              "    }\n",
              "\n",
              "    [theme=dark] .colab-df-convert:hover {\n",
              "      background-color: #434B5C;\n",
              "      box-shadow: 0px 1px 3px 1px rgba(0, 0, 0, 0.15);\n",
              "      filter: drop-shadow(0px 1px 2px rgba(0, 0, 0, 0.3));\n",
              "      fill: #FFFFFF;\n",
              "    }\n",
              "  </style>\n",
              "\n",
              "    <script>\n",
              "      const buttonEl =\n",
              "        document.querySelector('#df-1a810aa3-1629-41d8-a793-8773d49775ca button.colab-df-convert');\n",
              "      buttonEl.style.display =\n",
              "        google.colab.kernel.accessAllowed ? 'block' : 'none';\n",
              "\n",
              "      async function convertToInteractive(key) {\n",
              "        const element = document.querySelector('#df-1a810aa3-1629-41d8-a793-8773d49775ca');\n",
              "        const dataTable =\n",
              "          await google.colab.kernel.invokeFunction('convertToInteractive',\n",
              "                                                    [key], {});\n",
              "        if (!dataTable) return;\n",
              "\n",
              "        const docLinkHtml = 'Like what you see? Visit the ' +\n",
              "          '<a target=\"_blank\" href=https://colab.research.google.com/notebooks/data_table.ipynb>data table notebook</a>'\n",
              "          + ' to learn more about interactive tables.';\n",
              "        element.innerHTML = '';\n",
              "        dataTable['output_type'] = 'display_data';\n",
              "        await google.colab.output.renderOutput(dataTable, element);\n",
              "        const docLink = document.createElement('div');\n",
              "        docLink.innerHTML = docLinkHtml;\n",
              "        element.appendChild(docLink);\n",
              "      }\n",
              "    </script>\n",
              "  </div>\n",
              "\n",
              "    </div>\n",
              "  </div>\n"
            ],
            "application/vnd.google.colaboratory.intrinsic+json": {
              "type": "dataframe",
              "summary": "{\n  \"name\": \"df[df\",\n  \"rows\": 1,\n  \"fields\": [\n    {\n      \"column\": \"No\",\n      \"properties\": {\n        \"dtype\": \"number\",\n        \"std\": null,\n        \"min\": 25778,\n        \"max\": 25778,\n        \"num_unique_values\": 1,\n        \"samples\": [\n          25778\n        ],\n        \"semantic_type\": \"\",\n        \"description\": \"\"\n      }\n    },\n    {\n      \"column\": \"year\",\n      \"properties\": {\n        \"dtype\": \"number\",\n        \"std\": null,\n        \"min\": 2016,\n        \"max\": 2016,\n        \"num_unique_values\": 1,\n        \"samples\": [\n          2016\n        ],\n        \"semantic_type\": \"\",\n        \"description\": \"\"\n      }\n    },\n    {\n      \"column\": \"month\",\n      \"properties\": {\n        \"dtype\": \"number\",\n        \"std\": null,\n        \"min\": 2,\n        \"max\": 2,\n        \"num_unique_values\": 1,\n        \"samples\": [\n          2\n        ],\n        \"semantic_type\": \"\",\n        \"description\": \"\"\n      }\n    },\n    {\n      \"column\": \"day\",\n      \"properties\": {\n        \"dtype\": \"number\",\n        \"std\": null,\n        \"min\": 8,\n        \"max\": 8,\n        \"num_unique_values\": 1,\n        \"samples\": [\n          8\n        ],\n        \"semantic_type\": \"\",\n        \"description\": \"\"\n      }\n    },\n    {\n      \"column\": \"hour\",\n      \"properties\": {\n        \"dtype\": \"number\",\n        \"std\": null,\n        \"min\": 1,\n        \"max\": 1,\n        \"num_unique_values\": 1,\n        \"samples\": [\n          1\n        ],\n        \"semantic_type\": \"\",\n        \"description\": \"\"\n      }\n    },\n    {\n      \"column\": \"PM2.5\",\n      \"properties\": {\n        \"dtype\": \"number\",\n        \"std\": null,\n        \"min\": 816.0,\n        \"max\": 816.0,\n        \"num_unique_values\": 1,\n        \"samples\": [\n          816.0\n        ],\n        \"semantic_type\": \"\",\n        \"description\": \"\"\n      }\n    },\n    {\n      \"column\": \"PM10\",\n      \"properties\": {\n        \"dtype\": \"number\",\n        \"std\": null,\n        \"min\": null,\n        \"max\": null,\n        \"num_unique_values\": 0,\n        \"samples\": [],\n        \"semantic_type\": \"\",\n        \"description\": \"\"\n      }\n    },\n    {\n      \"column\": \"SO2\",\n      \"properties\": {\n        \"dtype\": \"number\",\n        \"std\": null,\n        \"min\": 239.0,\n        \"max\": 239.0,\n        \"num_unique_values\": 1,\n        \"samples\": [],\n        \"semantic_type\": \"\",\n        \"description\": \"\"\n      }\n    },\n    {\n      \"column\": \"NO2\",\n      \"properties\": {\n        \"dtype\": \"number\",\n        \"std\": null,\n        \"min\": 75.0,\n        \"max\": 75.0,\n        \"num_unique_values\": 1,\n        \"samples\": [],\n        \"semantic_type\": \"\",\n        \"description\": \"\"\n      }\n    },\n    {\n      \"column\": \"CO\",\n      \"properties\": {\n        \"dtype\": \"number\",\n        \"std\": null,\n        \"min\": 1700.0,\n        \"max\": 1700.0,\n        \"num_unique_values\": 1,\n        \"samples\": [],\n        \"semantic_type\": \"\",\n        \"description\": \"\"\n      }\n    },\n    {\n      \"column\": \"O3\",\n      \"properties\": {\n        \"dtype\": \"number\",\n        \"std\": null,\n        \"min\": 5.0,\n        \"max\": 5.0,\n        \"num_unique_values\": 1,\n        \"samples\": [],\n        \"semantic_type\": \"\",\n        \"description\": \"\"\n      }\n    },\n    {\n      \"column\": \"TEMP\",\n      \"properties\": {\n        \"dtype\": \"number\",\n        \"std\": null,\n        \"min\": -3.9,\n        \"max\": -3.9,\n        \"num_unique_values\": 1,\n        \"samples\": [],\n        \"semantic_type\": \"\",\n        \"description\": \"\"\n      }\n    },\n    {\n      \"column\": \"PRES\",\n      \"properties\": {\n        \"dtype\": \"number\",\n        \"std\": null,\n        \"min\": 1011.4,\n        \"max\": 1011.4,\n        \"num_unique_values\": 1,\n        \"samples\": [],\n        \"semantic_type\": \"\",\n        \"description\": \"\"\n      }\n    },\n    {\n      \"column\": \"DEWP\",\n      \"properties\": {\n        \"dtype\": \"number\",\n        \"std\": null,\n        \"min\": -13.8,\n        \"max\": -13.8,\n        \"num_unique_values\": 1,\n        \"samples\": [],\n        \"semantic_type\": \"\",\n        \"description\": \"\"\n      }\n    },\n    {\n      \"column\": \"RAIN\",\n      \"properties\": {\n        \"dtype\": \"number\",\n        \"std\": null,\n        \"min\": 0.0,\n        \"max\": 0.0,\n        \"num_unique_values\": 1,\n        \"samples\": [],\n        \"semantic_type\": \"\",\n        \"description\": \"\"\n      }\n    },\n    {\n      \"column\": \"wd\",\n      \"properties\": {\n        \"dtype\": \"string\",\n        \"num_unique_values\": 1,\n        \"samples\": [],\n        \"semantic_type\": \"\",\n        \"description\": \"\"\n      }\n    },\n    {\n      \"column\": \"WSPM\",\n      \"properties\": {\n        \"dtype\": \"number\",\n        \"std\": null,\n        \"min\": 1.1,\n        \"max\": 1.1,\n        \"num_unique_values\": 1,\n        \"samples\": [],\n        \"semantic_type\": \"\",\n        \"description\": \"\"\n      }\n    },\n    {\n      \"column\": \"station\",\n      \"properties\": {\n        \"dtype\": \"string\",\n        \"num_unique_values\": 1,\n        \"samples\": [],\n        \"semantic_type\": \"\",\n        \"description\": \"\"\n      }\n    }\n  ]\n}"
            }
          },
          "metadata": {},
          "execution_count": 18
        }
      ]
    },
    {
      "cell_type": "markdown",
      "source": [
        "#####**NO2**"
      ],
      "metadata": {
        "id": "Aamm1xpE4SVg"
      }
    },
    {
      "cell_type": "code",
      "source": [
        "min_no2 = df[\"NO2\"].min()\n",
        "print(\"Minimum NO2 value:\", min_no2)"
      ],
      "metadata": {
        "colab": {
          "base_uri": "https://localhost:8080/"
        },
        "id": "CdKWSv3c5y3F",
        "outputId": "33d50e98-c38f-47e1-b898-32831d561b99"
      },
      "execution_count": 19,
      "outputs": [
        {
          "output_type": "stream",
          "name": "stdout",
          "text": [
            "Minimum NO2 value: 2.0\n"
          ]
        }
      ]
    },
    {
      "cell_type": "code",
      "source": [
        "max_no2 = df['NO2'].max()\n",
        "print(\"Maximum NO2 value:\", max_no2)"
      ],
      "metadata": {
        "colab": {
          "base_uri": "https://localhost:8080/"
        },
        "id": "0d0apOQLRGZK",
        "outputId": "4a04e34d-e46d-42f3-ffcc-66ff87308e9e"
      },
      "execution_count": 28,
      "outputs": [
        {
          "output_type": "stream",
          "name": "stdout",
          "text": [
            "Maximum NO2 value: 258.0\n"
          ]
        }
      ]
    },
    {
      "cell_type": "markdown",
      "source": [
        "Table below shows in which rows the NO2 reached the maximum."
      ],
      "metadata": {
        "id": "d3z5IRPE0Cl8"
      }
    },
    {
      "cell_type": "code",
      "source": [
        "df[df.NO2 == df.NO2.max()]"
      ],
      "metadata": {
        "colab": {
          "base_uri": "https://localhost:8080/",
          "height": 101
        },
        "id": "6wng19i_RMFU",
        "outputId": "95b3f184-11f7-489b-df24-a939524a579f"
      },
      "execution_count": 29,
      "outputs": [
        {
          "output_type": "execute_result",
          "data": {
            "text/plain": [
              "          No  year  month  day  hour  PM2.5   PM10   SO2    NO2      CO   O3  \\\n",
              "33713  33714  2017      1    3    17  449.0  563.0  36.0  258.0  7900.0  5.0   \n",
              "\n",
              "       TEMP    PRES  DEWP  RAIN  wd  WSPM station  \n",
              "33713   4.6  1017.8  -3.9   0.0  SE   1.6  Shunyi  "
            ],
            "text/html": [
              "\n",
              "  <div id=\"df-e821850e-abc3-470a-acc3-245f6ea93bf1\" class=\"colab-df-container\">\n",
              "    <div>\n",
              "<style scoped>\n",
              "    .dataframe tbody tr th:only-of-type {\n",
              "        vertical-align: middle;\n",
              "    }\n",
              "\n",
              "    .dataframe tbody tr th {\n",
              "        vertical-align: top;\n",
              "    }\n",
              "\n",
              "    .dataframe thead th {\n",
              "        text-align: right;\n",
              "    }\n",
              "</style>\n",
              "<table border=\"1\" class=\"dataframe\">\n",
              "  <thead>\n",
              "    <tr style=\"text-align: right;\">\n",
              "      <th></th>\n",
              "      <th>No</th>\n",
              "      <th>year</th>\n",
              "      <th>month</th>\n",
              "      <th>day</th>\n",
              "      <th>hour</th>\n",
              "      <th>PM2.5</th>\n",
              "      <th>PM10</th>\n",
              "      <th>SO2</th>\n",
              "      <th>NO2</th>\n",
              "      <th>CO</th>\n",
              "      <th>O3</th>\n",
              "      <th>TEMP</th>\n",
              "      <th>PRES</th>\n",
              "      <th>DEWP</th>\n",
              "      <th>RAIN</th>\n",
              "      <th>wd</th>\n",
              "      <th>WSPM</th>\n",
              "      <th>station</th>\n",
              "    </tr>\n",
              "  </thead>\n",
              "  <tbody>\n",
              "    <tr>\n",
              "      <th>33713</th>\n",
              "      <td>33714</td>\n",
              "      <td>2017</td>\n",
              "      <td>1</td>\n",
              "      <td>3</td>\n",
              "      <td>17</td>\n",
              "      <td>449.0</td>\n",
              "      <td>563.0</td>\n",
              "      <td>36.0</td>\n",
              "      <td>258.0</td>\n",
              "      <td>7900.0</td>\n",
              "      <td>5.0</td>\n",
              "      <td>4.6</td>\n",
              "      <td>1017.8</td>\n",
              "      <td>-3.9</td>\n",
              "      <td>0.0</td>\n",
              "      <td>SE</td>\n",
              "      <td>1.6</td>\n",
              "      <td>Shunyi</td>\n",
              "    </tr>\n",
              "  </tbody>\n",
              "</table>\n",
              "</div>\n",
              "    <div class=\"colab-df-buttons\">\n",
              "\n",
              "  <div class=\"colab-df-container\">\n",
              "    <button class=\"colab-df-convert\" onclick=\"convertToInteractive('df-e821850e-abc3-470a-acc3-245f6ea93bf1')\"\n",
              "            title=\"Convert this dataframe to an interactive table.\"\n",
              "            style=\"display:none;\">\n",
              "\n",
              "  <svg xmlns=\"http://www.w3.org/2000/svg\" height=\"24px\" viewBox=\"0 -960 960 960\">\n",
              "    <path d=\"M120-120v-720h720v720H120Zm60-500h600v-160H180v160Zm220 220h160v-160H400v160Zm0 220h160v-160H400v160ZM180-400h160v-160H180v160Zm440 0h160v-160H620v160ZM180-180h160v-160H180v160Zm440 0h160v-160H620v160Z\"/>\n",
              "  </svg>\n",
              "    </button>\n",
              "\n",
              "  <style>\n",
              "    .colab-df-container {\n",
              "      display:flex;\n",
              "      gap: 12px;\n",
              "    }\n",
              "\n",
              "    .colab-df-convert {\n",
              "      background-color: #E8F0FE;\n",
              "      border: none;\n",
              "      border-radius: 50%;\n",
              "      cursor: pointer;\n",
              "      display: none;\n",
              "      fill: #1967D2;\n",
              "      height: 32px;\n",
              "      padding: 0 0 0 0;\n",
              "      width: 32px;\n",
              "    }\n",
              "\n",
              "    .colab-df-convert:hover {\n",
              "      background-color: #E2EBFA;\n",
              "      box-shadow: 0px 1px 2px rgba(60, 64, 67, 0.3), 0px 1px 3px 1px rgba(60, 64, 67, 0.15);\n",
              "      fill: #174EA6;\n",
              "    }\n",
              "\n",
              "    .colab-df-buttons div {\n",
              "      margin-bottom: 4px;\n",
              "    }\n",
              "\n",
              "    [theme=dark] .colab-df-convert {\n",
              "      background-color: #3B4455;\n",
              "      fill: #D2E3FC;\n",
              "    }\n",
              "\n",
              "    [theme=dark] .colab-df-convert:hover {\n",
              "      background-color: #434B5C;\n",
              "      box-shadow: 0px 1px 3px 1px rgba(0, 0, 0, 0.15);\n",
              "      filter: drop-shadow(0px 1px 2px rgba(0, 0, 0, 0.3));\n",
              "      fill: #FFFFFF;\n",
              "    }\n",
              "  </style>\n",
              "\n",
              "    <script>\n",
              "      const buttonEl =\n",
              "        document.querySelector('#df-e821850e-abc3-470a-acc3-245f6ea93bf1 button.colab-df-convert');\n",
              "      buttonEl.style.display =\n",
              "        google.colab.kernel.accessAllowed ? 'block' : 'none';\n",
              "\n",
              "      async function convertToInteractive(key) {\n",
              "        const element = document.querySelector('#df-e821850e-abc3-470a-acc3-245f6ea93bf1');\n",
              "        const dataTable =\n",
              "          await google.colab.kernel.invokeFunction('convertToInteractive',\n",
              "                                                    [key], {});\n",
              "        if (!dataTable) return;\n",
              "\n",
              "        const docLinkHtml = 'Like what you see? Visit the ' +\n",
              "          '<a target=\"_blank\" href=https://colab.research.google.com/notebooks/data_table.ipynb>data table notebook</a>'\n",
              "          + ' to learn more about interactive tables.';\n",
              "        element.innerHTML = '';\n",
              "        dataTable['output_type'] = 'display_data';\n",
              "        await google.colab.output.renderOutput(dataTable, element);\n",
              "        const docLink = document.createElement('div');\n",
              "        docLink.innerHTML = docLinkHtml;\n",
              "        element.appendChild(docLink);\n",
              "      }\n",
              "    </script>\n",
              "  </div>\n",
              "\n",
              "    </div>\n",
              "  </div>\n"
            ],
            "application/vnd.google.colaboratory.intrinsic+json": {
              "type": "dataframe",
              "summary": "{\n  \"name\": \"df[df\",\n  \"rows\": 1,\n  \"fields\": [\n    {\n      \"column\": \"No\",\n      \"properties\": {\n        \"dtype\": \"number\",\n        \"std\": null,\n        \"min\": 33714,\n        \"max\": 33714,\n        \"num_unique_values\": 1,\n        \"samples\": [\n          33714\n        ],\n        \"semantic_type\": \"\",\n        \"description\": \"\"\n      }\n    },\n    {\n      \"column\": \"year\",\n      \"properties\": {\n        \"dtype\": \"number\",\n        \"std\": null,\n        \"min\": 2017,\n        \"max\": 2017,\n        \"num_unique_values\": 1,\n        \"samples\": [\n          2017\n        ],\n        \"semantic_type\": \"\",\n        \"description\": \"\"\n      }\n    },\n    {\n      \"column\": \"month\",\n      \"properties\": {\n        \"dtype\": \"number\",\n        \"std\": null,\n        \"min\": 1,\n        \"max\": 1,\n        \"num_unique_values\": 1,\n        \"samples\": [\n          1\n        ],\n        \"semantic_type\": \"\",\n        \"description\": \"\"\n      }\n    },\n    {\n      \"column\": \"day\",\n      \"properties\": {\n        \"dtype\": \"number\",\n        \"std\": null,\n        \"min\": 3,\n        \"max\": 3,\n        \"num_unique_values\": 1,\n        \"samples\": [\n          3\n        ],\n        \"semantic_type\": \"\",\n        \"description\": \"\"\n      }\n    },\n    {\n      \"column\": \"hour\",\n      \"properties\": {\n        \"dtype\": \"number\",\n        \"std\": null,\n        \"min\": 17,\n        \"max\": 17,\n        \"num_unique_values\": 1,\n        \"samples\": [\n          17\n        ],\n        \"semantic_type\": \"\",\n        \"description\": \"\"\n      }\n    },\n    {\n      \"column\": \"PM2.5\",\n      \"properties\": {\n        \"dtype\": \"number\",\n        \"std\": null,\n        \"min\": 449.0,\n        \"max\": 449.0,\n        \"num_unique_values\": 1,\n        \"samples\": [\n          449.0\n        ],\n        \"semantic_type\": \"\",\n        \"description\": \"\"\n      }\n    },\n    {\n      \"column\": \"PM10\",\n      \"properties\": {\n        \"dtype\": \"number\",\n        \"std\": null,\n        \"min\": 563.0,\n        \"max\": 563.0,\n        \"num_unique_values\": 1,\n        \"samples\": [\n          563.0\n        ],\n        \"semantic_type\": \"\",\n        \"description\": \"\"\n      }\n    },\n    {\n      \"column\": \"SO2\",\n      \"properties\": {\n        \"dtype\": \"number\",\n        \"std\": null,\n        \"min\": 36.0,\n        \"max\": 36.0,\n        \"num_unique_values\": 1,\n        \"samples\": [\n          36.0\n        ],\n        \"semantic_type\": \"\",\n        \"description\": \"\"\n      }\n    },\n    {\n      \"column\": \"NO2\",\n      \"properties\": {\n        \"dtype\": \"number\",\n        \"std\": null,\n        \"min\": 258.0,\n        \"max\": 258.0,\n        \"num_unique_values\": 1,\n        \"samples\": [\n          258.0\n        ],\n        \"semantic_type\": \"\",\n        \"description\": \"\"\n      }\n    },\n    {\n      \"column\": \"CO\",\n      \"properties\": {\n        \"dtype\": \"number\",\n        \"std\": null,\n        \"min\": 7900.0,\n        \"max\": 7900.0,\n        \"num_unique_values\": 1,\n        \"samples\": [\n          7900.0\n        ],\n        \"semantic_type\": \"\",\n        \"description\": \"\"\n      }\n    },\n    {\n      \"column\": \"O3\",\n      \"properties\": {\n        \"dtype\": \"number\",\n        \"std\": null,\n        \"min\": 5.0,\n        \"max\": 5.0,\n        \"num_unique_values\": 1,\n        \"samples\": [\n          5.0\n        ],\n        \"semantic_type\": \"\",\n        \"description\": \"\"\n      }\n    },\n    {\n      \"column\": \"TEMP\",\n      \"properties\": {\n        \"dtype\": \"number\",\n        \"std\": null,\n        \"min\": 4.6,\n        \"max\": 4.6,\n        \"num_unique_values\": 1,\n        \"samples\": [\n          4.6\n        ],\n        \"semantic_type\": \"\",\n        \"description\": \"\"\n      }\n    },\n    {\n      \"column\": \"PRES\",\n      \"properties\": {\n        \"dtype\": \"number\",\n        \"std\": null,\n        \"min\": 1017.8,\n        \"max\": 1017.8,\n        \"num_unique_values\": 1,\n        \"samples\": [\n          1017.8\n        ],\n        \"semantic_type\": \"\",\n        \"description\": \"\"\n      }\n    },\n    {\n      \"column\": \"DEWP\",\n      \"properties\": {\n        \"dtype\": \"number\",\n        \"std\": null,\n        \"min\": -3.9,\n        \"max\": -3.9,\n        \"num_unique_values\": 1,\n        \"samples\": [\n          -3.9\n        ],\n        \"semantic_type\": \"\",\n        \"description\": \"\"\n      }\n    },\n    {\n      \"column\": \"RAIN\",\n      \"properties\": {\n        \"dtype\": \"number\",\n        \"std\": null,\n        \"min\": 0.0,\n        \"max\": 0.0,\n        \"num_unique_values\": 1,\n        \"samples\": [\n          0.0\n        ],\n        \"semantic_type\": \"\",\n        \"description\": \"\"\n      }\n    },\n    {\n      \"column\": \"wd\",\n      \"properties\": {\n        \"dtype\": \"string\",\n        \"num_unique_values\": 1,\n        \"samples\": [\n          \"SE\"\n        ],\n        \"semantic_type\": \"\",\n        \"description\": \"\"\n      }\n    },\n    {\n      \"column\": \"WSPM\",\n      \"properties\": {\n        \"dtype\": \"number\",\n        \"std\": null,\n        \"min\": 1.6,\n        \"max\": 1.6,\n        \"num_unique_values\": 1,\n        \"samples\": [\n          1.6\n        ],\n        \"semantic_type\": \"\",\n        \"description\": \"\"\n      }\n    },\n    {\n      \"column\": \"station\",\n      \"properties\": {\n        \"dtype\": \"string\",\n        \"num_unique_values\": 1,\n        \"samples\": [\n          \"Shunyi\"\n        ],\n        \"semantic_type\": \"\",\n        \"description\": \"\"\n      }\n    }\n  ]\n}"
            }
          },
          "metadata": {},
          "execution_count": 29
        }
      ]
    },
    {
      "cell_type": "markdown",
      "source": [
        "#####**CO**"
      ],
      "metadata": {
        "id": "bDRrx6bF4T2Z"
      }
    },
    {
      "cell_type": "code",
      "source": [
        "min_co = df[\"CO\"].min()\n",
        "print(\"Minimum CO value:\", min_co)"
      ],
      "metadata": {
        "colab": {
          "base_uri": "https://localhost:8080/"
        },
        "id": "aWt8c6zQ52Ht",
        "outputId": "3ecdeff8-4297-4a43-fb59-f69c126e3f5a"
      },
      "execution_count": 30,
      "outputs": [
        {
          "output_type": "stream",
          "name": "stdout",
          "text": [
            "Minimum CO value: 100.0\n"
          ]
        }
      ]
    },
    {
      "cell_type": "code",
      "source": [
        "max_co = df[\"CO\"].max()\n",
        "print(\"Maximum CO value:\", max_co)"
      ],
      "metadata": {
        "colab": {
          "base_uri": "https://localhost:8080/"
        },
        "id": "-XGEodcI6How",
        "outputId": "00ddb922-f83a-46aa-aae0-f1c0e6e4608d"
      },
      "execution_count": 31,
      "outputs": [
        {
          "output_type": "stream",
          "name": "stdout",
          "text": [
            "Maximum CO value: 10000.0\n"
          ]
        }
      ]
    },
    {
      "cell_type": "markdown",
      "source": [
        "Table below shows in which rows the CO reached the maximum."
      ],
      "metadata": {
        "id": "RfPY5pt80FuP"
      }
    },
    {
      "cell_type": "code",
      "source": [
        "df[df.CO == df.CO.max()]"
      ],
      "metadata": {
        "colab": {
          "base_uri": "https://localhost:8080/",
          "height": 289
        },
        "id": "mFRi4_ahSVa5",
        "outputId": "90ef9955-d010-4bb3-d1c3-99a9d57d2fd0"
      },
      "execution_count": 32,
      "outputs": [
        {
          "output_type": "execute_result",
          "data": {
            "text/plain": [
              "          No  year  month  day  hour  PM2.5   PM10   SO2    NO2       CO  \\\n",
              "19821  19822  2015      6    4    21   87.0   87.0   3.0   51.0  10000.0   \n",
              "19822  19823  2015      6    4    22   90.0   90.0   3.0   50.0  10000.0   \n",
              "19823  19824  2015      6    4    23   93.0   93.0   2.0   46.0  10000.0   \n",
              "19824  19825  2015      6    5     0   97.0   97.0   2.0   34.0  10000.0   \n",
              "19828  19829  2015      6    5     4  105.0  105.0   2.0   56.0  10000.0   \n",
              "19830  19831  2015      6    5     6   80.0   80.0   2.0   41.0  10000.0   \n",
              "24139  24140  2015     12    1    19  631.0  631.0  24.0  135.0  10000.0   \n",
              "\n",
              "         O3  TEMP    PRES  DEWP  RAIN   wd  WSPM station  \n",
              "19821  32.0  18.2   997.4  16.7   1.6  ENE   0.4  Shunyi  \n",
              "19822  18.0  17.7   997.5  16.6   0.1    E   0.3  Shunyi  \n",
              "19823   8.0  17.5   997.2  16.5   0.0    N   1.3  Shunyi  \n",
              "19824  11.0  17.4   996.6  16.4   0.2   NE   0.8  Shunyi  \n",
              "19828   2.0  16.0   995.5  15.5   0.1    N   0.7  Shunyi  \n",
              "19830   2.0  15.9   995.6  15.4   0.0   NE   2.0  Shunyi  \n",
              "24139   7.0  -0.1  1015.9  -1.1   0.0  WNW   1.5  Shunyi  "
            ],
            "text/html": [
              "\n",
              "  <div id=\"df-466ce57a-1f5c-4f8c-a424-5d91b26b6fc3\" class=\"colab-df-container\">\n",
              "    <div>\n",
              "<style scoped>\n",
              "    .dataframe tbody tr th:only-of-type {\n",
              "        vertical-align: middle;\n",
              "    }\n",
              "\n",
              "    .dataframe tbody tr th {\n",
              "        vertical-align: top;\n",
              "    }\n",
              "\n",
              "    .dataframe thead th {\n",
              "        text-align: right;\n",
              "    }\n",
              "</style>\n",
              "<table border=\"1\" class=\"dataframe\">\n",
              "  <thead>\n",
              "    <tr style=\"text-align: right;\">\n",
              "      <th></th>\n",
              "      <th>No</th>\n",
              "      <th>year</th>\n",
              "      <th>month</th>\n",
              "      <th>day</th>\n",
              "      <th>hour</th>\n",
              "      <th>PM2.5</th>\n",
              "      <th>PM10</th>\n",
              "      <th>SO2</th>\n",
              "      <th>NO2</th>\n",
              "      <th>CO</th>\n",
              "      <th>O3</th>\n",
              "      <th>TEMP</th>\n",
              "      <th>PRES</th>\n",
              "      <th>DEWP</th>\n",
              "      <th>RAIN</th>\n",
              "      <th>wd</th>\n",
              "      <th>WSPM</th>\n",
              "      <th>station</th>\n",
              "    </tr>\n",
              "  </thead>\n",
              "  <tbody>\n",
              "    <tr>\n",
              "      <th>19821</th>\n",
              "      <td>19822</td>\n",
              "      <td>2015</td>\n",
              "      <td>6</td>\n",
              "      <td>4</td>\n",
              "      <td>21</td>\n",
              "      <td>87.0</td>\n",
              "      <td>87.0</td>\n",
              "      <td>3.0</td>\n",
              "      <td>51.0</td>\n",
              "      <td>10000.0</td>\n",
              "      <td>32.0</td>\n",
              "      <td>18.2</td>\n",
              "      <td>997.4</td>\n",
              "      <td>16.7</td>\n",
              "      <td>1.6</td>\n",
              "      <td>ENE</td>\n",
              "      <td>0.4</td>\n",
              "      <td>Shunyi</td>\n",
              "    </tr>\n",
              "    <tr>\n",
              "      <th>19822</th>\n",
              "      <td>19823</td>\n",
              "      <td>2015</td>\n",
              "      <td>6</td>\n",
              "      <td>4</td>\n",
              "      <td>22</td>\n",
              "      <td>90.0</td>\n",
              "      <td>90.0</td>\n",
              "      <td>3.0</td>\n",
              "      <td>50.0</td>\n",
              "      <td>10000.0</td>\n",
              "      <td>18.0</td>\n",
              "      <td>17.7</td>\n",
              "      <td>997.5</td>\n",
              "      <td>16.6</td>\n",
              "      <td>0.1</td>\n",
              "      <td>E</td>\n",
              "      <td>0.3</td>\n",
              "      <td>Shunyi</td>\n",
              "    </tr>\n",
              "    <tr>\n",
              "      <th>19823</th>\n",
              "      <td>19824</td>\n",
              "      <td>2015</td>\n",
              "      <td>6</td>\n",
              "      <td>4</td>\n",
              "      <td>23</td>\n",
              "      <td>93.0</td>\n",
              "      <td>93.0</td>\n",
              "      <td>2.0</td>\n",
              "      <td>46.0</td>\n",
              "      <td>10000.0</td>\n",
              "      <td>8.0</td>\n",
              "      <td>17.5</td>\n",
              "      <td>997.2</td>\n",
              "      <td>16.5</td>\n",
              "      <td>0.0</td>\n",
              "      <td>N</td>\n",
              "      <td>1.3</td>\n",
              "      <td>Shunyi</td>\n",
              "    </tr>\n",
              "    <tr>\n",
              "      <th>19824</th>\n",
              "      <td>19825</td>\n",
              "      <td>2015</td>\n",
              "      <td>6</td>\n",
              "      <td>5</td>\n",
              "      <td>0</td>\n",
              "      <td>97.0</td>\n",
              "      <td>97.0</td>\n",
              "      <td>2.0</td>\n",
              "      <td>34.0</td>\n",
              "      <td>10000.0</td>\n",
              "      <td>11.0</td>\n",
              "      <td>17.4</td>\n",
              "      <td>996.6</td>\n",
              "      <td>16.4</td>\n",
              "      <td>0.2</td>\n",
              "      <td>NE</td>\n",
              "      <td>0.8</td>\n",
              "      <td>Shunyi</td>\n",
              "    </tr>\n",
              "    <tr>\n",
              "      <th>19828</th>\n",
              "      <td>19829</td>\n",
              "      <td>2015</td>\n",
              "      <td>6</td>\n",
              "      <td>5</td>\n",
              "      <td>4</td>\n",
              "      <td>105.0</td>\n",
              "      <td>105.0</td>\n",
              "      <td>2.0</td>\n",
              "      <td>56.0</td>\n",
              "      <td>10000.0</td>\n",
              "      <td>2.0</td>\n",
              "      <td>16.0</td>\n",
              "      <td>995.5</td>\n",
              "      <td>15.5</td>\n",
              "      <td>0.1</td>\n",
              "      <td>N</td>\n",
              "      <td>0.7</td>\n",
              "      <td>Shunyi</td>\n",
              "    </tr>\n",
              "    <tr>\n",
              "      <th>19830</th>\n",
              "      <td>19831</td>\n",
              "      <td>2015</td>\n",
              "      <td>6</td>\n",
              "      <td>5</td>\n",
              "      <td>6</td>\n",
              "      <td>80.0</td>\n",
              "      <td>80.0</td>\n",
              "      <td>2.0</td>\n",
              "      <td>41.0</td>\n",
              "      <td>10000.0</td>\n",
              "      <td>2.0</td>\n",
              "      <td>15.9</td>\n",
              "      <td>995.6</td>\n",
              "      <td>15.4</td>\n",
              "      <td>0.0</td>\n",
              "      <td>NE</td>\n",
              "      <td>2.0</td>\n",
              "      <td>Shunyi</td>\n",
              "    </tr>\n",
              "    <tr>\n",
              "      <th>24139</th>\n",
              "      <td>24140</td>\n",
              "      <td>2015</td>\n",
              "      <td>12</td>\n",
              "      <td>1</td>\n",
              "      <td>19</td>\n",
              "      <td>631.0</td>\n",
              "      <td>631.0</td>\n",
              "      <td>24.0</td>\n",
              "      <td>135.0</td>\n",
              "      <td>10000.0</td>\n",
              "      <td>7.0</td>\n",
              "      <td>-0.1</td>\n",
              "      <td>1015.9</td>\n",
              "      <td>-1.1</td>\n",
              "      <td>0.0</td>\n",
              "      <td>WNW</td>\n",
              "      <td>1.5</td>\n",
              "      <td>Shunyi</td>\n",
              "    </tr>\n",
              "  </tbody>\n",
              "</table>\n",
              "</div>\n",
              "    <div class=\"colab-df-buttons\">\n",
              "\n",
              "  <div class=\"colab-df-container\">\n",
              "    <button class=\"colab-df-convert\" onclick=\"convertToInteractive('df-466ce57a-1f5c-4f8c-a424-5d91b26b6fc3')\"\n",
              "            title=\"Convert this dataframe to an interactive table.\"\n",
              "            style=\"display:none;\">\n",
              "\n",
              "  <svg xmlns=\"http://www.w3.org/2000/svg\" height=\"24px\" viewBox=\"0 -960 960 960\">\n",
              "    <path d=\"M120-120v-720h720v720H120Zm60-500h600v-160H180v160Zm220 220h160v-160H400v160Zm0 220h160v-160H400v160ZM180-400h160v-160H180v160Zm440 0h160v-160H620v160ZM180-180h160v-160H180v160Zm440 0h160v-160H620v160Z\"/>\n",
              "  </svg>\n",
              "    </button>\n",
              "\n",
              "  <style>\n",
              "    .colab-df-container {\n",
              "      display:flex;\n",
              "      gap: 12px;\n",
              "    }\n",
              "\n",
              "    .colab-df-convert {\n",
              "      background-color: #E8F0FE;\n",
              "      border: none;\n",
              "      border-radius: 50%;\n",
              "      cursor: pointer;\n",
              "      display: none;\n",
              "      fill: #1967D2;\n",
              "      height: 32px;\n",
              "      padding: 0 0 0 0;\n",
              "      width: 32px;\n",
              "    }\n",
              "\n",
              "    .colab-df-convert:hover {\n",
              "      background-color: #E2EBFA;\n",
              "      box-shadow: 0px 1px 2px rgba(60, 64, 67, 0.3), 0px 1px 3px 1px rgba(60, 64, 67, 0.15);\n",
              "      fill: #174EA6;\n",
              "    }\n",
              "\n",
              "    .colab-df-buttons div {\n",
              "      margin-bottom: 4px;\n",
              "    }\n",
              "\n",
              "    [theme=dark] .colab-df-convert {\n",
              "      background-color: #3B4455;\n",
              "      fill: #D2E3FC;\n",
              "    }\n",
              "\n",
              "    [theme=dark] .colab-df-convert:hover {\n",
              "      background-color: #434B5C;\n",
              "      box-shadow: 0px 1px 3px 1px rgba(0, 0, 0, 0.15);\n",
              "      filter: drop-shadow(0px 1px 2px rgba(0, 0, 0, 0.3));\n",
              "      fill: #FFFFFF;\n",
              "    }\n",
              "  </style>\n",
              "\n",
              "    <script>\n",
              "      const buttonEl =\n",
              "        document.querySelector('#df-466ce57a-1f5c-4f8c-a424-5d91b26b6fc3 button.colab-df-convert');\n",
              "      buttonEl.style.display =\n",
              "        google.colab.kernel.accessAllowed ? 'block' : 'none';\n",
              "\n",
              "      async function convertToInteractive(key) {\n",
              "        const element = document.querySelector('#df-466ce57a-1f5c-4f8c-a424-5d91b26b6fc3');\n",
              "        const dataTable =\n",
              "          await google.colab.kernel.invokeFunction('convertToInteractive',\n",
              "                                                    [key], {});\n",
              "        if (!dataTable) return;\n",
              "\n",
              "        const docLinkHtml = 'Like what you see? Visit the ' +\n",
              "          '<a target=\"_blank\" href=https://colab.research.google.com/notebooks/data_table.ipynb>data table notebook</a>'\n",
              "          + ' to learn more about interactive tables.';\n",
              "        element.innerHTML = '';\n",
              "        dataTable['output_type'] = 'display_data';\n",
              "        await google.colab.output.renderOutput(dataTable, element);\n",
              "        const docLink = document.createElement('div');\n",
              "        docLink.innerHTML = docLinkHtml;\n",
              "        element.appendChild(docLink);\n",
              "      }\n",
              "    </script>\n",
              "  </div>\n",
              "\n",
              "\n",
              "<div id=\"df-5585d920-1840-4636-8e4c-3b25790c356e\">\n",
              "  <button class=\"colab-df-quickchart\" onclick=\"quickchart('df-5585d920-1840-4636-8e4c-3b25790c356e')\"\n",
              "            title=\"Suggest charts\"\n",
              "            style=\"display:none;\">\n",
              "\n",
              "<svg xmlns=\"http://www.w3.org/2000/svg\" height=\"24px\"viewBox=\"0 0 24 24\"\n",
              "     width=\"24px\">\n",
              "    <g>\n",
              "        <path d=\"M19 3H5c-1.1 0-2 .9-2 2v14c0 1.1.9 2 2 2h14c1.1 0 2-.9 2-2V5c0-1.1-.9-2-2-2zM9 17H7v-7h2v7zm4 0h-2V7h2v10zm4 0h-2v-4h2v4z\"/>\n",
              "    </g>\n",
              "</svg>\n",
              "  </button>\n",
              "\n",
              "<style>\n",
              "  .colab-df-quickchart {\n",
              "      --bg-color: #E8F0FE;\n",
              "      --fill-color: #1967D2;\n",
              "      --hover-bg-color: #E2EBFA;\n",
              "      --hover-fill-color: #174EA6;\n",
              "      --disabled-fill-color: #AAA;\n",
              "      --disabled-bg-color: #DDD;\n",
              "  }\n",
              "\n",
              "  [theme=dark] .colab-df-quickchart {\n",
              "      --bg-color: #3B4455;\n",
              "      --fill-color: #D2E3FC;\n",
              "      --hover-bg-color: #434B5C;\n",
              "      --hover-fill-color: #FFFFFF;\n",
              "      --disabled-bg-color: #3B4455;\n",
              "      --disabled-fill-color: #666;\n",
              "  }\n",
              "\n",
              "  .colab-df-quickchart {\n",
              "    background-color: var(--bg-color);\n",
              "    border: none;\n",
              "    border-radius: 50%;\n",
              "    cursor: pointer;\n",
              "    display: none;\n",
              "    fill: var(--fill-color);\n",
              "    height: 32px;\n",
              "    padding: 0;\n",
              "    width: 32px;\n",
              "  }\n",
              "\n",
              "  .colab-df-quickchart:hover {\n",
              "    background-color: var(--hover-bg-color);\n",
              "    box-shadow: 0 1px 2px rgba(60, 64, 67, 0.3), 0 1px 3px 1px rgba(60, 64, 67, 0.15);\n",
              "    fill: var(--button-hover-fill-color);\n",
              "  }\n",
              "\n",
              "  .colab-df-quickchart-complete:disabled,\n",
              "  .colab-df-quickchart-complete:disabled:hover {\n",
              "    background-color: var(--disabled-bg-color);\n",
              "    fill: var(--disabled-fill-color);\n",
              "    box-shadow: none;\n",
              "  }\n",
              "\n",
              "  .colab-df-spinner {\n",
              "    border: 2px solid var(--fill-color);\n",
              "    border-color: transparent;\n",
              "    border-bottom-color: var(--fill-color);\n",
              "    animation:\n",
              "      spin 1s steps(1) infinite;\n",
              "  }\n",
              "\n",
              "  @keyframes spin {\n",
              "    0% {\n",
              "      border-color: transparent;\n",
              "      border-bottom-color: var(--fill-color);\n",
              "      border-left-color: var(--fill-color);\n",
              "    }\n",
              "    20% {\n",
              "      border-color: transparent;\n",
              "      border-left-color: var(--fill-color);\n",
              "      border-top-color: var(--fill-color);\n",
              "    }\n",
              "    30% {\n",
              "      border-color: transparent;\n",
              "      border-left-color: var(--fill-color);\n",
              "      border-top-color: var(--fill-color);\n",
              "      border-right-color: var(--fill-color);\n",
              "    }\n",
              "    40% {\n",
              "      border-color: transparent;\n",
              "      border-right-color: var(--fill-color);\n",
              "      border-top-color: var(--fill-color);\n",
              "    }\n",
              "    60% {\n",
              "      border-color: transparent;\n",
              "      border-right-color: var(--fill-color);\n",
              "    }\n",
              "    80% {\n",
              "      border-color: transparent;\n",
              "      border-right-color: var(--fill-color);\n",
              "      border-bottom-color: var(--fill-color);\n",
              "    }\n",
              "    90% {\n",
              "      border-color: transparent;\n",
              "      border-bottom-color: var(--fill-color);\n",
              "    }\n",
              "  }\n",
              "</style>\n",
              "\n",
              "  <script>\n",
              "    async function quickchart(key) {\n",
              "      const quickchartButtonEl =\n",
              "        document.querySelector('#' + key + ' button');\n",
              "      quickchartButtonEl.disabled = true;  // To prevent multiple clicks.\n",
              "      quickchartButtonEl.classList.add('colab-df-spinner');\n",
              "      try {\n",
              "        const charts = await google.colab.kernel.invokeFunction(\n",
              "            'suggestCharts', [key], {});\n",
              "      } catch (error) {\n",
              "        console.error('Error during call to suggestCharts:', error);\n",
              "      }\n",
              "      quickchartButtonEl.classList.remove('colab-df-spinner');\n",
              "      quickchartButtonEl.classList.add('colab-df-quickchart-complete');\n",
              "    }\n",
              "    (() => {\n",
              "      let quickchartButtonEl =\n",
              "        document.querySelector('#df-5585d920-1840-4636-8e4c-3b25790c356e button');\n",
              "      quickchartButtonEl.style.display =\n",
              "        google.colab.kernel.accessAllowed ? 'block' : 'none';\n",
              "    })();\n",
              "  </script>\n",
              "</div>\n",
              "    </div>\n",
              "  </div>\n"
            ],
            "application/vnd.google.colaboratory.intrinsic+json": {
              "type": "dataframe",
              "summary": "{\n  \"name\": \"df[df\",\n  \"rows\": 7,\n  \"fields\": [\n    {\n      \"column\": \"No\",\n      \"properties\": {\n        \"dtype\": \"number\",\n        \"std\": 1630,\n        \"min\": 19822,\n        \"max\": 24140,\n        \"num_unique_values\": 7,\n        \"samples\": [\n          19822,\n          19823,\n          19831\n        ],\n        \"semantic_type\": \"\",\n        \"description\": \"\"\n      }\n    },\n    {\n      \"column\": \"year\",\n      \"properties\": {\n        \"dtype\": \"number\",\n        \"std\": 0,\n        \"min\": 2015,\n        \"max\": 2015,\n        \"num_unique_values\": 1,\n        \"samples\": [\n          2015\n        ],\n        \"semantic_type\": \"\",\n        \"description\": \"\"\n      }\n    },\n    {\n      \"column\": \"month\",\n      \"properties\": {\n        \"dtype\": \"number\",\n        \"std\": 2,\n        \"min\": 6,\n        \"max\": 12,\n        \"num_unique_values\": 2,\n        \"samples\": [\n          12\n        ],\n        \"semantic_type\": \"\",\n        \"description\": \"\"\n      }\n    },\n    {\n      \"column\": \"day\",\n      \"properties\": {\n        \"dtype\": \"number\",\n        \"std\": 1,\n        \"min\": 1,\n        \"max\": 5,\n        \"num_unique_values\": 3,\n        \"samples\": [\n          4\n        ],\n        \"semantic_type\": \"\",\n        \"description\": \"\"\n      }\n    },\n    {\n      \"column\": \"hour\",\n      \"properties\": {\n        \"dtype\": \"number\",\n        \"std\": 9,\n        \"min\": 0,\n        \"max\": 23,\n        \"num_unique_values\": 7,\n        \"samples\": [\n          21\n        ],\n        \"semantic_type\": \"\",\n        \"description\": \"\"\n      }\n    },\n    {\n      \"column\": \"PM2.5\",\n      \"properties\": {\n        \"dtype\": \"number\",\n        \"std\": 203.87332668432458,\n        \"min\": 80.0,\n        \"max\": 631.0,\n        \"num_unique_values\": 7,\n        \"samples\": [\n          87.0\n        ],\n        \"semantic_type\": \"\",\n        \"description\": \"\"\n      }\n    },\n    {\n      \"column\": \"PM10\",\n      \"properties\": {\n        \"dtype\": \"number\",\n        \"std\": 203.87332668432458,\n        \"min\": 80.0,\n        \"max\": 631.0,\n        \"num_unique_values\": 7,\n        \"samples\": [\n          87.0\n        ],\n        \"semantic_type\": \"\",\n        \"description\": \"\"\n      }\n    },\n    {\n      \"column\": \"SO2\",\n      \"properties\": {\n        \"dtype\": \"number\",\n        \"std\": 8.202786982831766,\n        \"min\": 2.0,\n        \"max\": 24.0,\n        \"num_unique_values\": 3,\n        \"samples\": [\n          3.0\n        ],\n        \"semantic_type\": \"\",\n        \"description\": \"\"\n      }\n    },\n    {\n      \"column\": \"NO2\",\n      \"properties\": {\n        \"dtype\": \"number\",\n        \"std\": 34.27341049073854,\n        \"min\": 34.0,\n        \"max\": 135.0,\n        \"num_unique_values\": 7,\n        \"samples\": [\n          51.0\n        ],\n        \"semantic_type\": \"\",\n        \"description\": \"\"\n      }\n    },\n    {\n      \"column\": \"CO\",\n      \"properties\": {\n        \"dtype\": \"number\",\n        \"std\": 0.0,\n        \"min\": 10000.0,\n        \"max\": 10000.0,\n        \"num_unique_values\": 1,\n        \"samples\": [\n          10000.0\n        ],\n        \"semantic_type\": \"\",\n        \"description\": \"\"\n      }\n    },\n    {\n      \"column\": \"O3\",\n      \"properties\": {\n        \"dtype\": \"number\",\n        \"std\": 10.612212192518937,\n        \"min\": 2.0,\n        \"max\": 32.0,\n        \"num_unique_values\": 6,\n        \"samples\": [\n          32.0\n        ],\n        \"semantic_type\": \"\",\n        \"description\": \"\"\n      }\n    },\n    {\n      \"column\": \"TEMP\",\n      \"properties\": {\n        \"dtype\": \"number\",\n        \"std\": 6.564261101565339,\n        \"min\": -0.1,\n        \"max\": 18.2,\n        \"num_unique_values\": 7,\n        \"samples\": [\n          18.2\n        ],\n        \"semantic_type\": \"\",\n        \"description\": \"\"\n      }\n    },\n    {\n      \"column\": \"PRES\",\n      \"properties\": {\n        \"dtype\": \"number\",\n        \"std\": 7.327898418925787,\n        \"min\": 995.5,\n        \"max\": 1015.9,\n        \"num_unique_values\": 7,\n        \"samples\": [\n          997.4\n        ],\n        \"semantic_type\": \"\",\n        \"description\": \"\"\n      }\n    },\n    {\n      \"column\": \"DEWP\",\n      \"properties\": {\n        \"dtype\": \"number\",\n        \"std\": 6.55373394115359,\n        \"min\": -1.1,\n        \"max\": 16.7,\n        \"num_unique_values\": 7,\n        \"samples\": [\n          16.7\n        ],\n        \"semantic_type\": \"\",\n        \"description\": \"\"\n      }\n    },\n    {\n      \"column\": \"RAIN\",\n      \"properties\": {\n        \"dtype\": \"number\",\n        \"std\": 0.5843188953205019,\n        \"min\": 0.0,\n        \"max\": 1.6,\n        \"num_unique_values\": 4,\n        \"samples\": [\n          0.1\n        ],\n        \"semantic_type\": \"\",\n        \"description\": \"\"\n      }\n    },\n    {\n      \"column\": \"wd\",\n      \"properties\": {\n        \"dtype\": \"string\",\n        \"num_unique_values\": 5,\n        \"samples\": [\n          \"E\"\n        ],\n        \"semantic_type\": \"\",\n        \"description\": \"\"\n      }\n    },\n    {\n      \"column\": \"WSPM\",\n      \"properties\": {\n        \"dtype\": \"number\",\n        \"std\": 0.621825270205921,\n        \"min\": 0.3,\n        \"max\": 2.0,\n        \"num_unique_values\": 7,\n        \"samples\": [\n          0.4\n        ],\n        \"semantic_type\": \"\",\n        \"description\": \"\"\n      }\n    },\n    {\n      \"column\": \"station\",\n      \"properties\": {\n        \"dtype\": \"category\",\n        \"num_unique_values\": 1,\n        \"samples\": [\n          \"Shunyi\"\n        ],\n        \"semantic_type\": \"\",\n        \"description\": \"\"\n      }\n    }\n  ]\n}"
            }
          },
          "metadata": {},
          "execution_count": 32
        }
      ]
    },
    {
      "cell_type": "markdown",
      "source": [
        "It can be concluded that carbon monoxide (CO) appears multiple times in the dataset with the highest values observed in certain row.  Further analysis and investigation may be needed to identify the specific factors contributing to these elevated CO levels and to develop appropriate measures for mitigating CO pollution in the area."
      ],
      "metadata": {
        "id": "zEMBei4q0JEc"
      }
    },
    {
      "cell_type": "markdown",
      "source": [
        "#####**O3**"
      ],
      "metadata": {
        "id": "PgWL9yBC4W32"
      }
    },
    {
      "cell_type": "code",
      "source": [
        "min_o3 = df[\"O3\"].min()\n",
        "print(\"Minimum O3 value:\", min_o3)"
      ],
      "metadata": {
        "colab": {
          "base_uri": "https://localhost:8080/"
        },
        "id": "uIg6WSfT57tx",
        "outputId": "883f90c6-15e2-4cc4-fe5c-70385230681c"
      },
      "execution_count": 25,
      "outputs": [
        {
          "output_type": "stream",
          "name": "stdout",
          "text": [
            "Minimum O3 value: 0.2142\n"
          ]
        }
      ]
    },
    {
      "cell_type": "code",
      "source": [
        "max_o3 = df[\"O3\"].max()\n",
        "print(\"Maximum O3 value:\", max_o3)"
      ],
      "metadata": {
        "colab": {
          "base_uri": "https://localhost:8080/"
        },
        "id": "GljSNFz1SfDS",
        "outputId": "fadf908f-c5d4-4a20-e413-b59536d195cb"
      },
      "execution_count": 26,
      "outputs": [
        {
          "output_type": "stream",
          "name": "stdout",
          "text": [
            "Maximum O3 value: 351.7164\n"
          ]
        }
      ]
    },
    {
      "cell_type": "markdown",
      "source": [
        "Table below shows in which rows the O3 reached the maximum."
      ],
      "metadata": {
        "id": "plxxb3yZ0uo-"
      }
    },
    {
      "cell_type": "code",
      "source": [
        "df[df.O3 == df.O3.max()]"
      ],
      "metadata": {
        "colab": {
          "base_uri": "https://localhost:8080/",
          "height": 101
        },
        "id": "DsHX7c1M6SL_",
        "outputId": "b54096f5-890f-45c6-841d-2ea55d2ce40b"
      },
      "execution_count": 27,
      "outputs": [
        {
          "output_type": "execute_result",
          "data": {
            "text/plain": [
              "        No  year  month  day  hour  PM2.5   PM10  SO2      NO2  CO        O3  \\\n",
              "3639  3640  2013      7   30    15  166.0  139.0  NaN  28.9473 NaN  351.7164   \n",
              "\n",
              "      TEMP   PRES  DEWP  RAIN   wd  WSPM station  \n",
              "3639  33.9  992.2  22.7   0.0  SSE   1.9  Shunyi  "
            ],
            "text/html": [
              "\n",
              "  <div id=\"df-54b0781e-3120-4790-9044-f7da4102c584\" class=\"colab-df-container\">\n",
              "    <div>\n",
              "<style scoped>\n",
              "    .dataframe tbody tr th:only-of-type {\n",
              "        vertical-align: middle;\n",
              "    }\n",
              "\n",
              "    .dataframe tbody tr th {\n",
              "        vertical-align: top;\n",
              "    }\n",
              "\n",
              "    .dataframe thead th {\n",
              "        text-align: right;\n",
              "    }\n",
              "</style>\n",
              "<table border=\"1\" class=\"dataframe\">\n",
              "  <thead>\n",
              "    <tr style=\"text-align: right;\">\n",
              "      <th></th>\n",
              "      <th>No</th>\n",
              "      <th>year</th>\n",
              "      <th>month</th>\n",
              "      <th>day</th>\n",
              "      <th>hour</th>\n",
              "      <th>PM2.5</th>\n",
              "      <th>PM10</th>\n",
              "      <th>SO2</th>\n",
              "      <th>NO2</th>\n",
              "      <th>CO</th>\n",
              "      <th>O3</th>\n",
              "      <th>TEMP</th>\n",
              "      <th>PRES</th>\n",
              "      <th>DEWP</th>\n",
              "      <th>RAIN</th>\n",
              "      <th>wd</th>\n",
              "      <th>WSPM</th>\n",
              "      <th>station</th>\n",
              "    </tr>\n",
              "  </thead>\n",
              "  <tbody>\n",
              "    <tr>\n",
              "      <th>3639</th>\n",
              "      <td>3640</td>\n",
              "      <td>2013</td>\n",
              "      <td>7</td>\n",
              "      <td>30</td>\n",
              "      <td>15</td>\n",
              "      <td>166.0</td>\n",
              "      <td>139.0</td>\n",
              "      <td>NaN</td>\n",
              "      <td>28.9473</td>\n",
              "      <td>NaN</td>\n",
              "      <td>351.7164</td>\n",
              "      <td>33.9</td>\n",
              "      <td>992.2</td>\n",
              "      <td>22.7</td>\n",
              "      <td>0.0</td>\n",
              "      <td>SSE</td>\n",
              "      <td>1.9</td>\n",
              "      <td>Shunyi</td>\n",
              "    </tr>\n",
              "  </tbody>\n",
              "</table>\n",
              "</div>\n",
              "    <div class=\"colab-df-buttons\">\n",
              "\n",
              "  <div class=\"colab-df-container\">\n",
              "    <button class=\"colab-df-convert\" onclick=\"convertToInteractive('df-54b0781e-3120-4790-9044-f7da4102c584')\"\n",
              "            title=\"Convert this dataframe to an interactive table.\"\n",
              "            style=\"display:none;\">\n",
              "\n",
              "  <svg xmlns=\"http://www.w3.org/2000/svg\" height=\"24px\" viewBox=\"0 -960 960 960\">\n",
              "    <path d=\"M120-120v-720h720v720H120Zm60-500h600v-160H180v160Zm220 220h160v-160H400v160Zm0 220h160v-160H400v160ZM180-400h160v-160H180v160Zm440 0h160v-160H620v160ZM180-180h160v-160H180v160Zm440 0h160v-160H620v160Z\"/>\n",
              "  </svg>\n",
              "    </button>\n",
              "\n",
              "  <style>\n",
              "    .colab-df-container {\n",
              "      display:flex;\n",
              "      gap: 12px;\n",
              "    }\n",
              "\n",
              "    .colab-df-convert {\n",
              "      background-color: #E8F0FE;\n",
              "      border: none;\n",
              "      border-radius: 50%;\n",
              "      cursor: pointer;\n",
              "      display: none;\n",
              "      fill: #1967D2;\n",
              "      height: 32px;\n",
              "      padding: 0 0 0 0;\n",
              "      width: 32px;\n",
              "    }\n",
              "\n",
              "    .colab-df-convert:hover {\n",
              "      background-color: #E2EBFA;\n",
              "      box-shadow: 0px 1px 2px rgba(60, 64, 67, 0.3), 0px 1px 3px 1px rgba(60, 64, 67, 0.15);\n",
              "      fill: #174EA6;\n",
              "    }\n",
              "\n",
              "    .colab-df-buttons div {\n",
              "      margin-bottom: 4px;\n",
              "    }\n",
              "\n",
              "    [theme=dark] .colab-df-convert {\n",
              "      background-color: #3B4455;\n",
              "      fill: #D2E3FC;\n",
              "    }\n",
              "\n",
              "    [theme=dark] .colab-df-convert:hover {\n",
              "      background-color: #434B5C;\n",
              "      box-shadow: 0px 1px 3px 1px rgba(0, 0, 0, 0.15);\n",
              "      filter: drop-shadow(0px 1px 2px rgba(0, 0, 0, 0.3));\n",
              "      fill: #FFFFFF;\n",
              "    }\n",
              "  </style>\n",
              "\n",
              "    <script>\n",
              "      const buttonEl =\n",
              "        document.querySelector('#df-54b0781e-3120-4790-9044-f7da4102c584 button.colab-df-convert');\n",
              "      buttonEl.style.display =\n",
              "        google.colab.kernel.accessAllowed ? 'block' : 'none';\n",
              "\n",
              "      async function convertToInteractive(key) {\n",
              "        const element = document.querySelector('#df-54b0781e-3120-4790-9044-f7da4102c584');\n",
              "        const dataTable =\n",
              "          await google.colab.kernel.invokeFunction('convertToInteractive',\n",
              "                                                    [key], {});\n",
              "        if (!dataTable) return;\n",
              "\n",
              "        const docLinkHtml = 'Like what you see? Visit the ' +\n",
              "          '<a target=\"_blank\" href=https://colab.research.google.com/notebooks/data_table.ipynb>data table notebook</a>'\n",
              "          + ' to learn more about interactive tables.';\n",
              "        element.innerHTML = '';\n",
              "        dataTable['output_type'] = 'display_data';\n",
              "        await google.colab.output.renderOutput(dataTable, element);\n",
              "        const docLink = document.createElement('div');\n",
              "        docLink.innerHTML = docLinkHtml;\n",
              "        element.appendChild(docLink);\n",
              "      }\n",
              "    </script>\n",
              "  </div>\n",
              "\n",
              "    </div>\n",
              "  </div>\n"
            ],
            "application/vnd.google.colaboratory.intrinsic+json": {
              "type": "dataframe",
              "summary": "{\n  \"name\": \"df[df\",\n  \"rows\": 1,\n  \"fields\": [\n    {\n      \"column\": \"No\",\n      \"properties\": {\n        \"dtype\": \"number\",\n        \"std\": null,\n        \"min\": 3640,\n        \"max\": 3640,\n        \"num_unique_values\": 1,\n        \"samples\": [\n          3640\n        ],\n        \"semantic_type\": \"\",\n        \"description\": \"\"\n      }\n    },\n    {\n      \"column\": \"year\",\n      \"properties\": {\n        \"dtype\": \"number\",\n        \"std\": null,\n        \"min\": 2013,\n        \"max\": 2013,\n        \"num_unique_values\": 1,\n        \"samples\": [\n          2013\n        ],\n        \"semantic_type\": \"\",\n        \"description\": \"\"\n      }\n    },\n    {\n      \"column\": \"month\",\n      \"properties\": {\n        \"dtype\": \"number\",\n        \"std\": null,\n        \"min\": 7,\n        \"max\": 7,\n        \"num_unique_values\": 1,\n        \"samples\": [\n          7\n        ],\n        \"semantic_type\": \"\",\n        \"description\": \"\"\n      }\n    },\n    {\n      \"column\": \"day\",\n      \"properties\": {\n        \"dtype\": \"number\",\n        \"std\": null,\n        \"min\": 30,\n        \"max\": 30,\n        \"num_unique_values\": 1,\n        \"samples\": [\n          30\n        ],\n        \"semantic_type\": \"\",\n        \"description\": \"\"\n      }\n    },\n    {\n      \"column\": \"hour\",\n      \"properties\": {\n        \"dtype\": \"number\",\n        \"std\": null,\n        \"min\": 15,\n        \"max\": 15,\n        \"num_unique_values\": 1,\n        \"samples\": [\n          15\n        ],\n        \"semantic_type\": \"\",\n        \"description\": \"\"\n      }\n    },\n    {\n      \"column\": \"PM2.5\",\n      \"properties\": {\n        \"dtype\": \"number\",\n        \"std\": null,\n        \"min\": 166.0,\n        \"max\": 166.0,\n        \"num_unique_values\": 1,\n        \"samples\": [\n          166.0\n        ],\n        \"semantic_type\": \"\",\n        \"description\": \"\"\n      }\n    },\n    {\n      \"column\": \"PM10\",\n      \"properties\": {\n        \"dtype\": \"number\",\n        \"std\": null,\n        \"min\": 139.0,\n        \"max\": 139.0,\n        \"num_unique_values\": 1,\n        \"samples\": [\n          139.0\n        ],\n        \"semantic_type\": \"\",\n        \"description\": \"\"\n      }\n    },\n    {\n      \"column\": \"SO2\",\n      \"properties\": {\n        \"dtype\": \"number\",\n        \"std\": null,\n        \"min\": null,\n        \"max\": null,\n        \"num_unique_values\": 0,\n        \"samples\": [],\n        \"semantic_type\": \"\",\n        \"description\": \"\"\n      }\n    },\n    {\n      \"column\": \"NO2\",\n      \"properties\": {\n        \"dtype\": \"number\",\n        \"std\": null,\n        \"min\": 28.9473,\n        \"max\": 28.9473,\n        \"num_unique_values\": 1,\n        \"samples\": [],\n        \"semantic_type\": \"\",\n        \"description\": \"\"\n      }\n    },\n    {\n      \"column\": \"CO\",\n      \"properties\": {\n        \"dtype\": \"number\",\n        \"std\": null,\n        \"min\": null,\n        \"max\": null,\n        \"num_unique_values\": 0,\n        \"samples\": [],\n        \"semantic_type\": \"\",\n        \"description\": \"\"\n      }\n    },\n    {\n      \"column\": \"O3\",\n      \"properties\": {\n        \"dtype\": \"number\",\n        \"std\": null,\n        \"min\": 351.7164,\n        \"max\": 351.7164,\n        \"num_unique_values\": 1,\n        \"samples\": [],\n        \"semantic_type\": \"\",\n        \"description\": \"\"\n      }\n    },\n    {\n      \"column\": \"TEMP\",\n      \"properties\": {\n        \"dtype\": \"number\",\n        \"std\": null,\n        \"min\": 33.9,\n        \"max\": 33.9,\n        \"num_unique_values\": 1,\n        \"samples\": [],\n        \"semantic_type\": \"\",\n        \"description\": \"\"\n      }\n    },\n    {\n      \"column\": \"PRES\",\n      \"properties\": {\n        \"dtype\": \"number\",\n        \"std\": null,\n        \"min\": 992.2,\n        \"max\": 992.2,\n        \"num_unique_values\": 1,\n        \"samples\": [],\n        \"semantic_type\": \"\",\n        \"description\": \"\"\n      }\n    },\n    {\n      \"column\": \"DEWP\",\n      \"properties\": {\n        \"dtype\": \"number\",\n        \"std\": null,\n        \"min\": 22.7,\n        \"max\": 22.7,\n        \"num_unique_values\": 1,\n        \"samples\": [],\n        \"semantic_type\": \"\",\n        \"description\": \"\"\n      }\n    },\n    {\n      \"column\": \"RAIN\",\n      \"properties\": {\n        \"dtype\": \"number\",\n        \"std\": null,\n        \"min\": 0.0,\n        \"max\": 0.0,\n        \"num_unique_values\": 1,\n        \"samples\": [],\n        \"semantic_type\": \"\",\n        \"description\": \"\"\n      }\n    },\n    {\n      \"column\": \"wd\",\n      \"properties\": {\n        \"dtype\": \"string\",\n        \"num_unique_values\": 1,\n        \"samples\": [],\n        \"semantic_type\": \"\",\n        \"description\": \"\"\n      }\n    },\n    {\n      \"column\": \"WSPM\",\n      \"properties\": {\n        \"dtype\": \"number\",\n        \"std\": null,\n        \"min\": 1.9,\n        \"max\": 1.9,\n        \"num_unique_values\": 1,\n        \"samples\": [],\n        \"semantic_type\": \"\",\n        \"description\": \"\"\n      }\n    },\n    {\n      \"column\": \"station\",\n      \"properties\": {\n        \"dtype\": \"string\",\n        \"num_unique_values\": 1,\n        \"samples\": [],\n        \"semantic_type\": \"\",\n        \"description\": \"\"\n      }\n    }\n  ]\n}"
            }
          },
          "metadata": {},
          "execution_count": 27
        }
      ]
    },
    {
      "cell_type": "markdown",
      "source": [
        "Now, let's calculates the mean values for the pollutant concentrations columnns, then fills any missing values in those columns with the calculated mean values, effectively imputing missing data using the column-wise means."
      ],
      "metadata": {
        "id": "QnMid9E20_L-"
      }
    },
    {
      "cell_type": "code",
      "source": [
        "mean_values = df[['PM2.5', 'PM10', 'SO2', 'NO2', 'CO', 'O3']].mean()"
      ],
      "metadata": {
        "id": "bFCGyq_Q65Y3"
      },
      "execution_count": 33,
      "outputs": []
    },
    {
      "cell_type": "code",
      "source": [
        "df.fillna(mean_values, inplace=True)"
      ],
      "metadata": {
        "id": "DlPRs_Dm69_1"
      },
      "execution_count": 34,
      "outputs": []
    },
    {
      "cell_type": "markdown",
      "source": [
        "### **Cleaning 'TEMP', 'PRES', 'DEWP', 'RAIN', 'WSPM' attributes**"
      ],
      "metadata": {
        "id": "ni9oSbRb7nxF"
      }
    },
    {
      "cell_type": "markdown",
      "source": [
        "Since the total number of missing values of each attributes are relatively small, then we can drop the rows with missing values"
      ],
      "metadata": {
        "id": "gMcDa_4m8a3s"
      }
    },
    {
      "cell_type": "code",
      "source": [
        "df= df.dropna(subset=['TEMP', 'PRES', 'DEWP', 'RAIN', 'WSPM'])"
      ],
      "metadata": {
        "id": "w4RxCD2W8zFQ"
      },
      "execution_count": 35,
      "outputs": []
    },
    {
      "cell_type": "code",
      "source": [
        "print(\"Total of duplicates: \", df.duplicated().sum())"
      ],
      "metadata": {
        "colab": {
          "base_uri": "https://localhost:8080/"
        },
        "id": "NUXo4Qwd9hmt",
        "outputId": "bdce5821-4e2b-46b4-f888-f2d75d414597"
      },
      "execution_count": 36,
      "outputs": [
        {
          "output_type": "stream",
          "name": "stdout",
          "text": [
            "Total of duplicates:  0\n"
          ]
        }
      ]
    },
    {
      "cell_type": "code",
      "source": [
        "df.info()"
      ],
      "metadata": {
        "colab": {
          "base_uri": "https://localhost:8080/"
        },
        "id": "s4AkRIF39lzx",
        "outputId": "e918cf52-415f-4389-dcf6-effd7000731e"
      },
      "execution_count": 37,
      "outputs": [
        {
          "output_type": "stream",
          "name": "stdout",
          "text": [
            "<class 'pandas.core.frame.DataFrame'>\n",
            "Int64Index: 35010 entries, 0 to 35063\n",
            "Data columns (total 18 columns):\n",
            " #   Column   Non-Null Count  Dtype  \n",
            "---  ------   --------------  -----  \n",
            " 0   No       35010 non-null  int64  \n",
            " 1   year     35010 non-null  int64  \n",
            " 2   month    35010 non-null  int64  \n",
            " 3   day      35010 non-null  int64  \n",
            " 4   hour     35010 non-null  int64  \n",
            " 5   PM2.5    35010 non-null  float64\n",
            " 6   PM10     35010 non-null  float64\n",
            " 7   SO2      35010 non-null  float64\n",
            " 8   NO2      35010 non-null  float64\n",
            " 9   CO       35010 non-null  float64\n",
            " 10  O3       35010 non-null  float64\n",
            " 11  TEMP     35010 non-null  float64\n",
            " 12  PRES     35010 non-null  float64\n",
            " 13  DEWP     35010 non-null  float64\n",
            " 14  RAIN     35010 non-null  float64\n",
            " 15  wd       34572 non-null  object \n",
            " 16  WSPM     35010 non-null  float64\n",
            " 17  station  35010 non-null  object \n",
            "dtypes: float64(11), int64(5), object(2)\n",
            "memory usage: 5.1+ MB\n"
          ]
        }
      ]
    },
    {
      "cell_type": "code",
      "source": [
        "print(df.isnull().sum())"
      ],
      "metadata": {
        "colab": {
          "base_uri": "https://localhost:8080/"
        },
        "id": "RxubHwc79ucY",
        "outputId": "d62b79fe-f692-4574-84c6-70a7d7f929a1"
      },
      "execution_count": 38,
      "outputs": [
        {
          "output_type": "stream",
          "name": "stdout",
          "text": [
            "No           0\n",
            "year         0\n",
            "month        0\n",
            "day          0\n",
            "hour         0\n",
            "PM2.5        0\n",
            "PM10         0\n",
            "SO2          0\n",
            "NO2          0\n",
            "CO           0\n",
            "O3           0\n",
            "TEMP         0\n",
            "PRES         0\n",
            "DEWP         0\n",
            "RAIN         0\n",
            "wd         438\n",
            "WSPM         0\n",
            "station      0\n",
            "dtype: int64\n"
          ]
        }
      ]
    },
    {
      "cell_type": "markdown",
      "source": [
        "### **Cleaning 'wd' attributes**"
      ],
      "metadata": {
        "id": "_SQUe6zp-DHd"
      }
    },
    {
      "cell_type": "markdown",
      "source": [
        "Let's count first each values in the 'wd' attributes."
      ],
      "metadata": {
        "id": "QH7bi0hjBLqC"
      }
    },
    {
      "cell_type": "code",
      "source": [
        "df.wd.value_counts()"
      ],
      "metadata": {
        "colab": {
          "base_uri": "https://localhost:8080/"
        },
        "id": "fC3rO9XQ-Zgb",
        "outputId": "69406c2d-1774-4384-acd9-6622f418384e"
      },
      "execution_count": 39,
      "outputs": [
        {
          "output_type": "execute_result",
          "data": {
            "text/plain": [
              "NNE    4540\n",
              "N      3877\n",
              "NE     3349\n",
              "SSE    2963\n",
              "SE     2665\n",
              "S      2612\n",
              "NW     2444\n",
              "WNW    2050\n",
              "NNW    1656\n",
              "SSW    1586\n",
              "ENE    1416\n",
              "ESE    1376\n",
              "W      1177\n",
              "E      1153\n",
              "SW      971\n",
              "WSW     737\n",
              "Name: wd, dtype: int64"
            ]
          },
          "metadata": {},
          "execution_count": 39
        }
      ]
    },
    {
      "cell_type": "markdown",
      "source": [
        "Note:\n",
        "\n",
        "1.  NNE: North-North-East (4540 occurrences)\n",
        "2.  N: North (3877 occurrences)\n",
        "3.  NE: North-East (3349 occurrences)\n",
        "4.  SSE: South-South-East (2963 occurrences)\n",
        "5.  SE: South-East (2665 occurrences)\n",
        "6.  S: South (2612 occurrences)\n",
        "7.  NW: North-West (2444 occurrences)\n",
        "8.  WNW: West-North-West (2050 occurrences)\n",
        "9.  NNW: North-North-West (1656 occurrences)\n",
        "10. SSW: South-South-West (1586 occurrences)\n",
        "11. ENE: East-North-East (1416 occurrences)\n",
        "12. ESE: East-South-East (1376 occurrences)\n",
        "13. W: West (1177 occurrences)\n",
        "14. E: East (1153 occurrences)\n",
        "15. SW: South-West (971 occurrences)\n",
        "16. WSW: West-South-West (737 occurrences)"
      ],
      "metadata": {
        "id": "ZJVsfYyr1Ycl"
      }
    },
    {
      "cell_type": "markdown",
      "source": [
        "If we add all the amounts, the number of rows that already contain a valid value is 33952 row. However, we have 35010 rows. So, let's handle the missing value!"
      ],
      "metadata": {
        "id": "CJRJlqYiBuHx"
      }
    },
    {
      "cell_type": "code",
      "source": [
        "null_wd_count = df['wd'].isnull().sum()\n",
        "print(\"Number of null values in the 'wd' variable:\", null_wd_count)"
      ],
      "metadata": {
        "colab": {
          "base_uri": "https://localhost:8080/"
        },
        "id": "VzW977u8_QNq",
        "outputId": "7b8d7567-f411-4072-9c94-9cec525a0b66"
      },
      "execution_count": 40,
      "outputs": [
        {
          "output_type": "stream",
          "name": "stdout",
          "text": [
            "Number of null values in the 'wd' variable: 438\n"
          ]
        }
      ]
    },
    {
      "cell_type": "code",
      "source": [
        "df['wd'].fillna('NaN', inplace=True)"
      ],
      "metadata": {
        "id": "TEB-gXn9BHiL"
      },
      "execution_count": 41,
      "outputs": []
    },
    {
      "cell_type": "markdown",
      "source": [
        "Seems we already filled all the NaN in the 'wd' attributes. Now, let's check each attributes that still contain the missing values"
      ],
      "metadata": {
        "id": "kyRTMDxpC3hF"
      }
    },
    {
      "cell_type": "code",
      "source": [
        "print(df.isnull().sum())"
      ],
      "metadata": {
        "colab": {
          "base_uri": "https://localhost:8080/"
        },
        "id": "4gJRwXMVCu3f",
        "outputId": "468e6dbb-3ce5-470a-f884-ffdbd4d787a8"
      },
      "execution_count": 42,
      "outputs": [
        {
          "output_type": "stream",
          "name": "stdout",
          "text": [
            "No         0\n",
            "year       0\n",
            "month      0\n",
            "day        0\n",
            "hour       0\n",
            "PM2.5      0\n",
            "PM10       0\n",
            "SO2        0\n",
            "NO2        0\n",
            "CO         0\n",
            "O3         0\n",
            "TEMP       0\n",
            "PRES       0\n",
            "DEWP       0\n",
            "RAIN       0\n",
            "wd         0\n",
            "WSPM       0\n",
            "station    0\n",
            "dtype: int64\n"
          ]
        }
      ]
    },
    {
      "cell_type": "markdown",
      "source": [
        "Great! There is no more missing value in our dataset. Let's check with info()"
      ],
      "metadata": {
        "id": "1jJPuVPZDHMq"
      }
    },
    {
      "cell_type": "code",
      "source": [
        "df.info()"
      ],
      "metadata": {
        "colab": {
          "base_uri": "https://localhost:8080/"
        },
        "id": "LnaK5QylDOJ5",
        "outputId": "bbfce8e3-aacd-4056-f3d2-62b567d5b679"
      },
      "execution_count": 43,
      "outputs": [
        {
          "output_type": "stream",
          "name": "stdout",
          "text": [
            "<class 'pandas.core.frame.DataFrame'>\n",
            "Int64Index: 35010 entries, 0 to 35063\n",
            "Data columns (total 18 columns):\n",
            " #   Column   Non-Null Count  Dtype  \n",
            "---  ------   --------------  -----  \n",
            " 0   No       35010 non-null  int64  \n",
            " 1   year     35010 non-null  int64  \n",
            " 2   month    35010 non-null  int64  \n",
            " 3   day      35010 non-null  int64  \n",
            " 4   hour     35010 non-null  int64  \n",
            " 5   PM2.5    35010 non-null  float64\n",
            " 6   PM10     35010 non-null  float64\n",
            " 7   SO2      35010 non-null  float64\n",
            " 8   NO2      35010 non-null  float64\n",
            " 9   CO       35010 non-null  float64\n",
            " 10  O3       35010 non-null  float64\n",
            " 11  TEMP     35010 non-null  float64\n",
            " 12  PRES     35010 non-null  float64\n",
            " 13  DEWP     35010 non-null  float64\n",
            " 14  RAIN     35010 non-null  float64\n",
            " 15  wd       35010 non-null  object \n",
            " 16  WSPM     35010 non-null  float64\n",
            " 17  station  35010 non-null  object \n",
            "dtypes: float64(11), int64(5), object(2)\n",
            "memory usage: 5.1+ MB\n"
          ]
        }
      ]
    },
    {
      "cell_type": "markdown",
      "source": [
        "Let's check how many unique values in each rows:"
      ],
      "metadata": {
        "id": "MHWiYDorDeZP"
      }
    },
    {
      "cell_type": "code",
      "source": [
        "df.nunique()"
      ],
      "metadata": {
        "colab": {
          "base_uri": "https://localhost:8080/"
        },
        "id": "Nl30j2LpDUNs",
        "outputId": "4e2d2405-c2d3-40a5-c627-a37868c3f6a0"
      },
      "execution_count": 44,
      "outputs": [
        {
          "output_type": "execute_result",
          "data": {
            "text/plain": [
              "No         35010\n",
              "year           5\n",
              "month         12\n",
              "day           31\n",
              "hour          24\n",
              "PM2.5        568\n",
              "PM10         606\n",
              "SO2          268\n",
              "NO2          518\n",
              "CO           116\n",
              "O3           962\n",
              "TEMP         985\n",
              "PRES         602\n",
              "DEWP         608\n",
              "RAIN         120\n",
              "wd            17\n",
              "WSPM         103\n",
              "station        1\n",
              "dtype: int64"
            ]
          },
          "metadata": {},
          "execution_count": 44
        }
      ]
    },
    {
      "cell_type": "markdown",
      "source": [
        "Everything is clean now! Let's go to the next step!"
      ],
      "metadata": {
        "id": "IxdagnJ4EEbc"
      }
    },
    {
      "cell_type": "markdown",
      "metadata": {
        "id": "gp-Y6wU38DC1"
      },
      "source": [
        "## Exploratory Data Analysis (EDA)"
      ]
    },
    {
      "cell_type": "markdown",
      "metadata": {
        "id": "MW7WF2kr8DC1"
      },
      "source": [
        "### Explore ..."
      ]
    },
    {
      "cell_type": "code",
      "execution_count": 45,
      "metadata": {
        "id": "e9CQCZjk8DC2",
        "colab": {
          "base_uri": "https://localhost:8080/",
          "height": 414
        },
        "outputId": "5c48ab0e-cbd6-445b-8e09-64c1093108f4"
      },
      "outputs": [
        {
          "output_type": "execute_result",
          "data": {
            "text/plain": [
              "                  No          year         month           day          hour  \\\n",
              "count   35010.000000  35010.000000  35010.000000  35010.000000  35010.000000   \n",
              "unique           NaN           NaN           NaN           NaN           NaN   \n",
              "top              NaN           NaN           NaN           NaN           NaN   \n",
              "freq             NaN           NaN           NaN           NaN           NaN   \n",
              "mean    17526.187861   2014.661411      6.528278     15.724907     11.500114   \n",
              "std     10123.155987      1.177138      3.447051      8.799894      6.923325   \n",
              "min         1.000000   2013.000000      1.000000      1.000000      0.000000   \n",
              "25%      8756.250000   2014.000000      4.000000      8.000000      5.250000   \n",
              "50%     17540.500000   2015.000000      7.000000     16.000000     11.000000   \n",
              "75%     26293.750000   2016.000000     10.000000     23.000000     18.000000   \n",
              "max     35064.000000   2017.000000     12.000000     31.000000     23.000000   \n",
              "\n",
              "               PM2.5          PM10           SO2           NO2            CO  \\\n",
              "count   35010.000000  35010.000000  35010.000000  35010.000000  35010.000000   \n",
              "unique           NaN           NaN           NaN           NaN           NaN   \n",
              "top              NaN           NaN           NaN           NaN           NaN   \n",
              "freq             NaN           NaN           NaN           NaN           NaN   \n",
              "mean       79.490475     98.757936     13.576606     43.914211   1187.144452   \n",
              "std        80.181199     88.470557     19.213969     30.396193   1120.144926   \n",
              "min         2.000000      2.000000      0.285600      2.000000    100.000000   \n",
              "25%        20.000000     32.000000      2.000000     20.000000    500.000000   \n",
              "50%        57.000000     79.000000      5.140800     39.000000    900.000000   \n",
              "75%       109.000000    137.000000     16.000000     61.000000   1500.000000   \n",
              "max       941.000000    999.000000    239.000000    258.000000  10000.000000   \n",
              "\n",
              "                  O3          TEMP          PRES          DEWP          RAIN  \\\n",
              "count   35010.000000  35010.000000  35010.000000  35010.000000  35010.000000   \n",
              "unique           NaN           NaN           NaN           NaN           NaN   \n",
              "top              NaN           NaN           NaN           NaN           NaN   \n",
              "freq             NaN           NaN           NaN           NaN           NaN   \n",
              "mean       55.221957     13.387265   1013.062975      2.465036      0.061100   \n",
              "std        53.723193     11.483828     10.177159     13.726622      0.761701   \n",
              "min         0.214200    -16.800000    988.000000    -36.000000      0.000000   \n",
              "25%        11.000000      3.000000   1004.700000     -8.800000      0.000000   \n",
              "50%        47.000000     14.400000   1012.700000      3.100000      0.000000   \n",
              "75%        76.000000     23.200000   1021.000000     15.100000      0.000000   \n",
              "max       351.716400     40.600000   1042.800000     27.500000     37.300000   \n",
              "\n",
              "           wd          WSPM station  \n",
              "count   35010  35010.000000   35010  \n",
              "unique     17           NaN       1  \n",
              "top       NNE           NaN  Shunyi  \n",
              "freq     4540           NaN   35010  \n",
              "mean      NaN      1.807644     NaN  \n",
              "std       NaN      1.287808     NaN  \n",
              "min       NaN      0.000000     NaN  \n",
              "25%       NaN      1.000000     NaN  \n",
              "50%       NaN      1.500000     NaN  \n",
              "75%       NaN      2.300000     NaN  \n",
              "max       NaN     12.800000     NaN  "
            ],
            "text/html": [
              "\n",
              "  <div id=\"df-b4b05d44-1dcd-4c13-8eee-02ec2d8241c9\" class=\"colab-df-container\">\n",
              "    <div>\n",
              "<style scoped>\n",
              "    .dataframe tbody tr th:only-of-type {\n",
              "        vertical-align: middle;\n",
              "    }\n",
              "\n",
              "    .dataframe tbody tr th {\n",
              "        vertical-align: top;\n",
              "    }\n",
              "\n",
              "    .dataframe thead th {\n",
              "        text-align: right;\n",
              "    }\n",
              "</style>\n",
              "<table border=\"1\" class=\"dataframe\">\n",
              "  <thead>\n",
              "    <tr style=\"text-align: right;\">\n",
              "      <th></th>\n",
              "      <th>No</th>\n",
              "      <th>year</th>\n",
              "      <th>month</th>\n",
              "      <th>day</th>\n",
              "      <th>hour</th>\n",
              "      <th>PM2.5</th>\n",
              "      <th>PM10</th>\n",
              "      <th>SO2</th>\n",
              "      <th>NO2</th>\n",
              "      <th>CO</th>\n",
              "      <th>O3</th>\n",
              "      <th>TEMP</th>\n",
              "      <th>PRES</th>\n",
              "      <th>DEWP</th>\n",
              "      <th>RAIN</th>\n",
              "      <th>wd</th>\n",
              "      <th>WSPM</th>\n",
              "      <th>station</th>\n",
              "    </tr>\n",
              "  </thead>\n",
              "  <tbody>\n",
              "    <tr>\n",
              "      <th>count</th>\n",
              "      <td>35010.000000</td>\n",
              "      <td>35010.000000</td>\n",
              "      <td>35010.000000</td>\n",
              "      <td>35010.000000</td>\n",
              "      <td>35010.000000</td>\n",
              "      <td>35010.000000</td>\n",
              "      <td>35010.000000</td>\n",
              "      <td>35010.000000</td>\n",
              "      <td>35010.000000</td>\n",
              "      <td>35010.000000</td>\n",
              "      <td>35010.000000</td>\n",
              "      <td>35010.000000</td>\n",
              "      <td>35010.000000</td>\n",
              "      <td>35010.000000</td>\n",
              "      <td>35010.000000</td>\n",
              "      <td>35010</td>\n",
              "      <td>35010.000000</td>\n",
              "      <td>35010</td>\n",
              "    </tr>\n",
              "    <tr>\n",
              "      <th>unique</th>\n",
              "      <td>NaN</td>\n",
              "      <td>NaN</td>\n",
              "      <td>NaN</td>\n",
              "      <td>NaN</td>\n",
              "      <td>NaN</td>\n",
              "      <td>NaN</td>\n",
              "      <td>NaN</td>\n",
              "      <td>NaN</td>\n",
              "      <td>NaN</td>\n",
              "      <td>NaN</td>\n",
              "      <td>NaN</td>\n",
              "      <td>NaN</td>\n",
              "      <td>NaN</td>\n",
              "      <td>NaN</td>\n",
              "      <td>NaN</td>\n",
              "      <td>17</td>\n",
              "      <td>NaN</td>\n",
              "      <td>1</td>\n",
              "    </tr>\n",
              "    <tr>\n",
              "      <th>top</th>\n",
              "      <td>NaN</td>\n",
              "      <td>NaN</td>\n",
              "      <td>NaN</td>\n",
              "      <td>NaN</td>\n",
              "      <td>NaN</td>\n",
              "      <td>NaN</td>\n",
              "      <td>NaN</td>\n",
              "      <td>NaN</td>\n",
              "      <td>NaN</td>\n",
              "      <td>NaN</td>\n",
              "      <td>NaN</td>\n",
              "      <td>NaN</td>\n",
              "      <td>NaN</td>\n",
              "      <td>NaN</td>\n",
              "      <td>NaN</td>\n",
              "      <td>NNE</td>\n",
              "      <td>NaN</td>\n",
              "      <td>Shunyi</td>\n",
              "    </tr>\n",
              "    <tr>\n",
              "      <th>freq</th>\n",
              "      <td>NaN</td>\n",
              "      <td>NaN</td>\n",
              "      <td>NaN</td>\n",
              "      <td>NaN</td>\n",
              "      <td>NaN</td>\n",
              "      <td>NaN</td>\n",
              "      <td>NaN</td>\n",
              "      <td>NaN</td>\n",
              "      <td>NaN</td>\n",
              "      <td>NaN</td>\n",
              "      <td>NaN</td>\n",
              "      <td>NaN</td>\n",
              "      <td>NaN</td>\n",
              "      <td>NaN</td>\n",
              "      <td>NaN</td>\n",
              "      <td>4540</td>\n",
              "      <td>NaN</td>\n",
              "      <td>35010</td>\n",
              "    </tr>\n",
              "    <tr>\n",
              "      <th>mean</th>\n",
              "      <td>17526.187861</td>\n",
              "      <td>2014.661411</td>\n",
              "      <td>6.528278</td>\n",
              "      <td>15.724907</td>\n",
              "      <td>11.500114</td>\n",
              "      <td>79.490475</td>\n",
              "      <td>98.757936</td>\n",
              "      <td>13.576606</td>\n",
              "      <td>43.914211</td>\n",
              "      <td>1187.144452</td>\n",
              "      <td>55.221957</td>\n",
              "      <td>13.387265</td>\n",
              "      <td>1013.062975</td>\n",
              "      <td>2.465036</td>\n",
              "      <td>0.061100</td>\n",
              "      <td>NaN</td>\n",
              "      <td>1.807644</td>\n",
              "      <td>NaN</td>\n",
              "    </tr>\n",
              "    <tr>\n",
              "      <th>std</th>\n",
              "      <td>10123.155987</td>\n",
              "      <td>1.177138</td>\n",
              "      <td>3.447051</td>\n",
              "      <td>8.799894</td>\n",
              "      <td>6.923325</td>\n",
              "      <td>80.181199</td>\n",
              "      <td>88.470557</td>\n",
              "      <td>19.213969</td>\n",
              "      <td>30.396193</td>\n",
              "      <td>1120.144926</td>\n",
              "      <td>53.723193</td>\n",
              "      <td>11.483828</td>\n",
              "      <td>10.177159</td>\n",
              "      <td>13.726622</td>\n",
              "      <td>0.761701</td>\n",
              "      <td>NaN</td>\n",
              "      <td>1.287808</td>\n",
              "      <td>NaN</td>\n",
              "    </tr>\n",
              "    <tr>\n",
              "      <th>min</th>\n",
              "      <td>1.000000</td>\n",
              "      <td>2013.000000</td>\n",
              "      <td>1.000000</td>\n",
              "      <td>1.000000</td>\n",
              "      <td>0.000000</td>\n",
              "      <td>2.000000</td>\n",
              "      <td>2.000000</td>\n",
              "      <td>0.285600</td>\n",
              "      <td>2.000000</td>\n",
              "      <td>100.000000</td>\n",
              "      <td>0.214200</td>\n",
              "      <td>-16.800000</td>\n",
              "      <td>988.000000</td>\n",
              "      <td>-36.000000</td>\n",
              "      <td>0.000000</td>\n",
              "      <td>NaN</td>\n",
              "      <td>0.000000</td>\n",
              "      <td>NaN</td>\n",
              "    </tr>\n",
              "    <tr>\n",
              "      <th>25%</th>\n",
              "      <td>8756.250000</td>\n",
              "      <td>2014.000000</td>\n",
              "      <td>4.000000</td>\n",
              "      <td>8.000000</td>\n",
              "      <td>5.250000</td>\n",
              "      <td>20.000000</td>\n",
              "      <td>32.000000</td>\n",
              "      <td>2.000000</td>\n",
              "      <td>20.000000</td>\n",
              "      <td>500.000000</td>\n",
              "      <td>11.000000</td>\n",
              "      <td>3.000000</td>\n",
              "      <td>1004.700000</td>\n",
              "      <td>-8.800000</td>\n",
              "      <td>0.000000</td>\n",
              "      <td>NaN</td>\n",
              "      <td>1.000000</td>\n",
              "      <td>NaN</td>\n",
              "    </tr>\n",
              "    <tr>\n",
              "      <th>50%</th>\n",
              "      <td>17540.500000</td>\n",
              "      <td>2015.000000</td>\n",
              "      <td>7.000000</td>\n",
              "      <td>16.000000</td>\n",
              "      <td>11.000000</td>\n",
              "      <td>57.000000</td>\n",
              "      <td>79.000000</td>\n",
              "      <td>5.140800</td>\n",
              "      <td>39.000000</td>\n",
              "      <td>900.000000</td>\n",
              "      <td>47.000000</td>\n",
              "      <td>14.400000</td>\n",
              "      <td>1012.700000</td>\n",
              "      <td>3.100000</td>\n",
              "      <td>0.000000</td>\n",
              "      <td>NaN</td>\n",
              "      <td>1.500000</td>\n",
              "      <td>NaN</td>\n",
              "    </tr>\n",
              "    <tr>\n",
              "      <th>75%</th>\n",
              "      <td>26293.750000</td>\n",
              "      <td>2016.000000</td>\n",
              "      <td>10.000000</td>\n",
              "      <td>23.000000</td>\n",
              "      <td>18.000000</td>\n",
              "      <td>109.000000</td>\n",
              "      <td>137.000000</td>\n",
              "      <td>16.000000</td>\n",
              "      <td>61.000000</td>\n",
              "      <td>1500.000000</td>\n",
              "      <td>76.000000</td>\n",
              "      <td>23.200000</td>\n",
              "      <td>1021.000000</td>\n",
              "      <td>15.100000</td>\n",
              "      <td>0.000000</td>\n",
              "      <td>NaN</td>\n",
              "      <td>2.300000</td>\n",
              "      <td>NaN</td>\n",
              "    </tr>\n",
              "    <tr>\n",
              "      <th>max</th>\n",
              "      <td>35064.000000</td>\n",
              "      <td>2017.000000</td>\n",
              "      <td>12.000000</td>\n",
              "      <td>31.000000</td>\n",
              "      <td>23.000000</td>\n",
              "      <td>941.000000</td>\n",
              "      <td>999.000000</td>\n",
              "      <td>239.000000</td>\n",
              "      <td>258.000000</td>\n",
              "      <td>10000.000000</td>\n",
              "      <td>351.716400</td>\n",
              "      <td>40.600000</td>\n",
              "      <td>1042.800000</td>\n",
              "      <td>27.500000</td>\n",
              "      <td>37.300000</td>\n",
              "      <td>NaN</td>\n",
              "      <td>12.800000</td>\n",
              "      <td>NaN</td>\n",
              "    </tr>\n",
              "  </tbody>\n",
              "</table>\n",
              "</div>\n",
              "    <div class=\"colab-df-buttons\">\n",
              "\n",
              "  <div class=\"colab-df-container\">\n",
              "    <button class=\"colab-df-convert\" onclick=\"convertToInteractive('df-b4b05d44-1dcd-4c13-8eee-02ec2d8241c9')\"\n",
              "            title=\"Convert this dataframe to an interactive table.\"\n",
              "            style=\"display:none;\">\n",
              "\n",
              "  <svg xmlns=\"http://www.w3.org/2000/svg\" height=\"24px\" viewBox=\"0 -960 960 960\">\n",
              "    <path d=\"M120-120v-720h720v720H120Zm60-500h600v-160H180v160Zm220 220h160v-160H400v160Zm0 220h160v-160H400v160ZM180-400h160v-160H180v160Zm440 0h160v-160H620v160ZM180-180h160v-160H180v160Zm440 0h160v-160H620v160Z\"/>\n",
              "  </svg>\n",
              "    </button>\n",
              "\n",
              "  <style>\n",
              "    .colab-df-container {\n",
              "      display:flex;\n",
              "      gap: 12px;\n",
              "    }\n",
              "\n",
              "    .colab-df-convert {\n",
              "      background-color: #E8F0FE;\n",
              "      border: none;\n",
              "      border-radius: 50%;\n",
              "      cursor: pointer;\n",
              "      display: none;\n",
              "      fill: #1967D2;\n",
              "      height: 32px;\n",
              "      padding: 0 0 0 0;\n",
              "      width: 32px;\n",
              "    }\n",
              "\n",
              "    .colab-df-convert:hover {\n",
              "      background-color: #E2EBFA;\n",
              "      box-shadow: 0px 1px 2px rgba(60, 64, 67, 0.3), 0px 1px 3px 1px rgba(60, 64, 67, 0.15);\n",
              "      fill: #174EA6;\n",
              "    }\n",
              "\n",
              "    .colab-df-buttons div {\n",
              "      margin-bottom: 4px;\n",
              "    }\n",
              "\n",
              "    [theme=dark] .colab-df-convert {\n",
              "      background-color: #3B4455;\n",
              "      fill: #D2E3FC;\n",
              "    }\n",
              "\n",
              "    [theme=dark] .colab-df-convert:hover {\n",
              "      background-color: #434B5C;\n",
              "      box-shadow: 0px 1px 3px 1px rgba(0, 0, 0, 0.15);\n",
              "      filter: drop-shadow(0px 1px 2px rgba(0, 0, 0, 0.3));\n",
              "      fill: #FFFFFF;\n",
              "    }\n",
              "  </style>\n",
              "\n",
              "    <script>\n",
              "      const buttonEl =\n",
              "        document.querySelector('#df-b4b05d44-1dcd-4c13-8eee-02ec2d8241c9 button.colab-df-convert');\n",
              "      buttonEl.style.display =\n",
              "        google.colab.kernel.accessAllowed ? 'block' : 'none';\n",
              "\n",
              "      async function convertToInteractive(key) {\n",
              "        const element = document.querySelector('#df-b4b05d44-1dcd-4c13-8eee-02ec2d8241c9');\n",
              "        const dataTable =\n",
              "          await google.colab.kernel.invokeFunction('convertToInteractive',\n",
              "                                                    [key], {});\n",
              "        if (!dataTable) return;\n",
              "\n",
              "        const docLinkHtml = 'Like what you see? Visit the ' +\n",
              "          '<a target=\"_blank\" href=https://colab.research.google.com/notebooks/data_table.ipynb>data table notebook</a>'\n",
              "          + ' to learn more about interactive tables.';\n",
              "        element.innerHTML = '';\n",
              "        dataTable['output_type'] = 'display_data';\n",
              "        await google.colab.output.renderOutput(dataTable, element);\n",
              "        const docLink = document.createElement('div');\n",
              "        docLink.innerHTML = docLinkHtml;\n",
              "        element.appendChild(docLink);\n",
              "      }\n",
              "    </script>\n",
              "  </div>\n",
              "\n",
              "\n",
              "<div id=\"df-a6f38077-5963-4806-97ca-fc59e34d9f09\">\n",
              "  <button class=\"colab-df-quickchart\" onclick=\"quickchart('df-a6f38077-5963-4806-97ca-fc59e34d9f09')\"\n",
              "            title=\"Suggest charts\"\n",
              "            style=\"display:none;\">\n",
              "\n",
              "<svg xmlns=\"http://www.w3.org/2000/svg\" height=\"24px\"viewBox=\"0 0 24 24\"\n",
              "     width=\"24px\">\n",
              "    <g>\n",
              "        <path d=\"M19 3H5c-1.1 0-2 .9-2 2v14c0 1.1.9 2 2 2h14c1.1 0 2-.9 2-2V5c0-1.1-.9-2-2-2zM9 17H7v-7h2v7zm4 0h-2V7h2v10zm4 0h-2v-4h2v4z\"/>\n",
              "    </g>\n",
              "</svg>\n",
              "  </button>\n",
              "\n",
              "<style>\n",
              "  .colab-df-quickchart {\n",
              "      --bg-color: #E8F0FE;\n",
              "      --fill-color: #1967D2;\n",
              "      --hover-bg-color: #E2EBFA;\n",
              "      --hover-fill-color: #174EA6;\n",
              "      --disabled-fill-color: #AAA;\n",
              "      --disabled-bg-color: #DDD;\n",
              "  }\n",
              "\n",
              "  [theme=dark] .colab-df-quickchart {\n",
              "      --bg-color: #3B4455;\n",
              "      --fill-color: #D2E3FC;\n",
              "      --hover-bg-color: #434B5C;\n",
              "      --hover-fill-color: #FFFFFF;\n",
              "      --disabled-bg-color: #3B4455;\n",
              "      --disabled-fill-color: #666;\n",
              "  }\n",
              "\n",
              "  .colab-df-quickchart {\n",
              "    background-color: var(--bg-color);\n",
              "    border: none;\n",
              "    border-radius: 50%;\n",
              "    cursor: pointer;\n",
              "    display: none;\n",
              "    fill: var(--fill-color);\n",
              "    height: 32px;\n",
              "    padding: 0;\n",
              "    width: 32px;\n",
              "  }\n",
              "\n",
              "  .colab-df-quickchart:hover {\n",
              "    background-color: var(--hover-bg-color);\n",
              "    box-shadow: 0 1px 2px rgba(60, 64, 67, 0.3), 0 1px 3px 1px rgba(60, 64, 67, 0.15);\n",
              "    fill: var(--button-hover-fill-color);\n",
              "  }\n",
              "\n",
              "  .colab-df-quickchart-complete:disabled,\n",
              "  .colab-df-quickchart-complete:disabled:hover {\n",
              "    background-color: var(--disabled-bg-color);\n",
              "    fill: var(--disabled-fill-color);\n",
              "    box-shadow: none;\n",
              "  }\n",
              "\n",
              "  .colab-df-spinner {\n",
              "    border: 2px solid var(--fill-color);\n",
              "    border-color: transparent;\n",
              "    border-bottom-color: var(--fill-color);\n",
              "    animation:\n",
              "      spin 1s steps(1) infinite;\n",
              "  }\n",
              "\n",
              "  @keyframes spin {\n",
              "    0% {\n",
              "      border-color: transparent;\n",
              "      border-bottom-color: var(--fill-color);\n",
              "      border-left-color: var(--fill-color);\n",
              "    }\n",
              "    20% {\n",
              "      border-color: transparent;\n",
              "      border-left-color: var(--fill-color);\n",
              "      border-top-color: var(--fill-color);\n",
              "    }\n",
              "    30% {\n",
              "      border-color: transparent;\n",
              "      border-left-color: var(--fill-color);\n",
              "      border-top-color: var(--fill-color);\n",
              "      border-right-color: var(--fill-color);\n",
              "    }\n",
              "    40% {\n",
              "      border-color: transparent;\n",
              "      border-right-color: var(--fill-color);\n",
              "      border-top-color: var(--fill-color);\n",
              "    }\n",
              "    60% {\n",
              "      border-color: transparent;\n",
              "      border-right-color: var(--fill-color);\n",
              "    }\n",
              "    80% {\n",
              "      border-color: transparent;\n",
              "      border-right-color: var(--fill-color);\n",
              "      border-bottom-color: var(--fill-color);\n",
              "    }\n",
              "    90% {\n",
              "      border-color: transparent;\n",
              "      border-bottom-color: var(--fill-color);\n",
              "    }\n",
              "  }\n",
              "</style>\n",
              "\n",
              "  <script>\n",
              "    async function quickchart(key) {\n",
              "      const quickchartButtonEl =\n",
              "        document.querySelector('#' + key + ' button');\n",
              "      quickchartButtonEl.disabled = true;  // To prevent multiple clicks.\n",
              "      quickchartButtonEl.classList.add('colab-df-spinner');\n",
              "      try {\n",
              "        const charts = await google.colab.kernel.invokeFunction(\n",
              "            'suggestCharts', [key], {});\n",
              "      } catch (error) {\n",
              "        console.error('Error during call to suggestCharts:', error);\n",
              "      }\n",
              "      quickchartButtonEl.classList.remove('colab-df-spinner');\n",
              "      quickchartButtonEl.classList.add('colab-df-quickchart-complete');\n",
              "    }\n",
              "    (() => {\n",
              "      let quickchartButtonEl =\n",
              "        document.querySelector('#df-a6f38077-5963-4806-97ca-fc59e34d9f09 button');\n",
              "      quickchartButtonEl.style.display =\n",
              "        google.colab.kernel.accessAllowed ? 'block' : 'none';\n",
              "    })();\n",
              "  </script>\n",
              "</div>\n",
              "    </div>\n",
              "  </div>\n"
            ],
            "application/vnd.google.colaboratory.intrinsic+json": {
              "type": "dataframe",
              "summary": "{\n  \"name\": \"df\",\n  \"rows\": 11,\n  \"fields\": [\n    {\n      \"column\": \"No\",\n      \"properties\": {\n        \"dtype\": \"number\",\n        \"std\": 12627.707932056786,\n        \"min\": 1.0,\n        \"max\": 35064.0,\n        \"num_unique_values\": 8,\n        \"samples\": [\n          17526.187860611255,\n          17540.5,\n          35010.0\n        ],\n        \"semantic_type\": \"\",\n        \"description\": \"\"\n      }\n    },\n    {\n      \"column\": \"year\",\n      \"properties\": {\n        \"dtype\": \"number\",\n        \"std\": 11788.30517918162,\n        \"min\": 1.1771381204059952,\n        \"max\": 35010.0,\n        \"num_unique_values\": 8,\n        \"samples\": [\n          2014.6614110254213,\n          2015.0,\n          35010.0\n        ],\n        \"semantic_type\": \"\",\n        \"description\": \"\"\n      }\n    },\n    {\n      \"column\": \"month\",\n      \"properties\": {\n        \"dtype\": \"number\",\n        \"std\": 12375.683624465259,\n        \"min\": 1.0,\n        \"max\": 35010.0,\n        \"num_unique_values\": 8,\n        \"samples\": [\n          6.52827763496144,\n          7.0,\n          35010.0\n        ],\n        \"semantic_type\": \"\",\n        \"description\": \"\"\n      }\n    },\n    {\n      \"column\": \"day\",\n      \"properties\": {\n        \"dtype\": \"number\",\n        \"std\": 12372.678903342381,\n        \"min\": 1.0,\n        \"max\": 35010.0,\n        \"num_unique_values\": 8,\n        \"samples\": [\n          15.724907169380177,\n          16.0,\n          35010.0\n        ],\n        \"semantic_type\": \"\",\n        \"description\": \"\"\n      }\n    },\n    {\n      \"column\": \"hour\",\n      \"properties\": {\n        \"dtype\": \"number\",\n        \"std\": 12374.084218121696,\n        \"min\": 0.0,\n        \"max\": 35010.0,\n        \"num_unique_values\": 8,\n        \"samples\": [\n          11.500114253070551,\n          11.0,\n          35010.0\n        ],\n        \"semantic_type\": \"\",\n        \"description\": \"\"\n      }\n    },\n    {\n      \"column\": \"PM2.5\",\n      \"properties\": {\n        \"dtype\": \"number\",\n        \"std\": 12316.740449481995,\n        \"min\": 2.0,\n        \"max\": 35010.0,\n        \"num_unique_values\": 8,\n        \"samples\": [\n          79.4904750822228,\n          57.0,\n          35010.0\n        ],\n        \"semantic_type\": \"\",\n        \"description\": \"\"\n      }\n    },\n    {\n      \"column\": \"PM10\",\n      \"properties\": {\n        \"dtype\": \"number\",\n        \"std\": 12309.698689276544,\n        \"min\": 2.0,\n        \"max\": 35010.0,\n        \"num_unique_values\": 8,\n        \"samples\": [\n          98.757936400735,\n          79.0,\n          35010.0\n        ],\n        \"semantic_type\": \"\",\n        \"description\": \"\"\n      }\n    },\n    {\n      \"column\": \"SO2\",\n      \"properties\": {\n        \"dtype\": \"number\",\n        \"std\": 12363.256435373649,\n        \"min\": 0.2856,\n        \"max\": 35010.0,\n        \"num_unique_values\": 8,\n        \"samples\": [\n          13.57660567092314,\n          5.1408,\n          35010.0\n        ],\n        \"semantic_type\": \"\",\n        \"description\": \"\"\n      }\n    },\n    {\n      \"column\": \"NO2\",\n      \"properties\": {\n        \"dtype\": \"number\",\n        \"std\": 12355.221558611636,\n        \"min\": 2.0,\n        \"max\": 35010.0,\n        \"num_unique_values\": 8,\n        \"samples\": [\n          43.91421091980562,\n          39.0,\n          35010.0\n        ],\n        \"semantic_type\": \"\",\n        \"description\": \"\"\n      }\n    },\n    {\n      \"column\": \"CO\",\n      \"properties\": {\n        \"dtype\": \"number\",\n        \"std\": 12042.813122375846,\n        \"min\": 100.0,\n        \"max\": 35010.0,\n        \"num_unique_values\": 8,\n        \"samples\": [\n          1187.144452482043,\n          900.0,\n          35010.0\n        ],\n        \"semantic_type\": \"\",\n        \"description\": \"\"\n      }\n    },\n    {\n      \"column\": \"O3\",\n      \"properties\": {\n        \"dtype\": \"number\",\n        \"std\": 12348.362812080883,\n        \"min\": 0.2142,\n        \"max\": 35010.0,\n        \"num_unique_values\": 8,\n        \"samples\": [\n          55.22195664010236,\n          47.0,\n          35010.0\n        ],\n        \"semantic_type\": \"\",\n        \"description\": \"\"\n      }\n    },\n    {\n      \"column\": \"TEMP\",\n      \"properties\": {\n        \"dtype\": \"number\",\n        \"std\": 12373.406058300365,\n        \"min\": -16.8,\n        \"max\": 35010.0,\n        \"num_unique_values\": 8,\n        \"samples\": [\n          13.387265404895654,\n          14.4,\n          35010.0\n        ],\n        \"semantic_type\": \"\",\n        \"description\": \"\"\n      }\n    },\n    {\n      \"column\": \"PRES\",\n      \"properties\": {\n        \"dtype\": \"number\",\n        \"std\": 12075.306427746773,\n        \"min\": 10.177158966545916,\n        \"max\": 35010.0,\n        \"num_unique_values\": 8,\n        \"samples\": [\n          1013.0629746623621,\n          1012.7,\n          35010.0\n        ],\n        \"semantic_type\": \"\",\n        \"description\": \"\"\n      }\n    },\n    {\n      \"column\": \"DEWP\",\n      \"properties\": {\n        \"dtype\": \"number\",\n        \"std\": 12377.055489066084,\n        \"min\": -36.0,\n        \"max\": 35010.0,\n        \"num_unique_values\": 8,\n        \"samples\": [\n          2.465035704084548,\n          3.1,\n          35010.0\n        ],\n        \"semantic_type\": \"\",\n        \"description\": \"\"\n      }\n    },\n    {\n      \"column\": \"RAIN\",\n      \"properties\": {\n        \"dtype\": \"number\",\n        \"std\": 12375.98554744035,\n        \"min\": 0.0,\n        \"max\": 35010.0,\n        \"num_unique_values\": 5,\n        \"samples\": [\n          0.06109968580405597,\n          37.3,\n          0.761700915574263\n        ],\n        \"semantic_type\": \"\",\n        \"description\": \"\"\n      }\n    },\n    {\n      \"column\": \"wd\",\n      \"properties\": {\n        \"dtype\": \"category\",\n        \"num_unique_values\": 4,\n        \"samples\": [\n          17,\n          \"4540\",\n          \"35010\"\n        ],\n        \"semantic_type\": \"\",\n        \"description\": \"\"\n      }\n    },\n    {\n      \"column\": \"WSPM\",\n      \"properties\": {\n        \"dtype\": \"number\",\n        \"std\": 12376.859596665447,\n        \"min\": 0.0,\n        \"max\": 35010.0,\n        \"num_unique_values\": 8,\n        \"samples\": [\n          1.80764353041988,\n          1.5,\n          35010.0\n        ],\n        \"semantic_type\": \"\",\n        \"description\": \"\"\n      }\n    },\n    {\n      \"column\": \"station\",\n      \"properties\": {\n        \"dtype\": \"category\",\n        \"num_unique_values\": 3,\n        \"samples\": [\n          \"35010\",\n          1,\n          \"Shunyi\"\n        ],\n        \"semantic_type\": \"\",\n        \"description\": \"\"\n      }\n    }\n  ]\n}"
            }
          },
          "metadata": {},
          "execution_count": 45
        }
      ],
      "source": [
        "df.describe(include=\"all\")"
      ]
    },
    {
      "cell_type": "markdown",
      "source": [
        "Based on the table above, we have 35010 total rows to be analyzed. This is a time-series dataset, which ranging from March 1st 2013 until February 28th 2017. The dataset contains a detail information 24-hours non-stop about Air Quality in Shunyi.\n",
        "\n",
        "Based on the dataset, it can be known that the highest temperature is 40,6°C and the lowest is -16°C.\n",
        "\n",
        "For the atmospheric pressure (PRES), it can be seen that the highest is 1042,8 hPa and the lowest it 988 hPa.\n",
        "\n",
        "The dew point temperature, the highest point is 27,5°C and the lowest is -36°C.\n",
        "\n",
        "For the amount of precipitation, the highest is 37,3 mm and the lowest is 0 mm.\n",
        "\n",
        "However, the wind speed got the highest point at 12,8 m/s and the lowest at 0 m/s.\n",
        "\n",
        "For more information about each pollutant concentrations can be seen above."
      ],
      "metadata": {
        "id": "6TCH3h8IKS_S"
      }
    },
    {
      "cell_type": "markdown",
      "source": [
        "As we know that AQI is based on the measurement of five most abundantly found pollutants in the air: PM2.5, PM10, SO2 (Sulphur Dioxide), NO2, (Nitrogen Dioxide), CO (Carbon Monoxide), O3 (Ozone).\n",
        "\n",
        "Let's take a look on when each of these pollutants reaches its highest value?"
      ],
      "metadata": {
        "id": "7XDVrY-QNyuW"
      }
    },
    {
      "cell_type": "code",
      "source": [
        "# Find the date and time when each pollutant reaches its highest value\n",
        "max_pm25 = df[df['PM2.5'] == df['PM2.5'].max()]\n",
        "max_pm10 = df[df['PM10'] == df['PM10'].max()]\n",
        "max_so2 = df[df['SO2'] == df['SO2'].max()]\n",
        "max_no2 = df[df['NO2'] == df['NO2'].max()]\n",
        "max_co = df[df['CO'] == df['CO'].max()]\n",
        "max_o3 = df[df['O3'] == df['O3'].max()]"
      ],
      "metadata": {
        "id": "nulqNE2sObU-"
      },
      "execution_count": 46,
      "outputs": []
    },
    {
      "cell_type": "code",
      "source": [
        "# Print the results\n",
        "print(\"Date and time when each pollutant reaches its highest value:\")\n",
        "print(\"PM2.5:\", max_pm25[['year', 'month', 'day', 'hour']])\n",
        "print(\"PM10:\", max_pm10[['year', 'month', 'day', 'hour']])\n",
        "print(\"SO2:\", max_so2[['year', 'month', 'day', 'hour']])\n",
        "print(\"NO2:\", max_no2[['year', 'month', 'day', 'hour']])\n",
        "print(\"CO:\", max_co[['year', 'month', 'day', 'hour']])\n",
        "print(\"O3:\", max_o3[['year', 'month', 'day', 'hour']])"
      ],
      "metadata": {
        "colab": {
          "base_uri": "https://localhost:8080/"
        },
        "id": "9Ip3aq8tO1Eq",
        "outputId": "7707076d-09a9-4ef2-add4-5fb0d7357694"
      },
      "execution_count": 47,
      "outputs": [
        {
          "output_type": "stream",
          "name": "stdout",
          "text": [
            "Date and time when each pollutant reaches its highest value:\n",
            "PM2.5:        year  month  day  hour\n",
            "25778  2016      2    8     2\n",
            "PM10:        year  month  day  hour\n",
            "18620  2015      4   15    20\n",
            "SO2:        year  month  day  hour\n",
            "25777  2016      2    8     1\n",
            "NO2:        year  month  day  hour\n",
            "33713  2017      1    3    17\n",
            "CO:        year  month  day  hour\n",
            "19821  2015      6    4    21\n",
            "19822  2015      6    4    22\n",
            "19823  2015      6    4    23\n",
            "19824  2015      6    5     0\n",
            "19828  2015      6    5     4\n",
            "19830  2015      6    5     6\n",
            "24139  2015     12    1    19\n",
            "O3:       year  month  day  hour\n",
            "3639  2013      7   30    15\n"
          ]
        }
      ]
    },
    {
      "cell_type": "markdown",
      "source": [
        " Cool! What about we explore when each of these pollutants reaches its lowest value?"
      ],
      "metadata": {
        "id": "-Sbp2hzeWwgB"
      }
    },
    {
      "cell_type": "code",
      "source": [
        "# Find the date and time when each pollutant reaches its lowest value\n",
        "min_pm25 = df[df['PM2.5'] == df['PM2.5'].min()]\n",
        "min_pm10 = df[df['PM10'] == df['PM10'].min()]\n",
        "min_so2 = df[df['SO2'] == df['SO2'].min()]\n",
        "min_no2 = df[df['NO2'] == df['NO2'].min()]\n",
        "min_co = df[df['CO'] == df['CO'].min()]\n",
        "min_o3 = df[df['O3'] == df['O3'].min()]"
      ],
      "metadata": {
        "id": "rjIVDjBsW4FH"
      },
      "execution_count": 48,
      "outputs": []
    },
    {
      "cell_type": "code",
      "source": [
        "# Print the results\n",
        "print(\"Date and time when each pollutant reaches its lowest value:\")\n",
        "print(\"PM2.5:\", min_pm25[['year', 'month', 'day', 'hour']])\n",
        "print(\"PM10:\", min_pm10[['year', 'month', 'day', 'hour']])\n",
        "print(\"SO2:\", min_so2[['year', 'month', 'day', 'hour']])\n",
        "print(\"NO2:\", min_no2[['year', 'month', 'day', 'hour']])\n",
        "print(\"CO:\", min_co[['year', 'month', 'day', 'hour']])\n",
        "print(\"O3:\", min_o3[['year', 'month', 'day', 'hour']])"
      ],
      "metadata": {
        "colab": {
          "base_uri": "https://localhost:8080/"
        },
        "id": "fsfKC5LlXBgd",
        "outputId": "39530f5b-bfc6-42c9-a66a-b7e83ea65e0e"
      },
      "execution_count": 49,
      "outputs": [
        {
          "output_type": "stream",
          "name": "stdout",
          "text": [
            "Date and time when each pollutant reaches its lowest value:\n",
            "PM2.5:        year  month  day  hour\n",
            "33940  2017      1   13     4\n",
            "33941  2017      1   13     5\n",
            "33953  2017      1   13    17\n",
            "33965  2017      1   14     5\n",
            "33974  2017      1   14    14\n",
            "PM10:       year  month  day  hour\n",
            "853   2013      4    5    13\n",
            "978   2013      4   10    18\n",
            "2429  2013      6   10     5\n",
            "2468  2013      6   11    20\n",
            "3767  2013      8    4    23\n",
            "3821  2013      8    7     5\n",
            "4349  2013      8   29     5\n",
            "4494  2013      9    4     6\n",
            "SO2:       year  month  day  hour\n",
            "999   2013      4   11    15\n",
            "2438  2013      6   10    14\n",
            "2440  2013      6   10    16\n",
            "3448  2013      7   22    16\n",
            "3476  2013      7   23    20\n",
            "3487  2013      7   24     7\n",
            "3488  2013      7   24     8\n",
            "3489  2013      7   24     9\n",
            "3589  2013      7   28    13\n",
            "3596  2013      7   28    20\n",
            "3612  2013      7   29    12\n",
            "3613  2013      7   29    13\n",
            "3723  2013      8    3     3\n",
            "3724  2013      8    3     4\n",
            "3732  2013      8    3    12\n",
            "3734  2013      8    3    14\n",
            "3735  2013      8    3    15\n",
            "3736  2013      8    3    16\n",
            "NO2:        year  month  day  hour\n",
            "290    2013      3   13     2\n",
            "2306   2013      6    5     2\n",
            "2595   2013      6   17     3\n",
            "9747   2014      4   11     3\n",
            "9748   2014      4   11     4\n",
            "...     ...    ...  ...   ...\n",
            "34264  2017      1   26    16\n",
            "34407  2017      2    1    15\n",
            "34523  2017      2    6    11\n",
            "34576  2017      2    8    16\n",
            "34768  2017      2   16    16\n",
            "\n",
            "[225 rows x 4 columns]\n",
            "CO:        year  month  day  hour\n",
            "196    2013      3    9     4\n",
            "290    2013      3   13     2\n",
            "292    2013      3   13     4\n",
            "484    2013      3   21     4\n",
            "676    2013      3   29     4\n",
            "...     ...    ...  ...   ...\n",
            "34888  2017      2   21    16\n",
            "34890  2017      2   21    18\n",
            "34891  2017      2   21    19\n",
            "34941  2017      2   23    21\n",
            "35035  2017      2   27    19\n",
            "\n",
            "[944 rows x 4 columns]\n",
            "O3:       year  month  day  hour\n",
            "581   2013      3   25     5\n",
            "3385  2013      7   20     1\n",
            "3571  2013      7   27    19\n",
            "3695  2013      8    1    23\n",
            "4061  2013      8   17     5\n",
            "5767  2013     10   27     7\n",
            "5783  2013     10   27    23\n",
            "5788  2013     10   28     4\n",
            "5808  2013     10   29     0\n",
            "5812  2013     10   29     4\n",
            "5833  2013     10   30     1\n",
            "5836  2013     10   30     4\n",
            "5857  2013     10   31     1\n",
            "5860  2013     10   31     4\n",
            "5882  2013     11    1     2\n",
            "5885  2013     11    1     5\n",
            "5906  2013     11    2     2\n",
            "5982  2013     11    5     6\n",
            "6003  2013     11    6     3\n",
            "6007  2013     11    6     7\n",
            "6049  2013     11    8     1\n",
            "6050  2013     11    8     2\n",
            "6076  2013     11    9     4\n",
            "6077  2013     11    9     5\n",
            "6148  2013     11   12     4\n",
            "6150  2013     11   12     6\n",
            "6169  2013     11   13     1\n",
            "6170  2013     11   13     2\n",
            "6174  2013     11   13     6\n",
            "6175  2013     11   13     7\n"
          ]
        }
      ]
    },
    {
      "cell_type": "markdown",
      "source": [
        "Now, let's dig into the mean and median of each pollutants from the time range that has given."
      ],
      "metadata": {
        "id": "G1MHdTYYXR7y"
      }
    },
    {
      "cell_type": "code",
      "source": [
        "# Calculate mean or median concentration of each pollutant\n",
        "pollutant_mean = df[['PM2.5', 'PM10', 'SO2', 'NO2', 'CO', 'O3']].mean()\n",
        "pollutant_median = df[['PM2.5', 'PM10', 'SO2', 'NO2', 'CO', 'O3']].median()"
      ],
      "metadata": {
        "id": "KM0i5duNTWV4"
      },
      "execution_count": 50,
      "outputs": []
    },
    {
      "cell_type": "code",
      "source": [
        "# Print the mean and median concentrations of pollutants\n",
        "print(\"Mean concentrations of pollutants:\")\n",
        "print(pollutant_mean)\n",
        "print(\"\\nMedian concentrations of pollutants:\")\n",
        "print(pollutant_median)"
      ],
      "metadata": {
        "colab": {
          "base_uri": "https://localhost:8080/"
        },
        "id": "z_Hvl-yQTYJ6",
        "outputId": "45ecd779-581d-4fec-ffa5-60afeae4ab3a"
      },
      "execution_count": 51,
      "outputs": [
        {
          "output_type": "stream",
          "name": "stdout",
          "text": [
            "Mean concentrations of pollutants:\n",
            "PM2.5      79.490475\n",
            "PM10       98.757936\n",
            "SO2        13.576606\n",
            "NO2        43.914211\n",
            "CO       1187.144452\n",
            "O3         55.221957\n",
            "dtype: float64\n",
            "\n",
            "Median concentrations of pollutants:\n",
            "PM2.5     57.0000\n",
            "PM10      79.0000\n",
            "SO2        5.1408\n",
            "NO2       39.0000\n",
            "CO       900.0000\n",
            "O3        47.0000\n",
            "dtype: float64\n"
          ]
        }
      ]
    },
    {
      "cell_type": "markdown",
      "source": [
        "From this time range, can we know when was Shunyi got the highest Air Quality Index (AQI)? Of course! Here is how:"
      ],
      "metadata": {
        "id": "bwZIDN01YbtP"
      }
    },
    {
      "cell_type": "code",
      "source": [
        "# define a function to calculate AQI\n",
        "def calculate_aqi(pm25, pm10, so2, no2, co, o3):\n",
        "    # parameter contains each pollutant concentrations\n",
        "    aqi = max(pm25, pm10, so2, no2, co, o3)\n",
        "    return aqi\n",
        "\n",
        "# Calculate AQI for each day\n",
        "df['AQI'] = df.apply(lambda row: calculate_aqi(row['PM2.5'], row['PM10'], row['SO2'], row['NO2'], row['CO'], row['O3']), axis=1)\n",
        "\n",
        "# Find the day with the highest AQI\n",
        "day_max_aqi = df.loc[df['AQI'].idxmax()]\n",
        "\n",
        "# Extract the date components\n",
        "highest_aqi_date = day_max_aqi[['year', 'month', 'day']]\n",
        "\n",
        "# Format the date\n",
        "date_str = f\"{highest_aqi_date['month']}/{highest_aqi_date['day']}/{highest_aqi_date['year']}\"\n",
        "\n",
        "# Print the result\n",
        "print(\"The day with the highest AQI in Shunyi:\")\n",
        "print(f\"- Date: {date_str}\")\n",
        "print(f\"- AQI: {day_max_aqi['AQI']}\")"
      ],
      "metadata": {
        "colab": {
          "base_uri": "https://localhost:8080/"
        },
        "id": "r22p1LDuYwhe",
        "outputId": "70064ef2-8704-406a-ee61-46840e362fed"
      },
      "execution_count": 70,
      "outputs": [
        {
          "output_type": "stream",
          "name": "stdout",
          "text": [
            "The day with the highest AQI in Shunyi:\n",
            "- Date: 6/4/2015\n",
            "- AQI: 10000.0\n"
          ]
        }
      ]
    },
    {
      "cell_type": "markdown",
      "source": [
        "According to airnow.gov, the Air Quality Index (AQI) typically ranges from 0 to 500. An AQI value of 10000.0 is indeed seems unrealistic. It would suggest extremely hazardous air quality conditions.\n",
        "\n",
        "There are few possible reasons why we got this such high AQI value:\n",
        "1. Data input error\n",
        "2. Outlier: It needs a deeper research to give a limitation for each pollutant concentrations in terms of this times range.\n",
        "\n",
        "After carefully review the data, we will surely get the valid AQI value. But for this project, let's just take it as a valid value."
      ],
      "metadata": {
        "id": "yIvJmE_ZeOEz"
      }
    },
    {
      "cell_type": "markdown",
      "metadata": {
        "id": "zsyZjqak8DC2"
      },
      "source": [
        "## Visualization & Explanatory Analysis"
      ]
    },
    {
      "cell_type": "markdown",
      "source": [
        "###**Question 1: Which pollutants are most prevalent in the Shunyi area?**"
      ],
      "metadata": {
        "id": "kau9sEhhxYdS"
      }
    },
    {
      "cell_type": "code",
      "source": [
        "plt.figure(figsize=(10, 6))\n",
        "\n",
        "pollutant_mean.plot(kind='bar', color='red')\n",
        "\n",
        "plt.title(\"Mean Concentrations of Pollutants\", loc=\"center\", fontsize=15)\n",
        "\n",
        "plt.xlabel('Pollutant')\n",
        "\n",
        "plt.ylabel('Concentration (µg/m³ or ppm)')\n",
        "\n",
        "plt.xticks(rotation=0)\n",
        "\n",
        "plt.show()"
      ],
      "metadata": {
        "colab": {
          "base_uri": "https://localhost:8080/",
          "height": 586
        },
        "id": "w1WtAd0dTfXp",
        "outputId": "c2423dc9-ac93-4130-ceb8-8e7fc3677c60"
      },
      "execution_count": 53,
      "outputs": [
        {
          "output_type": "display_data",
          "data": {
            "text/plain": [
              "<Figure size 1000x600 with 1 Axes>"
            ],
            "image/png": "[encoded data removed]"
          },
          "metadata": {}
        }
      ]
    },
    {
      "cell_type": "markdown",
      "metadata": {
        "id": "DgHI7CiU8DC2"
      },
      "source": [
        "### **Question 2: How is the impact of weather variables on each pollutant concentrations in Shunyi?**\n"
      ]
    },
    {
      "cell_type": "code",
      "source": [
        "weather_variables = ['TEMP', 'PRES', 'DEWP', 'RAIN', 'WSPM']\n",
        "pollutants = ['PM2.5', 'PM10', 'SO2', 'NO2', 'CO', 'O3']\n",
        "selected_columns = weather_variables + pollutants\n",
        "\n",
        "# Calculate the correlation matrix\n",
        "correlation_matrix = df[selected_columns].corr()\n",
        "\n",
        "# Create a heatmap\n",
        "plt.figure(figsize=(10, 8))\n",
        "sns.heatmap(correlation_matrix, annot=True, cmap='coolwarm', fmt=\".2f\", vmin=-1, vmax=1)\n",
        "plt.title('Correlation between Weather Variables and Pollutant Concentrations')\n",
        "plt.xlabel('Pollutants')\n",
        "plt.ylabel('Weather Variables')\n",
        "plt.xticks(rotation=45)\n",
        "plt.yticks(rotation=0)\n",
        "plt.tight_layout()\n",
        "plt.show()"
      ],
      "metadata": {
        "colab": {
          "base_uri": "https://localhost:8080/",
          "height": 628
        },
        "id": "MaxvVV_5UtLd",
        "outputId": "d9c0cd2d-60fe-4d79-a138-3981044fde46"
      },
      "execution_count": 66,
      "outputs": [
        {
          "output_type": "display_data",
          "data": {
            "text/plain": [
              "<Figure size 1000x800 with 2 Axes>"
            ],
            "image/png": "[encoded data removed]"
          },
          "metadata": {}
        }
      ]
    },
    {
      "cell_type": "markdown",
      "source": [],
      "metadata": {
        "id": "RTgpdahXznQ3"
      }
    },
    {
      "cell_type": "code",
      "source": [
        "df.to_csv(\"all_data.csv\", index=False)"
      ],
      "metadata": {
        "id": "_YDT6YvXJAdW"
      },
      "execution_count": 94,
      "outputs": []
    },
    {
      "cell_type": "markdown",
      "metadata": {
        "id": "_WeHlCeX8DC2"
      },
      "source": [
        "## Conclusion"
      ]
    },
    {
      "cell_type": "markdown",
      "metadata": {
        "id": "ZTcyR48Y8DC2"
      },
      "source": [
        "- **Conclution question 1:**\n",
        "\n",
        "Pollutant concentration that are most prevalent in Shunyi area is CO (Carbon Monoxide) which has mean at 1187.144452 in the time range that has given (March 1st 2013 until February 28th 2017).\n",
        "\n",
        "- **Conclution question 2:**\n",
        "\n",
        "1. Temperature (TEMP) shows a strong negative correlation with atmospheric pressure (PRES) (-0.83) and a moderate positive correlation with dew point temperature (DEWP) (0.82). This suggests that higher temperatures are associated with lower atmospheric pressure and higher dew point temperatures.\n",
        "\n",
        "2. Atmospheric pressure (PRES) has a strong negative correlation with temperature (-0.83) and a moderate negative correlation with dew point temperature (-0.76). This indicates that higher atmospheric pressure tends to occur with lower temperatures and dew point temperatures.\n",
        "\n",
        "3. Dew point temperature (DEWP) shows a strong positive correlation with temperature (0.82) and a moderate negative correlation with atmospheric pressure (-0.76). This implies that higher dew point temperatures are associated with higher temperatures and lower atmospheric pressure.\n",
        "\n",
        "4. Wind speed (WSPM) exhibits a weak positive correlation with temperature (0.06) and a moderate negative correlation with dew point temperature (-0.26). This suggests that higher wind speeds are slightly associated with higher temperatures and lower dew point temperatures.\n",
        "\n",
        "**Pollutant concentrations:**\n",
        "1. PM2.5 and PM10 have a strong positive correlation (0.90), indicating that they tend to increase or decrease together.\n",
        "\n",
        "2. SO2, NO2, and CO show moderate to strong positive correlations with each other (ranging from 0.45 to 0.66), indicating similar behavior in their concentrations.\n",
        "3. O3 has a weak negative correlation with temperature (-0.13) and a moderate negative correlation with atmospheric pressure (-0.42). This suggests that higher temperatures and lower atmospheric pressure are associated with lower ozone concentrations.\n",
        "\n",
        "Weather variables such as temperature, atmospheric pressure, dew point temperature, and wind speed have significant correlations with each other, indicating interdependencies. Additionally, certain pollutants show correlations with each other and with weather variables. However, further analysis are required to establish causality and understand the underlying mechanisms."
      ]
    },
    {
      "cell_type": "markdown",
      "source": [],
      "metadata": {
        "id": "QU-sC6KMU2G-"
      }
    }
  ],
  "metadata": {
    "kernelspec": {
      "display_name": "Python 3",
      "language": "python",
      "name": "python3"
    },
    "language_info": {
      "name": "python",
      "version": "3.8.0 (tags/v3.8.0:fa919fd, Oct 14 2019, 19:21:23) [MSC v.1916 32 bit (Intel)]"
    },
    "orig_nbformat": 4,
    "vscode": {
      "interpreter": {
        "hash": "972b3bf27e332e87b5379f2791f6ef9dfc79c71018c370b0d7423235e20fe4d7"
      }
    },
    "colab": {
      "provenance": [],
      "include_colab_link": true
    }
  },
  "nbformat": 4,
  "nbformat_minor": 0
}